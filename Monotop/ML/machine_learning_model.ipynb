{
 "metadata": {
  "language_info": {
   "codemirror_mode": {
    "name": "ipython",
    "version": 3
   },
   "file_extension": ".py",
   "mimetype": "text/x-python",
   "name": "python",
   "nbconvert_exporter": "python",
   "pygments_lexer": "ipython3",
   "version": "3.8.2-final"
  },
  "orig_nbformat": 2,
  "kernelspec": {
   "name": "python_defaultSpec_1597004903341",
   "display_name": "Python 3.8.2 64-bit"
  }
 },
 "nbformat": 4,
 "nbformat_minor": 2,
 "cells": [
  {
   "cell_type": "code",
   "execution_count": 1,
   "metadata": {},
   "outputs": [],
   "source": [
    "import pandas as pd\n",
    "import numpy as np\n",
    "import os\n",
    "import matplotlib.pyplot as plt\n",
    "from config import Archive_Path\n",
    "from os.path import join\n",
    "from glob import glob\n",
    "from tqdm import tqdm\n",
    "from sklearn.model_selection import train_test_split\n",
    "from tensorflow import keras\n",
    "import tensorflow as tf\n",
    "from datetime import datetime"
   ]
  },
  {
   "cell_type": "code",
   "execution_count": 2,
   "metadata": {
    "tags": []
   },
   "outputs": [
    {
     "output_type": "stream",
     "name": "stdout",
     "text": "Num GPUs Available:  1\n"
    }
   ],
   "source": [
    "# Check if GPU is working\n",
    "print(\"Num GPUs Available: \", len(tf.config.experimental.list_physical_devices('GPU')))"
   ]
  },
  {
   "cell_type": "markdown",
   "metadata": {},
   "source": [
    "# Machine Learning Model"
   ]
  },
  {
   "cell_type": "markdown",
   "metadata": {},
   "source": [
    "### Importing the Data"
   ]
  },
  {
   "cell_type": "code",
   "execution_count": 3,
   "metadata": {},
   "outputs": [],
   "source": [
    "BKG_DATA = pd.read_hdf(join(Archive_Path,\"Data.h5\"), key=\"BKG\").drop(columns=['Name'])\n",
    "SIGNAL_DATA = pd.read_hdf(join(Archive_Path,\"Data.h5\"), key=\"SIGNAL\").drop(columns=['Name'])\n",
    "DATA = pd.concat([BKG_DATA, SIGNAL_DATA])"
   ]
  },
  {
   "cell_type": "code",
   "execution_count": 4,
   "metadata": {},
   "outputs": [
    {
     "output_type": "execute_result",
     "data": {
      "text/plain": "       CaloJet08_Multi  CaloJet081_PT  CaloJet082_PT  CaloJet083_PT  \\\ncount     1.772235e+06   1.772235e+06   1.772235e+06   1.772235e+06   \nmean      3.685888e+00   1.924753e+02   7.989907e+01   4.203439e+01   \nstd       1.641729e+00   1.366093e+02   6.436673e+01   3.561796e+01   \nmin       1.000000e+00   2.501421e+01   0.000000e+00   0.000000e+00   \n25%       2.000000e+00   8.491979e+01   4.466983e+01   0.000000e+00   \n50%       4.000000e+00   1.356442e+02   6.704461e+01   4.143578e+01   \n75%       5.000000e+00   2.936485e+02   9.751515e+01   6.068507e+01   \nmax       1.300000e+01   2.371039e+03   2.324182e+03   8.493058e+02   \n\n       CaloJet084_PT  CaloJet085_PT  CaloJet081_Mass  CaloJet082_Mass  \\\ncount   1.772235e+06   1.772235e+06     1.772235e+06     1.772235e+06   \nmean    2.351185e+01   1.184000e+01     5.162890e+01     1.708310e+01   \nstd     2.605611e+01   1.898772e+01     4.757459e+01     1.818846e+01   \nmin     0.000000e+00   0.000000e+00    -6.103516e-05    -4.315837e-05   \n25%     0.000000e+00   0.000000e+00     1.509789e+01     7.041093e+00   \n50%     2.613684e+01   0.000000e+00     3.105266e+01     1.243063e+01   \n75%     4.166824e+01   2.834414e+01     7.773482e+01     2.096646e+01   \nmax     4.599241e+02   2.559038e+02     7.576913e+02     5.322263e+02   \n\n       CaloJet083_Mass  CaloJet084_Mass  ...  Electron2_PT  Electron1_Eta  \\\ncount     1.772235e+06     1.772235e+06  ...     1772235.0      1772235.0   \nmean      8.818363e+00     5.035360e+00  ...           0.0            0.0   \nstd       9.129737e+00     6.438302e+00  ...           0.0            0.0   \nmin      -2.642900e-05    -3.051758e-05  ...           0.0            0.0   \n25%       0.000000e+00     0.000000e+00  ...           0.0            0.0   \n50%       7.545066e+00     2.162168e+00  ...           0.0            0.0   \n75%       1.290246e+01     8.899518e+00  ...           0.0            0.0   \nmax       2.131065e+02     1.560580e+02  ...           0.0            0.0   \n\n       Electron2_Eta  Electron1_Phi  Electron2_Phi  MissingET_MET  \\\ncount      1772235.0      1772235.0      1772235.0   1.772235e+06   \nmean             0.0            0.0            0.0   1.465916e+02   \nstd              0.0            0.0            0.0   1.715873e+02   \nmin              0.0            0.0            0.0   3.349080e-02   \n25%              0.0            0.0            0.0   1.783631e+01   \n50%              0.0            0.0            0.0   3.746904e+01   \n75%              0.0            0.0            0.0   3.139219e+02   \nmax              0.0            0.0            0.0   1.887764e+03   \n\n       MissingET_Phi   ScalarHT_HT       Weights         Label  \ncount   1.772235e+06  1.772235e+06  1.772235e+06  1.772235e+06  \nmean   -6.436436e-04  5.241840e+02  9.157562e-04  3.699233e-01  \nstd     1.813562e+00  1.985588e+02  4.002377e-03  4.827838e-01  \nmin    -3.141589e+00  4.780229e+01  2.064089e-08  0.000000e+00  \n25%    -1.570792e+00  3.963231e+02  2.064089e-08  0.000000e+00  \n50%    -3.075163e-03  5.058563e+02  2.242673e-04  0.000000e+00  \n75%     1.570583e+00  6.210413e+02  2.242673e-04  1.000000e+00  \nmax     3.141587e+00  4.956182e+03  2.453500e-02  1.000000e+00  \n\n[8 rows x 71 columns]",
      "text/html": "<div>\n<style scoped>\n    .dataframe tbody tr th:only-of-type {\n        vertical-align: middle;\n    }\n\n    .dataframe tbody tr th {\n        vertical-align: top;\n    }\n\n    .dataframe thead th {\n        text-align: right;\n    }\n</style>\n<table border=\"1\" class=\"dataframe\">\n  <thead>\n    <tr style=\"text-align: right;\">\n      <th></th>\n      <th>CaloJet08_Multi</th>\n      <th>CaloJet081_PT</th>\n      <th>CaloJet082_PT</th>\n      <th>CaloJet083_PT</th>\n      <th>CaloJet084_PT</th>\n      <th>CaloJet085_PT</th>\n      <th>CaloJet081_Mass</th>\n      <th>CaloJet082_Mass</th>\n      <th>CaloJet083_Mass</th>\n      <th>CaloJet084_Mass</th>\n      <th>...</th>\n      <th>Electron2_PT</th>\n      <th>Electron1_Eta</th>\n      <th>Electron2_Eta</th>\n      <th>Electron1_Phi</th>\n      <th>Electron2_Phi</th>\n      <th>MissingET_MET</th>\n      <th>MissingET_Phi</th>\n      <th>ScalarHT_HT</th>\n      <th>Weights</th>\n      <th>Label</th>\n    </tr>\n  </thead>\n  <tbody>\n    <tr>\n      <th>count</th>\n      <td>1.772235e+06</td>\n      <td>1.772235e+06</td>\n      <td>1.772235e+06</td>\n      <td>1.772235e+06</td>\n      <td>1.772235e+06</td>\n      <td>1.772235e+06</td>\n      <td>1.772235e+06</td>\n      <td>1.772235e+06</td>\n      <td>1.772235e+06</td>\n      <td>1.772235e+06</td>\n      <td>...</td>\n      <td>1772235.0</td>\n      <td>1772235.0</td>\n      <td>1772235.0</td>\n      <td>1772235.0</td>\n      <td>1772235.0</td>\n      <td>1.772235e+06</td>\n      <td>1.772235e+06</td>\n      <td>1.772235e+06</td>\n      <td>1.772235e+06</td>\n      <td>1.772235e+06</td>\n    </tr>\n    <tr>\n      <th>mean</th>\n      <td>3.685888e+00</td>\n      <td>1.924753e+02</td>\n      <td>7.989907e+01</td>\n      <td>4.203439e+01</td>\n      <td>2.351185e+01</td>\n      <td>1.184000e+01</td>\n      <td>5.162890e+01</td>\n      <td>1.708310e+01</td>\n      <td>8.818363e+00</td>\n      <td>5.035360e+00</td>\n      <td>...</td>\n      <td>0.0</td>\n      <td>0.0</td>\n      <td>0.0</td>\n      <td>0.0</td>\n      <td>0.0</td>\n      <td>1.465916e+02</td>\n      <td>-6.436436e-04</td>\n      <td>5.241840e+02</td>\n      <td>9.157562e-04</td>\n      <td>3.699233e-01</td>\n    </tr>\n    <tr>\n      <th>std</th>\n      <td>1.641729e+00</td>\n      <td>1.366093e+02</td>\n      <td>6.436673e+01</td>\n      <td>3.561796e+01</td>\n      <td>2.605611e+01</td>\n      <td>1.898772e+01</td>\n      <td>4.757459e+01</td>\n      <td>1.818846e+01</td>\n      <td>9.129737e+00</td>\n      <td>6.438302e+00</td>\n      <td>...</td>\n      <td>0.0</td>\n      <td>0.0</td>\n      <td>0.0</td>\n      <td>0.0</td>\n      <td>0.0</td>\n      <td>1.715873e+02</td>\n      <td>1.813562e+00</td>\n      <td>1.985588e+02</td>\n      <td>4.002377e-03</td>\n      <td>4.827838e-01</td>\n    </tr>\n    <tr>\n      <th>min</th>\n      <td>1.000000e+00</td>\n      <td>2.501421e+01</td>\n      <td>0.000000e+00</td>\n      <td>0.000000e+00</td>\n      <td>0.000000e+00</td>\n      <td>0.000000e+00</td>\n      <td>-6.103516e-05</td>\n      <td>-4.315837e-05</td>\n      <td>-2.642900e-05</td>\n      <td>-3.051758e-05</td>\n      <td>...</td>\n      <td>0.0</td>\n      <td>0.0</td>\n      <td>0.0</td>\n      <td>0.0</td>\n      <td>0.0</td>\n      <td>3.349080e-02</td>\n      <td>-3.141589e+00</td>\n      <td>4.780229e+01</td>\n      <td>2.064089e-08</td>\n      <td>0.000000e+00</td>\n    </tr>\n    <tr>\n      <th>25%</th>\n      <td>2.000000e+00</td>\n      <td>8.491979e+01</td>\n      <td>4.466983e+01</td>\n      <td>0.000000e+00</td>\n      <td>0.000000e+00</td>\n      <td>0.000000e+00</td>\n      <td>1.509789e+01</td>\n      <td>7.041093e+00</td>\n      <td>0.000000e+00</td>\n      <td>0.000000e+00</td>\n      <td>...</td>\n      <td>0.0</td>\n      <td>0.0</td>\n      <td>0.0</td>\n      <td>0.0</td>\n      <td>0.0</td>\n      <td>1.783631e+01</td>\n      <td>-1.570792e+00</td>\n      <td>3.963231e+02</td>\n      <td>2.064089e-08</td>\n      <td>0.000000e+00</td>\n    </tr>\n    <tr>\n      <th>50%</th>\n      <td>4.000000e+00</td>\n      <td>1.356442e+02</td>\n      <td>6.704461e+01</td>\n      <td>4.143578e+01</td>\n      <td>2.613684e+01</td>\n      <td>0.000000e+00</td>\n      <td>3.105266e+01</td>\n      <td>1.243063e+01</td>\n      <td>7.545066e+00</td>\n      <td>2.162168e+00</td>\n      <td>...</td>\n      <td>0.0</td>\n      <td>0.0</td>\n      <td>0.0</td>\n      <td>0.0</td>\n      <td>0.0</td>\n      <td>3.746904e+01</td>\n      <td>-3.075163e-03</td>\n      <td>5.058563e+02</td>\n      <td>2.242673e-04</td>\n      <td>0.000000e+00</td>\n    </tr>\n    <tr>\n      <th>75%</th>\n      <td>5.000000e+00</td>\n      <td>2.936485e+02</td>\n      <td>9.751515e+01</td>\n      <td>6.068507e+01</td>\n      <td>4.166824e+01</td>\n      <td>2.834414e+01</td>\n      <td>7.773482e+01</td>\n      <td>2.096646e+01</td>\n      <td>1.290246e+01</td>\n      <td>8.899518e+00</td>\n      <td>...</td>\n      <td>0.0</td>\n      <td>0.0</td>\n      <td>0.0</td>\n      <td>0.0</td>\n      <td>0.0</td>\n      <td>3.139219e+02</td>\n      <td>1.570583e+00</td>\n      <td>6.210413e+02</td>\n      <td>2.242673e-04</td>\n      <td>1.000000e+00</td>\n    </tr>\n    <tr>\n      <th>max</th>\n      <td>1.300000e+01</td>\n      <td>2.371039e+03</td>\n      <td>2.324182e+03</td>\n      <td>8.493058e+02</td>\n      <td>4.599241e+02</td>\n      <td>2.559038e+02</td>\n      <td>7.576913e+02</td>\n      <td>5.322263e+02</td>\n      <td>2.131065e+02</td>\n      <td>1.560580e+02</td>\n      <td>...</td>\n      <td>0.0</td>\n      <td>0.0</td>\n      <td>0.0</td>\n      <td>0.0</td>\n      <td>0.0</td>\n      <td>1.887764e+03</td>\n      <td>3.141587e+00</td>\n      <td>4.956182e+03</td>\n      <td>2.453500e-02</td>\n      <td>1.000000e+00</td>\n    </tr>\n  </tbody>\n</table>\n<p>8 rows × 71 columns</p>\n</div>"
     },
     "metadata": {},
     "execution_count": 4
    }
   ],
   "source": [
    "DATA.describe()"
   ]
  },
  {
   "cell_type": "code",
   "execution_count": 5,
   "metadata": {},
   "outputs": [
    {
     "output_type": "execute_result",
     "data": {
      "text/plain": "   CaloJet08_Multi  CaloJet081_PT  CaloJet082_PT  CaloJet083_PT  \\\n1                5      78.134315      60.740273      55.594318   \n2                5     129.468018      71.359200      65.418617   \n3                7     164.014664     152.203461      82.661522   \n4                5      53.296463      49.864231      48.902733   \n5                7     118.069626      86.860306      70.204033   \n\n   CaloJet084_PT  CaloJet085_PT  CaloJet081_Mass  CaloJet082_Mass  \\\n1      44.602814      39.342297        19.603081        18.443394   \n2      46.171494      41.627316        59.793392         7.372412   \n3      73.987976      71.653145        76.315224        62.576714   \n4      31.403723      26.936249        13.913019        13.436581   \n5      45.998665      35.320221        31.692238        33.111141   \n\n   CaloJet083_Mass  CaloJet084_Mass  ...  Electron2_PT  Electron1_Eta  \\\n1        17.563574         8.237407  ...           0.0            0.0   \n2         8.538475        18.765919  ...           0.0            0.0   \n3        23.927755         7.749176  ...           0.0            0.0   \n4         9.532109         7.225173  ...           0.0            0.0   \n5        14.984803         8.827754  ...           0.0            0.0   \n\n   Electron2_Eta  Electron1_Phi  Electron2_Phi  MissingET_MET  MissingET_Phi  \\\n1            0.0            0.0            0.0      21.268677      -1.515701   \n2            0.0            0.0            0.0       6.481680       2.171233   \n3            0.0            0.0            0.0       4.985295      -1.499350   \n4            0.0            0.0            0.0      12.073826       0.026459   \n5            0.0            0.0            0.0      26.777517      -0.862058   \n\n   ScalarHT_HT   Weights  Label  \n1   475.996521  0.000224      0  \n2   468.308167  0.000224      0  \n3   851.039490  0.000224      0  \n4   271.788544  0.000224      0  \n5   528.228027  0.000224      0  \n\n[5 rows x 71 columns]",
      "text/html": "<div>\n<style scoped>\n    .dataframe tbody tr th:only-of-type {\n        vertical-align: middle;\n    }\n\n    .dataframe tbody tr th {\n        vertical-align: top;\n    }\n\n    .dataframe thead th {\n        text-align: right;\n    }\n</style>\n<table border=\"1\" class=\"dataframe\">\n  <thead>\n    <tr style=\"text-align: right;\">\n      <th></th>\n      <th>CaloJet08_Multi</th>\n      <th>CaloJet081_PT</th>\n      <th>CaloJet082_PT</th>\n      <th>CaloJet083_PT</th>\n      <th>CaloJet084_PT</th>\n      <th>CaloJet085_PT</th>\n      <th>CaloJet081_Mass</th>\n      <th>CaloJet082_Mass</th>\n      <th>CaloJet083_Mass</th>\n      <th>CaloJet084_Mass</th>\n      <th>...</th>\n      <th>Electron2_PT</th>\n      <th>Electron1_Eta</th>\n      <th>Electron2_Eta</th>\n      <th>Electron1_Phi</th>\n      <th>Electron2_Phi</th>\n      <th>MissingET_MET</th>\n      <th>MissingET_Phi</th>\n      <th>ScalarHT_HT</th>\n      <th>Weights</th>\n      <th>Label</th>\n    </tr>\n  </thead>\n  <tbody>\n    <tr>\n      <th>1</th>\n      <td>5</td>\n      <td>78.134315</td>\n      <td>60.740273</td>\n      <td>55.594318</td>\n      <td>44.602814</td>\n      <td>39.342297</td>\n      <td>19.603081</td>\n      <td>18.443394</td>\n      <td>17.563574</td>\n      <td>8.237407</td>\n      <td>...</td>\n      <td>0.0</td>\n      <td>0.0</td>\n      <td>0.0</td>\n      <td>0.0</td>\n      <td>0.0</td>\n      <td>21.268677</td>\n      <td>-1.515701</td>\n      <td>475.996521</td>\n      <td>0.000224</td>\n      <td>0</td>\n    </tr>\n    <tr>\n      <th>2</th>\n      <td>5</td>\n      <td>129.468018</td>\n      <td>71.359200</td>\n      <td>65.418617</td>\n      <td>46.171494</td>\n      <td>41.627316</td>\n      <td>59.793392</td>\n      <td>7.372412</td>\n      <td>8.538475</td>\n      <td>18.765919</td>\n      <td>...</td>\n      <td>0.0</td>\n      <td>0.0</td>\n      <td>0.0</td>\n      <td>0.0</td>\n      <td>0.0</td>\n      <td>6.481680</td>\n      <td>2.171233</td>\n      <td>468.308167</td>\n      <td>0.000224</td>\n      <td>0</td>\n    </tr>\n    <tr>\n      <th>3</th>\n      <td>7</td>\n      <td>164.014664</td>\n      <td>152.203461</td>\n      <td>82.661522</td>\n      <td>73.987976</td>\n      <td>71.653145</td>\n      <td>76.315224</td>\n      <td>62.576714</td>\n      <td>23.927755</td>\n      <td>7.749176</td>\n      <td>...</td>\n      <td>0.0</td>\n      <td>0.0</td>\n      <td>0.0</td>\n      <td>0.0</td>\n      <td>0.0</td>\n      <td>4.985295</td>\n      <td>-1.499350</td>\n      <td>851.039490</td>\n      <td>0.000224</td>\n      <td>0</td>\n    </tr>\n    <tr>\n      <th>4</th>\n      <td>5</td>\n      <td>53.296463</td>\n      <td>49.864231</td>\n      <td>48.902733</td>\n      <td>31.403723</td>\n      <td>26.936249</td>\n      <td>13.913019</td>\n      <td>13.436581</td>\n      <td>9.532109</td>\n      <td>7.225173</td>\n      <td>...</td>\n      <td>0.0</td>\n      <td>0.0</td>\n      <td>0.0</td>\n      <td>0.0</td>\n      <td>0.0</td>\n      <td>12.073826</td>\n      <td>0.026459</td>\n      <td>271.788544</td>\n      <td>0.000224</td>\n      <td>0</td>\n    </tr>\n    <tr>\n      <th>5</th>\n      <td>7</td>\n      <td>118.069626</td>\n      <td>86.860306</td>\n      <td>70.204033</td>\n      <td>45.998665</td>\n      <td>35.320221</td>\n      <td>31.692238</td>\n      <td>33.111141</td>\n      <td>14.984803</td>\n      <td>8.827754</td>\n      <td>...</td>\n      <td>0.0</td>\n      <td>0.0</td>\n      <td>0.0</td>\n      <td>0.0</td>\n      <td>0.0</td>\n      <td>26.777517</td>\n      <td>-0.862058</td>\n      <td>528.228027</td>\n      <td>0.000224</td>\n      <td>0</td>\n    </tr>\n  </tbody>\n</table>\n<p>5 rows × 71 columns</p>\n</div>"
     },
     "metadata": {},
     "execution_count": 5
    }
   ],
   "source": [
    "DATA.head()"
   ]
  },
  {
   "cell_type": "code",
   "execution_count": 6,
   "metadata": {},
   "outputs": [],
   "source": [
    "# Delete variables to save up RAM\n",
    "del BKG_DATA\n",
    "del SIGNAL_DATA"
   ]
  },
  {
   "cell_type": "markdown",
   "metadata": {},
   "source": [
    "### Splitting the data"
   ]
  },
  {
   "cell_type": "code",
   "execution_count": 7,
   "metadata": {},
   "outputs": [],
   "source": [
    "# Test, Val, Train  -> 1/3 of the data\n",
    "X_train, X_test, y_train, y_test = train_test_split(DATA.drop(columns=['Label']), DATA['Label'], test_size=1/3, random_state=42)\n",
    "\n",
    "X_train, X_val, y_train, y_val = train_test_split(X_train, y_train, test_size=0.5, random_state=42) \n",
    "\n",
    "# Release RAM\n",
    "del DATA"
   ]
  },
  {
   "cell_type": "markdown",
   "metadata": {},
   "source": [
    "### Standardization of the data"
   ]
  },
  {
   "cell_type": "code",
   "execution_count": 8,
   "metadata": {},
   "outputs": [],
   "source": [
    "class Standardization(keras.layers.Layer):\n",
    "    def adapt(self, data_sample):\n",
    "        self.means_ = np.mean(data_sample, axis=0, keepdims=True)\n",
    "        self.stds_ = np.std(data_sample, axis=0, keepdims=True)\n",
    "    def call(self, inputs):\n",
    "        return (inputs - self.means_) / (self.stds_ + keras.backend.epsilon())\n",
    "        \n",
    "std_layer = Standardization()\n",
    "std_layer.adapt(X_train.drop(columns=['Weights']).to_numpy())"
   ]
  },
  {
   "cell_type": "markdown",
   "metadata": {},
   "source": [
    "Definir as class_weights para os dados de treino"
   ]
  },
  {
   "cell_type": "code",
   "execution_count": 9,
   "metadata": {},
   "outputs": [],
   "source": [
    "class_weights = {\n",
    "    0: 1,\n",
    "    1: len([x for x in y_train if x == 0]) / len([x for x in y_train if x == 1]) \n",
    "    # Nº de elementos da classe de referencia a dividir pelo nº de elementos da classe atual\n",
    "    # Ref = sinal\n",
    "}"
   ]
  },
  {
   "cell_type": "markdown",
   "metadata": {},
   "source": [
    "## Built the model"
   ]
  },
  {
   "cell_type": "code",
   "execution_count": 10,
   "metadata": {},
   "outputs": [],
   "source": [
    "inputs = keras.layers.Input(shape=(X_train.shape[1]-1,))\n",
    "std = std_layer\n",
    "\n",
    "l1 = keras.layers.Dense(100, activation='relu')(inputs)\n",
    "d1 = keras.layers.Dropout(0.1)(l1, training=True)\n",
    "\n",
    "l2 = keras.layers.Dense(100, activation='relu')(d1)\n",
    "d2 = keras.layers.Dropout(0.1)(l2, training=True)\n",
    "\n",
    "l3 = keras.layers.Dense(100, activation='relu')(d2)\n",
    "d3 = keras.layers.Dropout(0.1)(l3, training=True)\n",
    "\n",
    "l3 = keras.layers.Dense(30, activation='relu')(d2)\n",
    "d3 = keras.layers.Dropout(0.1)(l3, training=True)\n",
    "\n",
    "outputs = keras.layers.Dense(1, activation='sigmoid')(d3)\n",
    "\n",
    "\n",
    "model = keras.Model(inputs, outputs)\n",
    "\n",
    "model.compile(\n",
    "              optimizer='adam', \n",
    "              loss=\"binary_crossentropy\", \n",
    "              metrics=[\"accuracy\", keras.metrics.AUC()]\n",
    "              )"
   ]
  },
  {
   "cell_type": "code",
   "execution_count": 11,
   "metadata": {
    "tags": []
   },
   "outputs": [
    {
     "output_type": "stream",
     "name": "stdout",
     "text": "Model: \"functional_1\"\n_________________________________________________________________\nLayer (type)                 Output Shape              Param #   \n=================================================================\ninput_1 (InputLayer)         [(None, 69)]              0         \n_________________________________________________________________\ndense (Dense)                (None, 100)               7000      \n_________________________________________________________________\ndropout (Dropout)            (None, 100)               0         \n_________________________________________________________________\ndense_1 (Dense)              (None, 100)               10100     \n_________________________________________________________________\ndropout_1 (Dropout)          (None, 100)               0         \n_________________________________________________________________\ndense_3 (Dense)              (None, 30)                3030      \n_________________________________________________________________\ndropout_3 (Dropout)          (None, 30)                0         \n_________________________________________________________________\ndense_4 (Dense)              (None, 1)                 31        \n=================================================================\nTotal params: 20,161\nTrainable params: 20,161\nNon-trainable params: 0\n_________________________________________________________________\n"
    }
   ],
   "source": [
    "model.summary()"
   ]
  },
  {
   "cell_type": "code",
   "execution_count": 12,
   "metadata": {},
   "outputs": [],
   "source": [
    "# Model name\n",
    "name = str(datetime.now().strftime(\"%d/%m/%Y-%H:%M:%S\"))\n",
    "\n",
    "# Tensorboard\n",
    "TB = keras.callbacks.TensorBoard(log_dir=\"logs/\" + name, write_images=True)\n",
    "\n",
    "# Early Stopping\n",
    "ES = keras.callbacks.EarlyStopping(monitor=\"loss\", patience=30, verbose=2, mode=\"min\")\n",
    "\n",
    "# Model Checkpoint\n",
    "MC = keras.callbacks.ModelCheckpoint(filepath=\"models/\" + name + \"/\", save_best_only=True, monitor=\"val_loss\", mode=\"min\")"
   ]
  },
  {
   "cell_type": "markdown",
   "metadata": {},
   "source": [
    "### Starting Training!"
   ]
  },
  {
   "cell_type": "code",
   "execution_count": 13,
   "metadata": {
    "tags": [
     "outputPrepend"
    ]
   },
   "outputs": [
    {
     "output_type": "stream",
     "name": "stdout",
     "text": " - auc: 0.9346 - val_loss: 0.5607 - val_accuracy: 0.9409 - val_auc: 0.9517\nEpoch 126/500\n1154/1154 [==============================] - 5s 4ms/step - loss: 3.8448e-08 - accuracy: 0.9369 - auc: 0.9497 - val_loss: 0.6270 - val_accuracy: 0.9071 - val_auc: 0.9454\nEpoch 127/500\n1154/1154 [==============================] - 6s 5ms/step - loss: 3.5776e-08 - accuracy: 0.9232 - auc: 0.9526 - val_loss: 0.4811 - val_accuracy: 0.9386 - val_auc: 0.9592\nEpoch 128/500\n1154/1154 [==============================] - 5s 4ms/step - loss: 4.2722e-08 - accuracy: 0.9266 - auc: 0.9457 - val_loss: 0.9443 - val_accuracy: 0.8775 - val_auc: 0.9188\nEpoch 129/500\n1154/1154 [==============================] - 5s 4ms/step - loss: 4.0010e-08 - accuracy: 0.9241 - auc: 0.9421 - val_loss: 0.5108 - val_accuracy: 0.9404 - val_auc: 0.9533\nEpoch 130/500\n1154/1154 [==============================] - 5s 4ms/step - loss: 3.9603e-08 - accuracy: 0.9277 - auc: 0.9432 - val_loss: 0.5026 - val_accuracy: 0.9346 - val_auc: 0.9541\nEpoch 131/500\n1154/1154 [==============================] - 4s 4ms/step - loss: 3.6286e-08 - accuracy: 0.9291 - auc: 0.9476 - val_loss: 0.4892 - val_accuracy: 0.9434 - val_auc: 0.9563\nEpoch 132/500\n1154/1154 [==============================] - 5s 4ms/step - loss: 3.7540e-08 - accuracy: 0.9314 - auc: 0.9482 - val_loss: 0.7305 - val_accuracy: 0.9093 - val_auc: 0.9362\nEpoch 133/500\n1154/1154 [==============================] - 6s 5ms/step - loss: 6.1533e-08 - accuracy: 0.9265 - auc: 0.9446 - val_loss: 0.8982 - val_accuracy: 0.8926 - val_auc: 0.9238\nEpoch 134/500\n1154/1154 [==============================] - 5s 4ms/step - loss: 4.3413e-08 - accuracy: 0.9228 - auc: 0.9407 - val_loss: 0.5991 - val_accuracy: 0.9340 - val_auc: 0.9465\nEpoch 135/500\n1154/1154 [==============================] - 5s 4ms/step - loss: 5.2678e-08 - accuracy: 0.8955 - auc: 0.9227 - val_loss: 0.5079 - val_accuracy: 0.9359 - val_auc: 0.9522\nEpoch 136/500\n1154/1154 [==============================] - 5s 4ms/step - loss: 4.5003e-08 - accuracy: 0.9240 - auc: 0.9403 - val_loss: 0.4871 - val_accuracy: 0.9494 - val_auc: 0.9554\nEpoch 137/500\n1154/1154 [==============================] - 5s 4ms/step - loss: 3.6946e-08 - accuracy: 0.9361 - auc: 0.9488 - val_loss: 1.1767 - val_accuracy: 0.8850 - val_auc: 0.8891\nEpoch 138/500\n1154/1154 [==============================] - 5s 4ms/step - loss: 3.6543e-08 - accuracy: 0.9307 - auc: 0.9427 - val_loss: 0.4918 - val_accuracy: 0.9412 - val_auc: 0.9545\nEpoch 139/500\n1154/1154 [==============================] - 5s 4ms/step - loss: 3.3681e-08 - accuracy: 0.9350 - auc: 0.9520 - val_loss: 0.5193 - val_accuracy: 0.9465 - val_auc: 0.9540\nEpoch 140/500\n1154/1154 [==============================] - 5s 4ms/step - loss: 3.8576e-08 - accuracy: 0.9297 - auc: 0.9447 - val_loss: 0.5355 - val_accuracy: 0.9366 - val_auc: 0.9514\nEpoch 141/500\n1154/1154 [==============================] - 5s 4ms/step - loss: 3.9869e-08 - accuracy: 0.9205 - auc: 0.9407 - val_loss: 0.4875 - val_accuracy: 0.9431 - val_auc: 0.9545\nEpoch 142/500\n1154/1154 [==============================] - 5s 4ms/step - loss: 3.8008e-08 - accuracy: 0.9281 - auc: 0.9470 - val_loss: 0.7571 - val_accuracy: 0.8844 - val_auc: 0.9283\nEpoch 143/500\n1154/1154 [==============================] - 5s 4ms/step - loss: 3.3507e-08 - accuracy: 0.9311 - auc: 0.9510 - val_loss: 0.4576 - val_accuracy: 0.9455 - val_auc: 0.9581\nEpoch 144/500\n1135/1154 [============================>.] - ETA: 0s - loss: 3.2538e-08 - accuracy: 0.9383 - auc: 0.9533INFO:tensorflow:Assets written to: models/09/08/2020-21:28:49/assets\n1154/1154 [==============================] - 5s 5ms/step - loss: 3.2417e-08 - accuracy: 0.9384 - auc: 0.9534 - val_loss: 0.4268 - val_accuracy: 0.9470 - val_auc: 0.9588\nEpoch 145/500\n1154/1154 [==============================] - 5s 4ms/step - loss: 3.1084e-08 - accuracy: 0.9444 - auc: 0.9559 - val_loss: 0.6775 - val_accuracy: 0.9185 - val_auc: 0.9342\nEpoch 146/500\n1154/1154 [==============================] - 5s 4ms/step - loss: 3.1432e-08 - accuracy: 0.9394 - auc: 0.9524 - val_loss: 0.4870 - val_accuracy: 0.9405 - val_auc: 0.9510\nEpoch 147/500\n1154/1154 [==============================] - 5s 4ms/step - loss: 3.5710e-08 - accuracy: 0.9367 - auc: 0.9519 - val_loss: 0.4552 - val_accuracy: 0.9492 - val_auc: 0.9579\nEpoch 148/500\n1154/1154 [==============================] - 5s 4ms/step - loss: 3.5948e-08 - accuracy: 0.9322 - auc: 0.9521 - val_loss: 1.2399 - val_accuracy: 0.8766 - val_auc: 0.8941\nEpoch 149/500\n1154/1154 [==============================] - 5s 4ms/step - loss: 3.5881e-08 - accuracy: 0.9279 - auc: 0.9450 - val_loss: 0.4304 - val_accuracy: 0.9481 - val_auc: 0.9600\nEpoch 150/500\n1136/1154 [============================>.] - ETA: 0s - loss: 3.5658e-08 - accuracy: 0.9274 - auc: 0.9457INFO:tensorflow:Assets written to: models/09/08/2020-21:28:49/assets\n1154/1154 [==============================] - 5s 5ms/step - loss: 3.5497e-08 - accuracy: 0.9277 - auc: 0.9459 - val_loss: 0.4086 - val_accuracy: 0.9527 - val_auc: 0.9599\nEpoch 151/500\n1154/1154 [==============================] - 5s 4ms/step - loss: 4.1882e-08 - accuracy: 0.9303 - auc: 0.9451 - val_loss: 0.7755 - val_accuracy: 0.8737 - val_auc: 0.9160\nEpoch 152/500\n1154/1154 [==============================] - 5s 4ms/step - loss: 3.6479e-08 - accuracy: 0.9257 - auc: 0.9426 - val_loss: 0.4517 - val_accuracy: 0.9455 - val_auc: 0.9544\nEpoch 153/500\n1154/1154 [==============================] - 5s 4ms/step - loss: 3.4518e-08 - accuracy: 0.9305 - auc: 0.9455 - val_loss: 0.5504 - val_accuracy: 0.9277 - val_auc: 0.9459\nEpoch 154/500\n1154/1154 [==============================] - 5s 4ms/step - loss: 3.6201e-08 - accuracy: 0.9287 - auc: 0.9489 - val_loss: 0.4629 - val_accuracy: 0.9395 - val_auc: 0.9583\nEpoch 155/500\n1154/1154 [==============================] - 5s 4ms/step - loss: 3.4271e-08 - accuracy: 0.9325 - auc: 0.9485 - val_loss: 0.8089 - val_accuracy: 0.8752 - val_auc: 0.9131\nEpoch 156/500\n1154/1154 [==============================] - 5s 4ms/step - loss: 3.2983e-08 - accuracy: 0.9295 - auc: 0.9481 - val_loss: 0.4291 - val_accuracy: 0.9435 - val_auc: 0.9572\nEpoch 157/500\n1154/1154 [==============================] - 5s 4ms/step - loss: 3.4499e-08 - accuracy: 0.9320 - auc: 0.9500 - val_loss: 0.4744 - val_accuracy: 0.9370 - val_auc: 0.9549\nEpoch 158/500\n1154/1154 [==============================] - 5s 4ms/step - loss: 3.2989e-08 - accuracy: 0.9364 - auc: 0.9514 - val_loss: 0.4250 - val_accuracy: 0.9487 - val_auc: 0.9587\nEpoch 159/500\n1154/1154 [==============================] - 5s 4ms/step - loss: 3.4563e-08 - accuracy: 0.9364 - auc: 0.9510 - val_loss: 0.4623 - val_accuracy: 0.9450 - val_auc: 0.9541\nEpoch 160/500\n1154/1154 [==============================] - 5s 5ms/step - loss: 3.1291e-08 - accuracy: 0.9412 - auc: 0.9532 - val_loss: 0.4333 - val_accuracy: 0.9470 - val_auc: 0.9583\nEpoch 161/500\n1154/1154 [==============================] - 5s 4ms/step - loss: 3.3873e-08 - accuracy: 0.9356 - auc: 0.9507 - val_loss: 0.5882 - val_accuracy: 0.9127 - val_auc: 0.9447\nEpoch 162/500\n1154/1154 [==============================] - 6s 5ms/step - loss: 3.9784e-08 - accuracy: 0.9222 - auc: 0.9397 - val_loss: 0.6102 - val_accuracy: 0.9292 - val_auc: 0.9378\nEpoch 163/500\n1154/1154 [==============================] - 6s 5ms/step - loss: 7.6825e-08 - accuracy: 0.8845 - auc: 0.9140 - val_loss: 1.6998 - val_accuracy: 0.7123 - val_auc: 0.8467\nEpoch 164/500\n1154/1154 [==============================] - 5s 4ms/step - loss: 5.3828e-08 - accuracy: 0.8592 - auc: 0.9250 - val_loss: 0.6071 - val_accuracy: 0.9197 - val_auc: 0.9453\nEpoch 165/500\n1154/1154 [==============================] - 5s 4ms/step - loss: 4.0972e-08 - accuracy: 0.9047 - auc: 0.9393 - val_loss: 0.5432 - val_accuracy: 0.9158 - val_auc: 0.9507\nEpoch 166/500\n1154/1154 [==============================] - 5s 4ms/step - loss: 3.9788e-08 - accuracy: 0.9116 - auc: 0.9391 - val_loss: 0.5299 - val_accuracy: 0.9247 - val_auc: 0.9485\nEpoch 167/500\n1154/1154 [==============================] - 5s 4ms/step - loss: 3.6418e-08 - accuracy: 0.9271 - auc: 0.9434 - val_loss: 0.6433 - val_accuracy: 0.9012 - val_auc: 0.9416\nEpoch 168/500\n1154/1154 [==============================] - 5s 4ms/step - loss: 3.4120e-08 - accuracy: 0.9282 - auc: 0.9498 - val_loss: 0.4642 - val_accuracy: 0.9453 - val_auc: 0.9558\nEpoch 169/500\n1154/1154 [==============================] - 5s 4ms/step - loss: 3.2564e-08 - accuracy: 0.9395 - auc: 0.9531 - val_loss: 0.4308 - val_accuracy: 0.9461 - val_auc: 0.9587\nEpoch 170/500\n1154/1154 [==============================] - 5s 4ms/step - loss: 3.0013e-08 - accuracy: 0.9399 - auc: 0.9537 - val_loss: 0.4971 - val_accuracy: 0.9369 - val_auc: 0.9518\nEpoch 171/500\n1154/1154 [==============================] - 5s 4ms/step - loss: 2.9165e-08 - accuracy: 0.9393 - auc: 0.9562 - val_loss: 0.5922 - val_accuracy: 0.9262 - val_auc: 0.9444\nEpoch 172/500\n1154/1154 [==============================] - 5s 4ms/step - loss: 3.0529e-08 - accuracy: 0.9396 - auc: 0.9555 - val_loss: 0.5181 - val_accuracy: 0.9303 - val_auc: 0.9509\nEpoch 173/500\n1149/1154 [============================>.] - ETA: 0s - loss: 3.5935e-08 - accuracy: 0.9252 - auc: 0.9484INFO:tensorflow:Assets written to: models/09/08/2020-21:28:49/assets\n1154/1154 [==============================] - 6s 5ms/step - loss: 3.5941e-08 - accuracy: 0.9253 - auc: 0.9484 - val_loss: 0.4000 - val_accuracy: 0.9480 - val_auc: 0.9602\nEpoch 174/500\n1154/1154 [==============================] - 5s 4ms/step - loss: 3.1748e-08 - accuracy: 0.9336 - auc: 0.9486 - val_loss: 0.4692 - val_accuracy: 0.9431 - val_auc: 0.9548\nEpoch 175/500\n1154/1154 [==============================] - 5s 4ms/step - loss: 5.1433e-08 - accuracy: 0.9141 - auc: 0.9344 - val_loss: 0.6114 - val_accuracy: 0.9111 - val_auc: 0.9356\nEpoch 176/500\n1154/1154 [==============================] - 4s 4ms/step - loss: 3.5637e-08 - accuracy: 0.9261 - auc: 0.9469 - val_loss: 0.4340 - val_accuracy: 0.9425 - val_auc: 0.9566\nEpoch 177/500\n1154/1154 [==============================] - 4s 3ms/step - loss: 3.8364e-08 - accuracy: 0.9199 - auc: 0.9378 - val_loss: 0.5925 - val_accuracy: 0.9230 - val_auc: 0.9404\nEpoch 178/500\n1154/1154 [==============================] - 4s 3ms/step - loss: 3.3001e-08 - accuracy: 0.9364 - auc: 0.9464 - val_loss: 0.4301 - val_accuracy: 0.9489 - val_auc: 0.9551\nEpoch 179/500\n1154/1154 [==============================] - 4s 3ms/step - loss: 3.0966e-08 - accuracy: 0.9385 - auc: 0.9512 - val_loss: 0.4533 - val_accuracy: 0.9423 - val_auc: 0.9553\nEpoch 180/500\n1154/1154 [==============================] - 4s 3ms/step - loss: 2.9424e-08 - accuracy: 0.9409 - auc: 0.9531 - val_loss: 0.4159 - val_accuracy: 0.9477 - val_auc: 0.9575\nEpoch 181/500\n1154/1154 [==============================] - 4s 3ms/step - loss: 2.9926e-08 - accuracy: 0.9397 - auc: 0.9519 - val_loss: 0.4657 - val_accuracy: 0.9410 - val_auc: 0.9532\nEpoch 182/500\n1154/1154 [==============================] - 4s 3ms/step - loss: 3.3626e-08 - accuracy: 0.9333 - auc: 0.9449 - val_loss: 0.5565 - val_accuracy: 0.9419 - val_auc: 0.9480\nEpoch 183/500\n1154/1154 [==============================] - 4s 3ms/step - loss: 3.4674e-08 - accuracy: 0.9297 - auc: 0.9467 - val_loss: 0.5296 - val_accuracy: 0.9251 - val_auc: 0.9468\nEpoch 184/500\n1154/1154 [==============================] - 4s 3ms/step - loss: 3.2371e-08 - accuracy: 0.9321 - auc: 0.9472 - val_loss: 0.4916 - val_accuracy: 0.9340 - val_auc: 0.9470\nEpoch 185/500\n1154/1154 [==============================] - 4s 3ms/step - loss: 3.4598e-08 - accuracy: 0.9240 - auc: 0.9405 - val_loss: 0.4526 - val_accuracy: 0.9440 - val_auc: 0.9562\nEpoch 186/500\n1154/1154 [==============================] - 4s 3ms/step - loss: 3.3541e-08 - accuracy: 0.9356 - auc: 0.9475 - val_loss: 0.4858 - val_accuracy: 0.9354 - val_auc: 0.9481\nEpoch 187/500\n1154/1154 [==============================] - 4s 3ms/step - loss: 2.9368e-08 - accuracy: 0.9420 - auc: 0.9531 - val_loss: 0.4754 - val_accuracy: 0.9442 - val_auc: 0.9542\nEpoch 188/500\n1154/1154 [==============================] - 4s 3ms/step - loss: 3.6781e-08 - accuracy: 0.9285 - auc: 0.9448 - val_loss: 0.5295 - val_accuracy: 0.9264 - val_auc: 0.9461\nEpoch 189/500\n1154/1154 [==============================] - 4s 3ms/step - loss: 3.0576e-08 - accuracy: 0.9370 - auc: 0.9513 - val_loss: 0.5672 - val_accuracy: 0.9288 - val_auc: 0.9414\nEpoch 190/500\n1154/1154 [==============================] - 4s 3ms/step - loss: 3.1959e-08 - accuracy: 0.9340 - auc: 0.9504 - val_loss: 0.4630 - val_accuracy: 0.9404 - val_auc: 0.9486\nEpoch 191/500\n1154/1154 [==============================] - 4s 3ms/step - loss: 2.8789e-08 - accuracy: 0.9432 - auc: 0.9547 - val_loss: 0.4144 - val_accuracy: 0.9494 - val_auc: 0.9571\nEpoch 192/500\n1154/1154 [==============================] - 4s 3ms/step - loss: 3.4518e-08 - accuracy: 0.9433 - auc: 0.9550 - val_loss: 1.1815 - val_accuracy: 0.8380 - val_auc: 0.8682\nEpoch 193/500\n1154/1154 [==============================] - 4s 3ms/step - loss: 4.4387e-08 - accuracy: 0.8972 - auc: 0.9166 - val_loss: 0.6017 - val_accuracy: 0.9085 - val_auc: 0.9340\nEpoch 194/500\n1154/1154 [==============================] - 4s 3ms/step - loss: 8.7662e-08 - accuracy: 0.9053 - auc: 0.9292 - val_loss: 0.6089 - val_accuracy: 0.9105 - val_auc: 0.9332\nEpoch 195/500\n1154/1154 [==============================] - 4s 3ms/step - loss: 3.8181e-08 - accuracy: 0.9178 - auc: 0.9367 - val_loss: 1.1828 - val_accuracy: 0.8473 - val_auc: 0.8683\nEpoch 196/500\n1154/1154 [==============================] - 4s 3ms/step - loss: 3.6506e-08 - accuracy: 0.9163 - auc: 0.9393 - val_loss: 0.5924 - val_accuracy: 0.9261 - val_auc: 0.9394\nEpoch 197/500\n1154/1154 [==============================] - 4s 3ms/step - loss: 3.2244e-08 - accuracy: 0.9302 - auc: 0.9492 - val_loss: 0.4050 - val_accuracy: 0.9471 - val_auc: 0.9582\nEpoch 198/500\n1154/1154 [==============================] - 4s 3ms/step - loss: 3.7729e-08 - accuracy: 0.9117 - auc: 0.9353 - val_loss: 0.4812 - val_accuracy: 0.9332 - val_auc: 0.9493\nEpoch 199/500\n1134/1154 [============================>.] - ETA: 0s - loss: 2.7605e-08 - accuracy: 0.9433 - auc: 0.9535INFO:tensorflow:Assets written to: models/09/08/2020-21:28:49/assets\n1154/1154 [==============================] - 5s 4ms/step - loss: 2.7751e-08 - accuracy: 0.9435 - auc: 0.9537 - val_loss: 0.3814 - val_accuracy: 0.9548 - val_auc: 0.9608\nEpoch 200/500\n1154/1154 [==============================] - 4s 3ms/step - loss: 2.9825e-08 - accuracy: 0.9389 - auc: 0.9482 - val_loss: 0.3859 - val_accuracy: 0.9489 - val_auc: 0.9580\nEpoch 201/500\n1154/1154 [==============================] - 4s 3ms/step - loss: 3.3974e-08 - accuracy: 0.9321 - auc: 0.9422 - val_loss: 0.8021 - val_accuracy: 0.8812 - val_auc: 0.9036\nEpoch 202/500\n1154/1154 [==============================] - 4s 3ms/step - loss: 3.4146e-08 - accuracy: 0.9274 - auc: 0.9385 - val_loss: 0.4941 - val_accuracy: 0.9400 - val_auc: 0.9457\nEpoch 203/500\n1154/1154 [==============================] - 4s 3ms/step - loss: 5.9540e-08 - accuracy: 0.9271 - auc: 0.9378 - val_loss: 1.3173 - val_accuracy: 0.7890 - val_auc: 0.8274\nEpoch 204/500\n1154/1154 [==============================] - 4s 3ms/step - loss: 4.2548e-08 - accuracy: 0.8948 - auc: 0.9211 - val_loss: 0.6029 - val_accuracy: 0.9170 - val_auc: 0.9303\nEpoch 205/500\n1154/1154 [==============================] - 4s 3ms/step - loss: 3.8863e-08 - accuracy: 0.9158 - auc: 0.9281 - val_loss: 0.5475 - val_accuracy: 0.9257 - val_auc: 0.9347\nEpoch 206/500\n1154/1154 [==============================] - 4s 3ms/step - loss: 3.3950e-08 - accuracy: 0.9292 - auc: 0.9375 - val_loss: 0.6283 - val_accuracy: 0.9160 - val_auc: 0.9212\nEpoch 207/500\n1154/1154 [==============================] - 4s 3ms/step - loss: 4.1116e-08 - accuracy: 0.9317 - auc: 0.9383 - val_loss: 0.8747 - val_accuracy: 0.8711 - val_auc: 0.8887\nEpoch 208/500\n1154/1154 [==============================] - 4s 3ms/step - loss: 3.6897e-08 - accuracy: 0.9116 - auc: 0.9295 - val_loss: 0.4821 - val_accuracy: 0.9318 - val_auc: 0.9471\nEpoch 209/500\n1154/1154 [==============================] - 4s 3ms/step - loss: 3.3727e-08 - accuracy: 0.9281 - auc: 0.9416 - val_loss: 0.5472 - val_accuracy: 0.9224 - val_auc: 0.9365\nEpoch 210/500\n1154/1154 [==============================] - 4s 4ms/step - loss: 3.5204e-08 - accuracy: 0.9321 - auc: 0.9399 - val_loss: 0.5683 - val_accuracy: 0.9273 - val_auc: 0.9252\nEpoch 211/500\n1154/1154 [==============================] - 4s 3ms/step - loss: 3.9673e-08 - accuracy: 0.9228 - auc: 0.9278 - val_loss: 0.5193 - val_accuracy: 0.9312 - val_auc: 0.9400\nEpoch 212/500\n1154/1154 [==============================] - 4s 3ms/step - loss: 3.0041e-08 - accuracy: 0.9425 - auc: 0.9494 - val_loss: 0.4487 - val_accuracy: 0.9426 - val_auc: 0.9482\nEpoch 213/500\n1154/1154 [==============================] - 4s 3ms/step - loss: 5.8363e-08 - accuracy: 0.8724 - auc: 0.9071 - val_loss: 0.5868 - val_accuracy: 0.9191 - val_auc: 0.9389\nEpoch 214/500\n1154/1154 [==============================] - 5s 4ms/step - loss: 2.3644e-07 - accuracy: 0.8782 - auc: 0.9020 - val_loss: 0.6808 - val_accuracy: 0.9093 - val_auc: 0.9290\nEpoch 215/500\n1154/1154 [==============================] - 5s 4ms/step - loss: 1.5108e-07 - accuracy: 0.8867 - auc: 0.9008 - val_loss: 0.6652 - val_accuracy: 0.9112 - val_auc: 0.9262\nEpoch 216/500\n1154/1154 [==============================] - 5s 4ms/step - loss: 7.4939e-08 - accuracy: 0.8545 - auc: 0.8531 - val_loss: 0.8016 - val_accuracy: 0.8895 - val_auc: 0.8960\nEpoch 217/500\n1154/1154 [==============================] - 5s 4ms/step - loss: 3.6431e-08 - accuracy: 0.9182 - auc: 0.9262 - val_loss: 0.5801 - val_accuracy: 0.9296 - val_auc: 0.9345\nEpoch 218/500\n1154/1154 [==============================] - 5s 4ms/step - loss: 5.3206e-08 - accuracy: 0.8908 - auc: 0.8941 - val_loss: 0.5809 - val_accuracy: 0.9214 - val_auc: 0.9310\nEpoch 219/500\n1154/1154 [==============================] - 5s 4ms/step - loss: 3.7434e-08 - accuracy: 0.9274 - auc: 0.9292 - val_loss: 0.5336 - val_accuracy: 0.9363 - val_auc: 0.9370\nEpoch 220/500\n1154/1154 [==============================] - 5s 4ms/step - loss: 3.6993e-08 - accuracy: 0.9261 - auc: 0.9313 - val_loss: 0.5603 - val_accuracy: 0.9227 - val_auc: 0.9313\nEpoch 221/500\n1154/1154 [==============================] - 5s 4ms/step - loss: 4.7690e-08 - accuracy: 0.9022 - auc: 0.9203 - val_loss: 0.5646 - val_accuracy: 0.9153 - val_auc: 0.9408\nEpoch 222/500\n1154/1154 [==============================] - 5s 4ms/step - loss: 3.1789e-08 - accuracy: 0.9290 - auc: 0.9465 - val_loss: 0.5946 - val_accuracy: 0.9265 - val_auc: 0.9380\nEpoch 223/500\n1154/1154 [==============================] - 5s 4ms/step - loss: 3.2800e-08 - accuracy: 0.9358 - auc: 0.9488 - val_loss: 0.4197 - val_accuracy: 0.9444 - val_auc: 0.9561\nEpoch 224/500\n1147/1154 [============================>.] - ETA: 0s - loss: 2.9820e-08 - accuracy: 0.9386 - auc: 0.9493INFO:tensorflow:Assets written to: models/09/08/2020-21:28:49/assets\n1154/1154 [==============================] - 5s 5ms/step - loss: 2.9792e-08 - accuracy: 0.9387 - auc: 0.9493 - val_loss: 0.3746 - val_accuracy: 0.9477 - val_auc: 0.9597\nEpoch 225/500\n1154/1154 [==============================] - 5s 4ms/step - loss: 3.4169e-08 - accuracy: 0.9322 - auc: 0.9471 - val_loss: 0.5257 - val_accuracy: 0.9158 - val_auc: 0.9454\nEpoch 226/500\n1154/1154 [==============================] - 5s 4ms/step - loss: 3.0576e-08 - accuracy: 0.9391 - auc: 0.9517 - val_loss: 1.4061 - val_accuracy: 0.8235 - val_auc: 0.8434\nEpoch 227/500\n1154/1154 [==============================] - 5s 4ms/step - loss: 3.8201e-08 - accuracy: 0.9077 - auc: 0.9279 - val_loss: 0.4292 - val_accuracy: 0.9437 - val_auc: 0.9559\nEpoch 228/500\n1154/1154 [==============================] - 5s 4ms/step - loss: 3.2665e-08 - accuracy: 0.9289 - auc: 0.9386 - val_loss: 0.4286 - val_accuracy: 0.9456 - val_auc: 0.9514\nEpoch 229/500\n1154/1154 [==============================] - 5s 4ms/step - loss: 3.2799e-08 - accuracy: 0.9342 - auc: 0.9442 - val_loss: 0.4420 - val_accuracy: 0.9420 - val_auc: 0.9479\nEpoch 00229: early stopping\n"
    }
   ],
   "source": [
    "\n",
    "history = model.fit(\n",
    "    x=X_train.drop(columns=['Weights']).to_numpy(),\n",
    "    y=y_train.to_numpy(),\n",
    "    epochs=500,\n",
    "    batch_size=512,\n",
    "    shuffle=True,\n",
    "    class_weight=class_weights,\n",
    "    callbacks=[TB, ES, MC],\n",
    "    sample_weight=X_train['Weights'].to_numpy(),\n",
    "    validation_data=(X_val.drop(columns=['Weights']).to_numpy(), y_val.to_numpy()),\n",
    "    \n",
    "    )\n",
    "        "
   ]
  },
  {
   "cell_type": "markdown",
   "metadata": {},
   "source": [
    "## Metrics "
   ]
  },
  {
   "cell_type": "code",
   "execution_count": 14,
   "metadata": {},
   "outputs": [],
   "source": [
    "from sklearn.metrics import confusion_matrix, precision_score, recall_score, accuracy_score, roc_auc_score, roc_curve"
   ]
  },
  {
   "cell_type": "code",
   "execution_count": 15,
   "metadata": {},
   "outputs": [],
   "source": [
    "y_preds = model.predict(X_test.drop(columns=['Weights']).values, batch_size=512).reshape(-1)"
   ]
  },
  {
   "cell_type": "code",
   "execution_count": 16,
   "metadata": {},
   "outputs": [
    {
     "output_type": "execute_result",
     "data": {
      "text/plain": "0.942264428814463"
     },
     "metadata": {},
     "execution_count": 16
    }
   ],
   "source": [
    "accuracy_score(y_test.values, y_preds.round())"
   ]
  },
  {
   "cell_type": "markdown",
   "metadata": {},
   "source": [
    "### Confusion matrix\n",
    "-> Background is the positive class\n",
    "\n",
    "-> Signal is the negative class"
   ]
  },
  {
   "cell_type": "markdown",
   "metadata": {},
   "source": [
    "<img src=https://cdn.discordapp.com/attachments/710910920460599327/734843424666288228/confusionMatrxiUpdated.png width=\"600\">"
   ]
  },
  {
   "cell_type": "code",
   "execution_count": 17,
   "metadata": {},
   "outputs": [
    {
     "output_type": "execute_result",
     "data": {
      "text/plain": "array([[371941,     15],\n       [ 34092, 184697]])"
     },
     "metadata": {},
     "execution_count": 17
    }
   ],
   "source": [
    "confusion_matrix(y_test.values, y_preds.round())"
   ]
  },
  {
   "cell_type": "code",
   "execution_count": 18,
   "metadata": {},
   "outputs": [
    {
     "output_type": "execute_result",
     "data": {
      "text/plain": "array([[6.29613454e-01, 2.53916665e-05],\n       [5.77101795e-02, 3.12650975e-01]])"
     },
     "metadata": {},
     "execution_count": 18
    }
   ],
   "source": [
    "confusion_matrix(y_test.values, y_preds.round(), normalize=\"all\")"
   ]
  },
  {
   "cell_type": "code",
   "execution_count": 19,
   "metadata": {},
   "outputs": [
    {
     "output_type": "execute_result",
     "data": {
      "text/plain": "0.9999187924985924"
     },
     "metadata": {},
     "execution_count": 19
    }
   ],
   "source": [
    "precision_score(y_test.values, y_preds.round())"
   ]
  },
  {
   "cell_type": "code",
   "execution_count": 20,
   "metadata": {},
   "outputs": [
    {
     "output_type": "execute_result",
     "data": {
      "text/plain": "0.8441786378657062"
     },
     "metadata": {},
     "execution_count": 20
    }
   ],
   "source": [
    "recall_score(y_test.values, y_preds.round())"
   ]
  },
  {
   "cell_type": "markdown",
   "metadata": {},
   "source": [
    "### Plotting Roc Curve\n",
    "#### Link for more information - https://www.youtube.com/watch?v=4jRBRDbJemM\n",
    "#### An Example:"
   ]
  },
  {
   "cell_type": "markdown",
   "metadata": {},
   "source": [
    "<img src=https://3qeqpr26caki16dnhd19sv6by6v-wpengine.netdna-ssl.com/wp-content/uploads/2018/08/ROC-Curve-Plot-for-a-No-Skill-Classifier-and-a-Logistic-Regression-Model.png width=\"400\">"
   ]
  },
  {
   "cell_type": "code",
   "execution_count": 21,
   "metadata": {
    "tags": []
   },
   "outputs": [
    {
     "output_type": "display_data",
     "data": {
      "text/plain": "<Figure size 432x288 with 1 Axes>",
      "image/svg+xml": "<?xml version=\"1.0\" encoding=\"utf-8\" standalone=\"no\"?>\n<!DOCTYPE svg PUBLIC \"-//W3C//DTD SVG 1.1//EN\"\n  \"http://www.w3.org/Graphics/SVG/1.1/DTD/svg11.dtd\">\n<!-- Created with matplotlib (https://matplotlib.org/) -->\n<svg height=\"248.518125pt\" version=\"1.1\" viewBox=\"0 0 372.103125 248.518125\" width=\"372.103125pt\" xmlns=\"http://www.w3.org/2000/svg\" xmlns:xlink=\"http://www.w3.org/1999/xlink\">\n <metadata>\n  <rdf:RDF xmlns:cc=\"http://creativecommons.org/ns#\" xmlns:dc=\"http://purl.org/dc/elements/1.1/\" xmlns:rdf=\"http://www.w3.org/1999/02/22-rdf-syntax-ns#\">\n   <cc:Work>\n    <dc:type rdf:resource=\"http://purl.org/dc/dcmitype/StillImage\"/>\n    <dc:date>2020-08-09T21:46:49.235122</dc:date>\n    <dc:format>image/svg+xml</dc:format>\n    <dc:creator>\n     <cc:Agent>\n      <dc:title>Matplotlib v3.3.0, https://matplotlib.org/</dc:title>\n     </cc:Agent>\n    </dc:creator>\n   </cc:Work>\n  </rdf:RDF>\n </metadata>\n <defs>\n  <style type=\"text/css\">*{stroke-linecap:butt;stroke-linejoin:round;}</style>\n </defs>\n <g id=\"figure_1\">\n  <g id=\"patch_1\">\n   <path d=\"M 0 248.518125 \nL 372.103125 248.518125 \nL 372.103125 0 \nL 0 0 \nz\n\" style=\"fill:none;\"/>\n  </g>\n  <g id=\"axes_1\">\n   <g id=\"patch_2\">\n    <path d=\"M 30.103125 224.64 \nL 364.903125 224.64 \nL 364.903125 7.2 \nL 30.103125 7.2 \nz\n\" style=\"fill:#ffffff;\"/>\n   </g>\n   <g id=\"matplotlib.axis_1\">\n    <g id=\"xtick_1\">\n     <g id=\"line2d_1\">\n      <defs>\n       <path d=\"M 0 0 \nL 0 3.5 \n\" id=\"m54c2dcd159\" style=\"stroke:#000000;stroke-width:0.8;\"/>\n      </defs>\n      <g>\n       <use style=\"stroke:#000000;stroke-width:0.8;\" x=\"45.321307\" xlink:href=\"#m54c2dcd159\" y=\"224.64\"/>\n      </g>\n     </g>\n     <g id=\"text_1\">\n      <!-- 0.0 -->\n      <g transform=\"translate(37.369744 239.238437)scale(0.1 -0.1)\">\n       <defs>\n        <path d=\"M 31.78125 66.40625 \nQ 24.171875 66.40625 20.328125 58.90625 \nQ 16.5 51.421875 16.5 36.375 \nQ 16.5 21.390625 20.328125 13.890625 \nQ 24.171875 6.390625 31.78125 6.390625 \nQ 39.453125 6.390625 43.28125 13.890625 \nQ 47.125 21.390625 47.125 36.375 \nQ 47.125 51.421875 43.28125 58.90625 \nQ 39.453125 66.40625 31.78125 66.40625 \nz\nM 31.78125 74.21875 \nQ 44.046875 74.21875 50.515625 64.515625 \nQ 56.984375 54.828125 56.984375 36.375 \nQ 56.984375 17.96875 50.515625 8.265625 \nQ 44.046875 -1.421875 31.78125 -1.421875 \nQ 19.53125 -1.421875 13.0625 8.265625 \nQ 6.59375 17.96875 6.59375 36.375 \nQ 6.59375 54.828125 13.0625 64.515625 \nQ 19.53125 74.21875 31.78125 74.21875 \nz\n\" id=\"DejaVuSans-48\"/>\n        <path d=\"M 10.6875 12.40625 \nL 21 12.40625 \nL 21 0 \nL 10.6875 0 \nz\n\" id=\"DejaVuSans-46\"/>\n       </defs>\n       <use xlink:href=\"#DejaVuSans-48\"/>\n       <use x=\"63.623047\" xlink:href=\"#DejaVuSans-46\"/>\n       <use x=\"95.410156\" xlink:href=\"#DejaVuSans-48\"/>\n      </g>\n     </g>\n    </g>\n    <g id=\"xtick_2\">\n     <g id=\"line2d_2\">\n      <g>\n       <use style=\"stroke:#000000;stroke-width:0.8;\" x=\"106.194034\" xlink:href=\"#m54c2dcd159\" y=\"224.64\"/>\n      </g>\n     </g>\n     <g id=\"text_2\">\n      <!-- 0.2 -->\n      <g transform=\"translate(98.242472 239.238437)scale(0.1 -0.1)\">\n       <defs>\n        <path d=\"M 19.1875 8.296875 \nL 53.609375 8.296875 \nL 53.609375 0 \nL 7.328125 0 \nL 7.328125 8.296875 \nQ 12.9375 14.109375 22.625 23.890625 \nQ 32.328125 33.6875 34.8125 36.53125 \nQ 39.546875 41.84375 41.421875 45.53125 \nQ 43.3125 49.21875 43.3125 52.78125 \nQ 43.3125 58.59375 39.234375 62.25 \nQ 35.15625 65.921875 28.609375 65.921875 \nQ 23.96875 65.921875 18.8125 64.3125 \nQ 13.671875 62.703125 7.8125 59.421875 \nL 7.8125 69.390625 \nQ 13.765625 71.78125 18.9375 73 \nQ 24.125 74.21875 28.421875 74.21875 \nQ 39.75 74.21875 46.484375 68.546875 \nQ 53.21875 62.890625 53.21875 53.421875 \nQ 53.21875 48.921875 51.53125 44.890625 \nQ 49.859375 40.875 45.40625 35.40625 \nQ 44.1875 33.984375 37.640625 27.21875 \nQ 31.109375 20.453125 19.1875 8.296875 \nz\n\" id=\"DejaVuSans-50\"/>\n       </defs>\n       <use xlink:href=\"#DejaVuSans-48\"/>\n       <use x=\"63.623047\" xlink:href=\"#DejaVuSans-46\"/>\n       <use x=\"95.410156\" xlink:href=\"#DejaVuSans-50\"/>\n      </g>\n     </g>\n    </g>\n    <g id=\"xtick_3\">\n     <g id=\"line2d_3\">\n      <g>\n       <use style=\"stroke:#000000;stroke-width:0.8;\" x=\"167.066761\" xlink:href=\"#m54c2dcd159\" y=\"224.64\"/>\n      </g>\n     </g>\n     <g id=\"text_3\">\n      <!-- 0.4 -->\n      <g transform=\"translate(159.115199 239.238437)scale(0.1 -0.1)\">\n       <defs>\n        <path d=\"M 37.796875 64.3125 \nL 12.890625 25.390625 \nL 37.796875 25.390625 \nz\nM 35.203125 72.90625 \nL 47.609375 72.90625 \nL 47.609375 25.390625 \nL 58.015625 25.390625 \nL 58.015625 17.1875 \nL 47.609375 17.1875 \nL 47.609375 0 \nL 37.796875 0 \nL 37.796875 17.1875 \nL 4.890625 17.1875 \nL 4.890625 26.703125 \nz\n\" id=\"DejaVuSans-52\"/>\n       </defs>\n       <use xlink:href=\"#DejaVuSans-48\"/>\n       <use x=\"63.623047\" xlink:href=\"#DejaVuSans-46\"/>\n       <use x=\"95.410156\" xlink:href=\"#DejaVuSans-52\"/>\n      </g>\n     </g>\n    </g>\n    <g id=\"xtick_4\">\n     <g id=\"line2d_4\">\n      <g>\n       <use style=\"stroke:#000000;stroke-width:0.8;\" x=\"227.939489\" xlink:href=\"#m54c2dcd159\" y=\"224.64\"/>\n      </g>\n     </g>\n     <g id=\"text_4\">\n      <!-- 0.6 -->\n      <g transform=\"translate(219.987926 239.238437)scale(0.1 -0.1)\">\n       <defs>\n        <path d=\"M 33.015625 40.375 \nQ 26.375 40.375 22.484375 35.828125 \nQ 18.609375 31.296875 18.609375 23.390625 \nQ 18.609375 15.53125 22.484375 10.953125 \nQ 26.375 6.390625 33.015625 6.390625 \nQ 39.65625 6.390625 43.53125 10.953125 \nQ 47.40625 15.53125 47.40625 23.390625 \nQ 47.40625 31.296875 43.53125 35.828125 \nQ 39.65625 40.375 33.015625 40.375 \nz\nM 52.59375 71.296875 \nL 52.59375 62.3125 \nQ 48.875 64.0625 45.09375 64.984375 \nQ 41.3125 65.921875 37.59375 65.921875 \nQ 27.828125 65.921875 22.671875 59.328125 \nQ 17.53125 52.734375 16.796875 39.40625 \nQ 19.671875 43.65625 24.015625 45.921875 \nQ 28.375 48.1875 33.59375 48.1875 \nQ 44.578125 48.1875 50.953125 41.515625 \nQ 57.328125 34.859375 57.328125 23.390625 \nQ 57.328125 12.15625 50.6875 5.359375 \nQ 44.046875 -1.421875 33.015625 -1.421875 \nQ 20.359375 -1.421875 13.671875 8.265625 \nQ 6.984375 17.96875 6.984375 36.375 \nQ 6.984375 53.65625 15.1875 63.9375 \nQ 23.390625 74.21875 37.203125 74.21875 \nQ 40.921875 74.21875 44.703125 73.484375 \nQ 48.484375 72.75 52.59375 71.296875 \nz\n\" id=\"DejaVuSans-54\"/>\n       </defs>\n       <use xlink:href=\"#DejaVuSans-48\"/>\n       <use x=\"63.623047\" xlink:href=\"#DejaVuSans-46\"/>\n       <use x=\"95.410156\" xlink:href=\"#DejaVuSans-54\"/>\n      </g>\n     </g>\n    </g>\n    <g id=\"xtick_5\">\n     <g id=\"line2d_5\">\n      <g>\n       <use style=\"stroke:#000000;stroke-width:0.8;\" x=\"288.812216\" xlink:href=\"#m54c2dcd159\" y=\"224.64\"/>\n      </g>\n     </g>\n     <g id=\"text_5\">\n      <!-- 0.8 -->\n      <g transform=\"translate(280.860653 239.238437)scale(0.1 -0.1)\">\n       <defs>\n        <path d=\"M 31.78125 34.625 \nQ 24.75 34.625 20.71875 30.859375 \nQ 16.703125 27.09375 16.703125 20.515625 \nQ 16.703125 13.921875 20.71875 10.15625 \nQ 24.75 6.390625 31.78125 6.390625 \nQ 38.8125 6.390625 42.859375 10.171875 \nQ 46.921875 13.96875 46.921875 20.515625 \nQ 46.921875 27.09375 42.890625 30.859375 \nQ 38.875 34.625 31.78125 34.625 \nz\nM 21.921875 38.8125 \nQ 15.578125 40.375 12.03125 44.71875 \nQ 8.5 49.078125 8.5 55.328125 \nQ 8.5 64.0625 14.71875 69.140625 \nQ 20.953125 74.21875 31.78125 74.21875 \nQ 42.671875 74.21875 48.875 69.140625 \nQ 55.078125 64.0625 55.078125 55.328125 \nQ 55.078125 49.078125 51.53125 44.71875 \nQ 48 40.375 41.703125 38.8125 \nQ 48.828125 37.15625 52.796875 32.3125 \nQ 56.78125 27.484375 56.78125 20.515625 \nQ 56.78125 9.90625 50.3125 4.234375 \nQ 43.84375 -1.421875 31.78125 -1.421875 \nQ 19.734375 -1.421875 13.25 4.234375 \nQ 6.78125 9.90625 6.78125 20.515625 \nQ 6.78125 27.484375 10.78125 32.3125 \nQ 14.796875 37.15625 21.921875 38.8125 \nz\nM 18.3125 54.390625 \nQ 18.3125 48.734375 21.84375 45.5625 \nQ 25.390625 42.390625 31.78125 42.390625 \nQ 38.140625 42.390625 41.71875 45.5625 \nQ 45.3125 48.734375 45.3125 54.390625 \nQ 45.3125 60.0625 41.71875 63.234375 \nQ 38.140625 66.40625 31.78125 66.40625 \nQ 25.390625 66.40625 21.84375 63.234375 \nQ 18.3125 60.0625 18.3125 54.390625 \nz\n\" id=\"DejaVuSans-56\"/>\n       </defs>\n       <use xlink:href=\"#DejaVuSans-48\"/>\n       <use x=\"63.623047\" xlink:href=\"#DejaVuSans-46\"/>\n       <use x=\"95.410156\" xlink:href=\"#DejaVuSans-56\"/>\n      </g>\n     </g>\n    </g>\n    <g id=\"xtick_6\">\n     <g id=\"line2d_6\">\n      <g>\n       <use style=\"stroke:#000000;stroke-width:0.8;\" x=\"349.684943\" xlink:href=\"#m54c2dcd159\" y=\"224.64\"/>\n      </g>\n     </g>\n     <g id=\"text_6\">\n      <!-- 1.0 -->\n      <g transform=\"translate(341.733381 239.238437)scale(0.1 -0.1)\">\n       <defs>\n        <path d=\"M 12.40625 8.296875 \nL 28.515625 8.296875 \nL 28.515625 63.921875 \nL 10.984375 60.40625 \nL 10.984375 69.390625 \nL 28.421875 72.90625 \nL 38.28125 72.90625 \nL 38.28125 8.296875 \nL 54.390625 8.296875 \nL 54.390625 0 \nL 12.40625 0 \nz\n\" id=\"DejaVuSans-49\"/>\n       </defs>\n       <use xlink:href=\"#DejaVuSans-49\"/>\n       <use x=\"63.623047\" xlink:href=\"#DejaVuSans-46\"/>\n       <use x=\"95.410156\" xlink:href=\"#DejaVuSans-48\"/>\n      </g>\n     </g>\n    </g>\n   </g>\n   <g id=\"matplotlib.axis_2\">\n    <g id=\"ytick_1\">\n     <g id=\"line2d_7\">\n      <defs>\n       <path d=\"M 0 0 \nL -3.5 0 \n\" id=\"m0573de3778\" style=\"stroke:#000000;stroke-width:0.8;\"/>\n      </defs>\n      <g>\n       <use style=\"stroke:#000000;stroke-width:0.8;\" x=\"30.103125\" xlink:href=\"#m0573de3778\" y=\"214.756364\"/>\n      </g>\n     </g>\n     <g id=\"text_7\">\n      <!-- 0.0 -->\n      <g transform=\"translate(7.2 218.555582)scale(0.1 -0.1)\">\n       <use xlink:href=\"#DejaVuSans-48\"/>\n       <use x=\"63.623047\" xlink:href=\"#DejaVuSans-46\"/>\n       <use x=\"95.410156\" xlink:href=\"#DejaVuSans-48\"/>\n      </g>\n     </g>\n    </g>\n    <g id=\"ytick_2\">\n     <g id=\"line2d_8\">\n      <g>\n       <use style=\"stroke:#000000;stroke-width:0.8;\" x=\"30.103125\" xlink:href=\"#m0573de3778\" y=\"175.221818\"/>\n      </g>\n     </g>\n     <g id=\"text_8\">\n      <!-- 0.2 -->\n      <g transform=\"translate(7.2 179.021037)scale(0.1 -0.1)\">\n       <use xlink:href=\"#DejaVuSans-48\"/>\n       <use x=\"63.623047\" xlink:href=\"#DejaVuSans-46\"/>\n       <use x=\"95.410156\" xlink:href=\"#DejaVuSans-50\"/>\n      </g>\n     </g>\n    </g>\n    <g id=\"ytick_3\">\n     <g id=\"line2d_9\">\n      <g>\n       <use style=\"stroke:#000000;stroke-width:0.8;\" x=\"30.103125\" xlink:href=\"#m0573de3778\" y=\"135.687273\"/>\n      </g>\n     </g>\n     <g id=\"text_9\">\n      <!-- 0.4 -->\n      <g transform=\"translate(7.2 139.486491)scale(0.1 -0.1)\">\n       <use xlink:href=\"#DejaVuSans-48\"/>\n       <use x=\"63.623047\" xlink:href=\"#DejaVuSans-46\"/>\n       <use x=\"95.410156\" xlink:href=\"#DejaVuSans-52\"/>\n      </g>\n     </g>\n    </g>\n    <g id=\"ytick_4\">\n     <g id=\"line2d_10\">\n      <g>\n       <use style=\"stroke:#000000;stroke-width:0.8;\" x=\"30.103125\" xlink:href=\"#m0573de3778\" y=\"96.152727\"/>\n      </g>\n     </g>\n     <g id=\"text_10\">\n      <!-- 0.6 -->\n      <g transform=\"translate(7.2 99.951946)scale(0.1 -0.1)\">\n       <use xlink:href=\"#DejaVuSans-48\"/>\n       <use x=\"63.623047\" xlink:href=\"#DejaVuSans-46\"/>\n       <use x=\"95.410156\" xlink:href=\"#DejaVuSans-54\"/>\n      </g>\n     </g>\n    </g>\n    <g id=\"ytick_5\">\n     <g id=\"line2d_11\">\n      <g>\n       <use style=\"stroke:#000000;stroke-width:0.8;\" x=\"30.103125\" xlink:href=\"#m0573de3778\" y=\"56.618182\"/>\n      </g>\n     </g>\n     <g id=\"text_11\">\n      <!-- 0.8 -->\n      <g transform=\"translate(7.2 60.417401)scale(0.1 -0.1)\">\n       <use xlink:href=\"#DejaVuSans-48\"/>\n       <use x=\"63.623047\" xlink:href=\"#DejaVuSans-46\"/>\n       <use x=\"95.410156\" xlink:href=\"#DejaVuSans-56\"/>\n      </g>\n     </g>\n    </g>\n    <g id=\"ytick_6\">\n     <g id=\"line2d_12\">\n      <g>\n       <use style=\"stroke:#000000;stroke-width:0.8;\" x=\"30.103125\" xlink:href=\"#m0573de3778\" y=\"17.083636\"/>\n      </g>\n     </g>\n     <g id=\"text_12\">\n      <!-- 1.0 -->\n      <g transform=\"translate(7.2 20.882855)scale(0.1 -0.1)\">\n       <use xlink:href=\"#DejaVuSans-49\"/>\n       <use x=\"63.623047\" xlink:href=\"#DejaVuSans-46\"/>\n       <use x=\"95.410156\" xlink:href=\"#DejaVuSans-48\"/>\n      </g>\n     </g>\n    </g>\n   </g>\n   <g id=\"line2d_13\">\n    <path clip-path=\"url(#pdcc1299bde)\" d=\"M 45.321307 214.756364 \nL 45.433411 33.495454 \nL 45.436684 33.439438 \nL 45.547152 30.776865 \nL 45.551243 30.686517 \nL 45.661711 29.203897 \nL 45.669075 29.125293 \nL 45.778725 28.356427 \nL 45.801636 28.254333 \nL 45.912104 27.371628 \nL 45.924378 27.280376 \nL 46.034846 26.641611 \nL 46.065122 26.531386 \nL 46.17559 26.187158 \nL 46.210776 26.080547 \nL 46.319607 25.745354 \nL 46.363794 25.640549 \nL 46.474261 25.384863 \nL 46.528268 25.275541 \nL 46.637917 25.07045 \nL 46.69356 24.962935 \nL 46.804028 24.769589 \nL 46.876036 24.661171 \nL 46.985685 24.49764 \nL 47.086334 24.390125 \nL 47.19271 24.254602 \nL 47.326089 24.144377 \nL 47.436557 24.027827 \nL 47.556026 23.919409 \nL 47.665675 23.830867 \nL 47.800691 23.720642 \nL 47.909522 23.637521 \nL 48.044538 23.527296 \nL 48.151733 23.454114 \nL 48.364485 23.343889 \nL 48.474134 23.284259 \nL 48.646791 23.174033 \nL 48.75644 23.09543 \nL 48.97983 22.985205 \nL 49.08948 22.935513 \nL 49.361967 22.825288 \nL 49.469979 22.774693 \nL 49.773561 22.664467 \nL 49.882392 22.615679 \nL 50.134422 22.506357 \nL 50.235888 22.465701 \nL 50.599204 22.356379 \nL 50.708853 22.326564 \nL 51.144996 22.216338 \nL 51.254645 22.187427 \nL 51.729247 22.077202 \nL 51.838896 22.055518 \nL 52.279948 21.945293 \nL 52.377323 21.921802 \nL 52.975485 21.811577 \nL 53.085134 21.7917 \nL 53.681659 21.681475 \nL 53.787217 21.663405 \nL 53.792127 21.663405 \nL 54.411564 21.55318 \nL 54.504848 21.537821 \nL 55.353403 21.427595 \nL 55.455687 21.414947 \nL 56.336155 21.304721 \nL 56.444986 21.287555 \nL 57.456379 21.17733 \nL 57.561118 21.15926 \nL 58.61097 21.049035 \nL 58.717346 21.040904 \nL 59.930853 20.930678 \nL 60.002043 20.921644 \nL 61.263011 20.811418 \nL 61.373478 20.802383 \nL 62.693362 20.692158 \nL 62.731821 20.68493 \nL 62.748186 20.68493 \nL 64.248909 20.574705 \nL 64.354467 20.564767 \nL 66.051577 20.454541 \nL 66.155498 20.449121 \nL 67.858336 20.338895 \nL 67.954075 20.333474 \nL 69.629909 20.223249 \nL 69.685552 20.218732 \nL 69.71992 20.218732 \nL 71.925999 20.10941 \nL 71.993098 20.103085 \nL 74.551037 19.99286 \nL 74.658231 19.986536 \nL 77.443652 19.876311 \nL 77.545118 19.872697 \nL 80.355905 19.762471 \nL 80.459008 19.756147 \nL 83.938329 19.645922 \nL 84.025885 19.640501 \nL 87.599307 19.530276 \nL 87.663951 19.525758 \nL 87.668043 19.525758 \nL 91.840445 19.415533 \nL 91.950095 19.411919 \nL 96.809033 19.301694 \nL 96.908045 19.297176 \nL 101.913455 19.186951 \nL 101.975644 19.184241 \nL 107.335369 19.074015 \nL 107.392649 19.071305 \nL 107.445837 19.071305 \nL 113.236794 18.96108 \nL 113.236794 18.960176 \nL 113.240886 18.960176 \nL 119.821482 18.849951 \nL 119.821482 18.849047 \nL 119.914766 18.849047 \nL 127.364374 18.738822 \nL 127.478933 18.737919 \nL 134.609413 18.627693 \nL 134.609413 18.62679 \nL 134.679785 18.62679 \nL 143.011498 18.516565 \nL 143.022136 18.514758 \nL 143.11051 18.514758 \nL 153.357813 18.404532 \nL 153.357813 18.403629 \nL 153.454369 18.403629 \nL 162.074116 18.293404 \nL 162.142852 18.291597 \nL 173.370452 18.181371 \nL 173.441643 18.178661 \nL 173.465373 18.178661 \nL 186.600381 18.068436 \nL 186.671571 18.066629 \nL 201.318758 17.956404 \nL 201.318758 17.9555 \nL 201.424316 17.9555 \nL 217.888082 17.845275 \nL 217.892991 17.843468 \nL 217.996094 17.843468 \nL 232.398616 17.733243 \nL 232.499264 17.731436 \nL 248.821468 17.62121 \nL 248.876292 17.619403 \nL 248.908205 17.619403 \nL 271.932929 17.509178 \nL 271.973842 17.507371 \nL 293.785059 17.397146 \nL 293.785059 17.396242 \nL 293.875069 17.396242 \nL 316.126519 17.286017 \nL 316.126519 17.285114 \nL 316.151068 17.285114 \nL 341.497247 17.174888 \nL 341.602805 17.172178 \nL 349.684943 17.083636 \nL 349.684943 17.083636 \n\" style=\"fill:none;stroke:#1f77b4;stroke-linecap:square;stroke-width:1.5;\"/>\n   </g>\n   <g id=\"line2d_14\">\n    <path clip-path=\"url(#pdcc1299bde)\" d=\"M 45.321307 214.756364 \nL 349.684943 17.083636 \n\" style=\"fill:none;stroke:#000000;stroke-dasharray:5.55,2.4;stroke-dashoffset:0;stroke-width:1.5;\"/>\n   </g>\n   <g id=\"patch_3\">\n    <path d=\"M 30.103125 224.64 \nL 30.103125 7.2 \n\" style=\"fill:none;stroke:#000000;stroke-linecap:square;stroke-linejoin:miter;stroke-width:0.8;\"/>\n   </g>\n   <g id=\"patch_4\">\n    <path d=\"M 364.903125 224.64 \nL 364.903125 7.2 \n\" style=\"fill:none;stroke:#000000;stroke-linecap:square;stroke-linejoin:miter;stroke-width:0.8;\"/>\n   </g>\n   <g id=\"patch_5\">\n    <path d=\"M 30.103125 224.64 \nL 364.903125 224.64 \n\" style=\"fill:none;stroke:#000000;stroke-linecap:square;stroke-linejoin:miter;stroke-width:0.8;\"/>\n   </g>\n   <g id=\"patch_6\">\n    <path d=\"M 30.103125 7.2 \nL 364.903125 7.2 \n\" style=\"fill:none;stroke:#000000;stroke-linecap:square;stroke-linejoin:miter;stroke-width:0.8;\"/>\n   </g>\n  </g>\n </g>\n <defs>\n  <clipPath id=\"pdcc1299bde\">\n   <rect height=\"217.44\" width=\"334.8\" x=\"30.103125\" y=\"7.2\"/>\n  </clipPath>\n </defs>\n</svg>\n",
      "image/png": "[encoded data removed]"
     },
     "metadata": {
      "needs_background": "light"
     }
    },
    {
     "output_type": "stream",
     "name": "stdout",
     "text": "\nROC Score: 0.9934078794963115\n"
    }
   ],
   "source": [
    "# fpr = False positive rate\n",
    "# tpr = True positive rate\n",
    "fpr, tpr, thr = roc_curve(y_test, y_preds)\n",
    "plt.plot(fpr, tpr, label='ROC')\n",
    "plt.plot([0,1],[0,1], 'k--')\n",
    "plt.show()\n",
    "print(\"\\nROC Score:\", bMC := roc_auc_score(y_test, y_preds))"
   ]
  },
  {
   "cell_type": "markdown",
   "metadata": {},
   "source": [
    "## Monte Carlo Dropout Implementation"
   ]
  },
  {
   "cell_type": "code",
   "execution_count": 22,
   "metadata": {},
   "outputs": [],
   "source": [
    "X_test_numpy = X_test.drop(columns=['Weights']).to_numpy()"
   ]
  },
  {
   "cell_type": "code",
   "execution_count": 23,
   "metadata": {},
   "outputs": [],
   "source": [
    "MC_y_preds = np.stack([model.predict(X_test_numpy, batch_size=1024) for samples in range(100)])"
   ]
  },
  {
   "cell_type": "code",
   "execution_count": 24,
   "metadata": {},
   "outputs": [],
   "source": [
    "MC_y_preds = MC_y_preds.mean(axis=0)"
   ]
  },
  {
   "cell_type": "markdown",
   "metadata": {},
   "source": [
    "## Metrics"
   ]
  },
  {
   "cell_type": "code",
   "execution_count": 25,
   "metadata": {},
   "outputs": [
    {
     "output_type": "execute_result",
     "data": {
      "text/plain": "array([[371943,     13],\n       [ 32458, 186331]])"
     },
     "metadata": {},
     "execution_count": 25
    }
   ],
   "source": [
    "confusion_matrix(y_test.values, MC_y_preds.round())"
   ]
  },
  {
   "cell_type": "code",
   "execution_count": 26,
   "metadata": {},
   "outputs": [
    {
     "output_type": "execute_result",
     "data": {
      "text/plain": "0.9450338132358294"
     },
     "metadata": {},
     "execution_count": 26
    }
   ],
   "source": [
    "accuracy_score(y_test.values, MC_y_preds.round())"
   ]
  },
  {
   "cell_type": "markdown",
   "metadata": {},
   "source": [
    "### Plotting Roc Curve"
   ]
  },
  {
   "cell_type": "code",
   "execution_count": 27,
   "metadata": {
    "tags": []
   },
   "outputs": [
    {
     "output_type": "display_data",
     "data": {
      "text/plain": "<Figure size 432x288 with 1 Axes>",
      "image/svg+xml": "<?xml version=\"1.0\" encoding=\"utf-8\" standalone=\"no\"?>\n<!DOCTYPE svg PUBLIC \"-//W3C//DTD SVG 1.1//EN\"\n  \"http://www.w3.org/Graphics/SVG/1.1/DTD/svg11.dtd\">\n<!-- Created with matplotlib (https://matplotlib.org/) -->\n<svg height=\"248.518125pt\" version=\"1.1\" viewBox=\"0 0 372.103125 248.518125\" width=\"372.103125pt\" xmlns=\"http://www.w3.org/2000/svg\" xmlns:xlink=\"http://www.w3.org/1999/xlink\">\n <metadata>\n  <rdf:RDF xmlns:cc=\"http://creativecommons.org/ns#\" xmlns:dc=\"http://purl.org/dc/elements/1.1/\" xmlns:rdf=\"http://www.w3.org/1999/02/22-rdf-syntax-ns#\">\n   <cc:Work>\n    <dc:type rdf:resource=\"http://purl.org/dc/dcmitype/StillImage\"/>\n    <dc:date>2020-08-09T21:47:47.356666</dc:date>\n    <dc:format>image/svg+xml</dc:format>\n    <dc:creator>\n     <cc:Agent>\n      <dc:title>Matplotlib v3.3.0, https://matplotlib.org/</dc:title>\n     </cc:Agent>\n    </dc:creator>\n   </cc:Work>\n  </rdf:RDF>\n </metadata>\n <defs>\n  <style type=\"text/css\">*{stroke-linecap:butt;stroke-linejoin:round;}</style>\n </defs>\n <g id=\"figure_1\">\n  <g id=\"patch_1\">\n   <path d=\"M 0 248.518125 \nL 372.103125 248.518125 \nL 372.103125 0 \nL 0 0 \nz\n\" style=\"fill:none;\"/>\n  </g>\n  <g id=\"axes_1\">\n   <g id=\"patch_2\">\n    <path d=\"M 30.103125 224.64 \nL 364.903125 224.64 \nL 364.903125 7.2 \nL 30.103125 7.2 \nz\n\" style=\"fill:#ffffff;\"/>\n   </g>\n   <g id=\"matplotlib.axis_1\">\n    <g id=\"xtick_1\">\n     <g id=\"line2d_1\">\n      <defs>\n       <path d=\"M 0 0 \nL 0 3.5 \n\" id=\"mdcb6724f23\" style=\"stroke:#000000;stroke-width:0.8;\"/>\n      </defs>\n      <g>\n       <use style=\"stroke:#000000;stroke-width:0.8;\" x=\"45.321307\" xlink:href=\"#mdcb6724f23\" y=\"224.64\"/>\n      </g>\n     </g>\n     <g id=\"text_1\">\n      <!-- 0.0 -->\n      <g transform=\"translate(37.369744 239.238437)scale(0.1 -0.1)\">\n       <defs>\n        <path d=\"M 31.78125 66.40625 \nQ 24.171875 66.40625 20.328125 58.90625 \nQ 16.5 51.421875 16.5 36.375 \nQ 16.5 21.390625 20.328125 13.890625 \nQ 24.171875 6.390625 31.78125 6.390625 \nQ 39.453125 6.390625 43.28125 13.890625 \nQ 47.125 21.390625 47.125 36.375 \nQ 47.125 51.421875 43.28125 58.90625 \nQ 39.453125 66.40625 31.78125 66.40625 \nz\nM 31.78125 74.21875 \nQ 44.046875 74.21875 50.515625 64.515625 \nQ 56.984375 54.828125 56.984375 36.375 \nQ 56.984375 17.96875 50.515625 8.265625 \nQ 44.046875 -1.421875 31.78125 -1.421875 \nQ 19.53125 -1.421875 13.0625 8.265625 \nQ 6.59375 17.96875 6.59375 36.375 \nQ 6.59375 54.828125 13.0625 64.515625 \nQ 19.53125 74.21875 31.78125 74.21875 \nz\n\" id=\"DejaVuSans-48\"/>\n        <path d=\"M 10.6875 12.40625 \nL 21 12.40625 \nL 21 0 \nL 10.6875 0 \nz\n\" id=\"DejaVuSans-46\"/>\n       </defs>\n       <use xlink:href=\"#DejaVuSans-48\"/>\n       <use x=\"63.623047\" xlink:href=\"#DejaVuSans-46\"/>\n       <use x=\"95.410156\" xlink:href=\"#DejaVuSans-48\"/>\n      </g>\n     </g>\n    </g>\n    <g id=\"xtick_2\">\n     <g id=\"line2d_2\">\n      <g>\n       <use style=\"stroke:#000000;stroke-width:0.8;\" x=\"106.194034\" xlink:href=\"#mdcb6724f23\" y=\"224.64\"/>\n      </g>\n     </g>\n     <g id=\"text_2\">\n      <!-- 0.2 -->\n      <g transform=\"translate(98.242472 239.238437)scale(0.1 -0.1)\">\n       <defs>\n        <path d=\"M 19.1875 8.296875 \nL 53.609375 8.296875 \nL 53.609375 0 \nL 7.328125 0 \nL 7.328125 8.296875 \nQ 12.9375 14.109375 22.625 23.890625 \nQ 32.328125 33.6875 34.8125 36.53125 \nQ 39.546875 41.84375 41.421875 45.53125 \nQ 43.3125 49.21875 43.3125 52.78125 \nQ 43.3125 58.59375 39.234375 62.25 \nQ 35.15625 65.921875 28.609375 65.921875 \nQ 23.96875 65.921875 18.8125 64.3125 \nQ 13.671875 62.703125 7.8125 59.421875 \nL 7.8125 69.390625 \nQ 13.765625 71.78125 18.9375 73 \nQ 24.125 74.21875 28.421875 74.21875 \nQ 39.75 74.21875 46.484375 68.546875 \nQ 53.21875 62.890625 53.21875 53.421875 \nQ 53.21875 48.921875 51.53125 44.890625 \nQ 49.859375 40.875 45.40625 35.40625 \nQ 44.1875 33.984375 37.640625 27.21875 \nQ 31.109375 20.453125 19.1875 8.296875 \nz\n\" id=\"DejaVuSans-50\"/>\n       </defs>\n       <use xlink:href=\"#DejaVuSans-48\"/>\n       <use x=\"63.623047\" xlink:href=\"#DejaVuSans-46\"/>\n       <use x=\"95.410156\" xlink:href=\"#DejaVuSans-50\"/>\n      </g>\n     </g>\n    </g>\n    <g id=\"xtick_3\">\n     <g id=\"line2d_3\">\n      <g>\n       <use style=\"stroke:#000000;stroke-width:0.8;\" x=\"167.066761\" xlink:href=\"#mdcb6724f23\" y=\"224.64\"/>\n      </g>\n     </g>\n     <g id=\"text_3\">\n      <!-- 0.4 -->\n      <g transform=\"translate(159.115199 239.238437)scale(0.1 -0.1)\">\n       <defs>\n        <path d=\"M 37.796875 64.3125 \nL 12.890625 25.390625 \nL 37.796875 25.390625 \nz\nM 35.203125 72.90625 \nL 47.609375 72.90625 \nL 47.609375 25.390625 \nL 58.015625 25.390625 \nL 58.015625 17.1875 \nL 47.609375 17.1875 \nL 47.609375 0 \nL 37.796875 0 \nL 37.796875 17.1875 \nL 4.890625 17.1875 \nL 4.890625 26.703125 \nz\n\" id=\"DejaVuSans-52\"/>\n       </defs>\n       <use xlink:href=\"#DejaVuSans-48\"/>\n       <use x=\"63.623047\" xlink:href=\"#DejaVuSans-46\"/>\n       <use x=\"95.410156\" xlink:href=\"#DejaVuSans-52\"/>\n      </g>\n     </g>\n    </g>\n    <g id=\"xtick_4\">\n     <g id=\"line2d_4\">\n      <g>\n       <use style=\"stroke:#000000;stroke-width:0.8;\" x=\"227.939489\" xlink:href=\"#mdcb6724f23\" y=\"224.64\"/>\n      </g>\n     </g>\n     <g id=\"text_4\">\n      <!-- 0.6 -->\n      <g transform=\"translate(219.987926 239.238437)scale(0.1 -0.1)\">\n       <defs>\n        <path d=\"M 33.015625 40.375 \nQ 26.375 40.375 22.484375 35.828125 \nQ 18.609375 31.296875 18.609375 23.390625 \nQ 18.609375 15.53125 22.484375 10.953125 \nQ 26.375 6.390625 33.015625 6.390625 \nQ 39.65625 6.390625 43.53125 10.953125 \nQ 47.40625 15.53125 47.40625 23.390625 \nQ 47.40625 31.296875 43.53125 35.828125 \nQ 39.65625 40.375 33.015625 40.375 \nz\nM 52.59375 71.296875 \nL 52.59375 62.3125 \nQ 48.875 64.0625 45.09375 64.984375 \nQ 41.3125 65.921875 37.59375 65.921875 \nQ 27.828125 65.921875 22.671875 59.328125 \nQ 17.53125 52.734375 16.796875 39.40625 \nQ 19.671875 43.65625 24.015625 45.921875 \nQ 28.375 48.1875 33.59375 48.1875 \nQ 44.578125 48.1875 50.953125 41.515625 \nQ 57.328125 34.859375 57.328125 23.390625 \nQ 57.328125 12.15625 50.6875 5.359375 \nQ 44.046875 -1.421875 33.015625 -1.421875 \nQ 20.359375 -1.421875 13.671875 8.265625 \nQ 6.984375 17.96875 6.984375 36.375 \nQ 6.984375 53.65625 15.1875 63.9375 \nQ 23.390625 74.21875 37.203125 74.21875 \nQ 40.921875 74.21875 44.703125 73.484375 \nQ 48.484375 72.75 52.59375 71.296875 \nz\n\" id=\"DejaVuSans-54\"/>\n       </defs>\n       <use xlink:href=\"#DejaVuSans-48\"/>\n       <use x=\"63.623047\" xlink:href=\"#DejaVuSans-46\"/>\n       <use x=\"95.410156\" xlink:href=\"#DejaVuSans-54\"/>\n      </g>\n     </g>\n    </g>\n    <g id=\"xtick_5\">\n     <g id=\"line2d_5\">\n      <g>\n       <use style=\"stroke:#000000;stroke-width:0.8;\" x=\"288.812216\" xlink:href=\"#mdcb6724f23\" y=\"224.64\"/>\n      </g>\n     </g>\n     <g id=\"text_5\">\n      <!-- 0.8 -->\n      <g transform=\"translate(280.860653 239.238437)scale(0.1 -0.1)\">\n       <defs>\n        <path d=\"M 31.78125 34.625 \nQ 24.75 34.625 20.71875 30.859375 \nQ 16.703125 27.09375 16.703125 20.515625 \nQ 16.703125 13.921875 20.71875 10.15625 \nQ 24.75 6.390625 31.78125 6.390625 \nQ 38.8125 6.390625 42.859375 10.171875 \nQ 46.921875 13.96875 46.921875 20.515625 \nQ 46.921875 27.09375 42.890625 30.859375 \nQ 38.875 34.625 31.78125 34.625 \nz\nM 21.921875 38.8125 \nQ 15.578125 40.375 12.03125 44.71875 \nQ 8.5 49.078125 8.5 55.328125 \nQ 8.5 64.0625 14.71875 69.140625 \nQ 20.953125 74.21875 31.78125 74.21875 \nQ 42.671875 74.21875 48.875 69.140625 \nQ 55.078125 64.0625 55.078125 55.328125 \nQ 55.078125 49.078125 51.53125 44.71875 \nQ 48 40.375 41.703125 38.8125 \nQ 48.828125 37.15625 52.796875 32.3125 \nQ 56.78125 27.484375 56.78125 20.515625 \nQ 56.78125 9.90625 50.3125 4.234375 \nQ 43.84375 -1.421875 31.78125 -1.421875 \nQ 19.734375 -1.421875 13.25 4.234375 \nQ 6.78125 9.90625 6.78125 20.515625 \nQ 6.78125 27.484375 10.78125 32.3125 \nQ 14.796875 37.15625 21.921875 38.8125 \nz\nM 18.3125 54.390625 \nQ 18.3125 48.734375 21.84375 45.5625 \nQ 25.390625 42.390625 31.78125 42.390625 \nQ 38.140625 42.390625 41.71875 45.5625 \nQ 45.3125 48.734375 45.3125 54.390625 \nQ 45.3125 60.0625 41.71875 63.234375 \nQ 38.140625 66.40625 31.78125 66.40625 \nQ 25.390625 66.40625 21.84375 63.234375 \nQ 18.3125 60.0625 18.3125 54.390625 \nz\n\" id=\"DejaVuSans-56\"/>\n       </defs>\n       <use xlink:href=\"#DejaVuSans-48\"/>\n       <use x=\"63.623047\" xlink:href=\"#DejaVuSans-46\"/>\n       <use x=\"95.410156\" xlink:href=\"#DejaVuSans-56\"/>\n      </g>\n     </g>\n    </g>\n    <g id=\"xtick_6\">\n     <g id=\"line2d_6\">\n      <g>\n       <use style=\"stroke:#000000;stroke-width:0.8;\" x=\"349.684943\" xlink:href=\"#mdcb6724f23\" y=\"224.64\"/>\n      </g>\n     </g>\n     <g id=\"text_6\">\n      <!-- 1.0 -->\n      <g transform=\"translate(341.733381 239.238437)scale(0.1 -0.1)\">\n       <defs>\n        <path d=\"M 12.40625 8.296875 \nL 28.515625 8.296875 \nL 28.515625 63.921875 \nL 10.984375 60.40625 \nL 10.984375 69.390625 \nL 28.421875 72.90625 \nL 38.28125 72.90625 \nL 38.28125 8.296875 \nL 54.390625 8.296875 \nL 54.390625 0 \nL 12.40625 0 \nz\n\" id=\"DejaVuSans-49\"/>\n       </defs>\n       <use xlink:href=\"#DejaVuSans-49\"/>\n       <use x=\"63.623047\" xlink:href=\"#DejaVuSans-46\"/>\n       <use x=\"95.410156\" xlink:href=\"#DejaVuSans-48\"/>\n      </g>\n     </g>\n    </g>\n   </g>\n   <g id=\"matplotlib.axis_2\">\n    <g id=\"ytick_1\">\n     <g id=\"line2d_7\">\n      <defs>\n       <path d=\"M 0 0 \nL -3.5 0 \n\" id=\"m3e76962cfc\" style=\"stroke:#000000;stroke-width:0.8;\"/>\n      </defs>\n      <g>\n       <use style=\"stroke:#000000;stroke-width:0.8;\" x=\"30.103125\" xlink:href=\"#m3e76962cfc\" y=\"214.756364\"/>\n      </g>\n     </g>\n     <g id=\"text_7\">\n      <!-- 0.0 -->\n      <g transform=\"translate(7.2 218.555582)scale(0.1 -0.1)\">\n       <use xlink:href=\"#DejaVuSans-48\"/>\n       <use x=\"63.623047\" xlink:href=\"#DejaVuSans-46\"/>\n       <use x=\"95.410156\" xlink:href=\"#DejaVuSans-48\"/>\n      </g>\n     </g>\n    </g>\n    <g id=\"ytick_2\">\n     <g id=\"line2d_8\">\n      <g>\n       <use style=\"stroke:#000000;stroke-width:0.8;\" x=\"30.103125\" xlink:href=\"#m3e76962cfc\" y=\"175.221818\"/>\n      </g>\n     </g>\n     <g id=\"text_8\">\n      <!-- 0.2 -->\n      <g transform=\"translate(7.2 179.021037)scale(0.1 -0.1)\">\n       <use xlink:href=\"#DejaVuSans-48\"/>\n       <use x=\"63.623047\" xlink:href=\"#DejaVuSans-46\"/>\n       <use x=\"95.410156\" xlink:href=\"#DejaVuSans-50\"/>\n      </g>\n     </g>\n    </g>\n    <g id=\"ytick_3\">\n     <g id=\"line2d_9\">\n      <g>\n       <use style=\"stroke:#000000;stroke-width:0.8;\" x=\"30.103125\" xlink:href=\"#m3e76962cfc\" y=\"135.687273\"/>\n      </g>\n     </g>\n     <g id=\"text_9\">\n      <!-- 0.4 -->\n      <g transform=\"translate(7.2 139.486491)scale(0.1 -0.1)\">\n       <use xlink:href=\"#DejaVuSans-48\"/>\n       <use x=\"63.623047\" xlink:href=\"#DejaVuSans-46\"/>\n       <use x=\"95.410156\" xlink:href=\"#DejaVuSans-52\"/>\n      </g>\n     </g>\n    </g>\n    <g id=\"ytick_4\">\n     <g id=\"line2d_10\">\n      <g>\n       <use style=\"stroke:#000000;stroke-width:0.8;\" x=\"30.103125\" xlink:href=\"#m3e76962cfc\" y=\"96.152727\"/>\n      </g>\n     </g>\n     <g id=\"text_10\">\n      <!-- 0.6 -->\n      <g transform=\"translate(7.2 99.951946)scale(0.1 -0.1)\">\n       <use xlink:href=\"#DejaVuSans-48\"/>\n       <use x=\"63.623047\" xlink:href=\"#DejaVuSans-46\"/>\n       <use x=\"95.410156\" xlink:href=\"#DejaVuSans-54\"/>\n      </g>\n     </g>\n    </g>\n    <g id=\"ytick_5\">\n     <g id=\"line2d_11\">\n      <g>\n       <use style=\"stroke:#000000;stroke-width:0.8;\" x=\"30.103125\" xlink:href=\"#m3e76962cfc\" y=\"56.618182\"/>\n      </g>\n     </g>\n     <g id=\"text_11\">\n      <!-- 0.8 -->\n      <g transform=\"translate(7.2 60.417401)scale(0.1 -0.1)\">\n       <use xlink:href=\"#DejaVuSans-48\"/>\n       <use x=\"63.623047\" xlink:href=\"#DejaVuSans-46\"/>\n       <use x=\"95.410156\" xlink:href=\"#DejaVuSans-56\"/>\n      </g>\n     </g>\n    </g>\n    <g id=\"ytick_6\">\n     <g id=\"line2d_12\">\n      <g>\n       <use style=\"stroke:#000000;stroke-width:0.8;\" x=\"30.103125\" xlink:href=\"#m3e76962cfc\" y=\"17.083636\"/>\n      </g>\n     </g>\n     <g id=\"text_12\">\n      <!-- 1.0 -->\n      <g transform=\"translate(7.2 20.882855)scale(0.1 -0.1)\">\n       <use xlink:href=\"#DejaVuSans-49\"/>\n       <use x=\"63.623047\" xlink:href=\"#DejaVuSans-46\"/>\n       <use x=\"95.410156\" xlink:href=\"#DejaVuSans-48\"/>\n      </g>\n     </g>\n    </g>\n   </g>\n   <g id=\"line2d_13\">\n    <path clip-path=\"url(#p62fb489e0d)\" d=\"M 45.321307 214.756364 \nL 45.431774 32.123059 \nL 45.438321 32.022772 \nL 45.548788 29.396339 \nL 45.556153 29.288824 \nL 45.66662 28.021234 \nL 45.679713 27.912816 \nL 45.789362 27.045469 \nL 45.809819 26.938858 \nL 45.920287 26.195289 \nL 45.944017 26.085064 \nL 46.054484 25.651391 \nL 46.080669 25.542973 \nL 46.191137 25.157184 \nL 46.239415 25.046959 \nL 46.349883 24.668399 \nL 46.382614 24.55998 \nL 46.489809 24.288935 \nL 46.543815 24.179613 \nL 46.654283 23.929347 \nL 46.728746 23.820929 \nL 46.839214 23.617645 \nL 46.903039 23.509226 \nL 47.01187 23.361055 \nL 47.09779 23.251733 \nL 47.208257 23.120728 \nL 47.307269 23.010502 \nL 47.4161 22.904795 \nL 47.538024 22.794569 \nL 47.648491 22.674406 \nL 47.776143 22.568698 \nL 47.88661 22.48377 \nL 48.037174 22.378966 \nL 48.146823 22.298556 \nL 48.327662 22.18833 \nL 48.43813 22.122376 \nL 48.633699 22.012151 \nL 48.743348 21.956135 \nL 49.01338 21.845909 \nL 49.123029 21.779955 \nL 49.38406 21.66973 \nL 49.492073 21.635397 \nL 49.798109 21.525172 \nL 49.903667 21.492646 \nL 50.23016 21.382421 \nL 50.325899 21.343571 \nL 50.760405 21.233346 \nL 50.868417 21.206241 \nL 51.435485 21.096016 \nL 51.539406 21.066201 \nL 52.06965 20.955976 \nL 52.177663 20.933389 \nL 52.781553 20.823164 \nL 52.890384 20.808708 \nL 53.730756 20.698483 \nL 53.838769 20.680413 \nL 54.479481 20.570188 \nL 54.587494 20.553925 \nL 55.541607 20.4437 \nL 55.647983 20.431051 \nL 56.710108 20.320826 \nL 56.817303 20.311791 \nL 58.157643 20.201565 \nL 58.265656 20.188917 \nL 59.771289 20.078691 \nL 59.853117 20.066946 \nL 61.587049 19.956721 \nL 61.681151 19.949493 \nL 63.879047 19.839268 \nL 63.979696 19.829329 \nL 66.020482 19.719104 \nL 66.126859 19.71278 \nL 68.312481 19.602554 \nL 68.416402 19.59623 \nL 71.139633 19.486005 \nL 71.231281 19.483294 \nL 74.389018 19.373069 \nL 74.476573 19.369455 \nL 77.969805 19.25923 \nL 78.067998 19.255616 \nL 81.573504 19.145391 \nL 81.644694 19.141777 \nL 87.031422 19.031551 \nL 87.141071 19.026131 \nL 92.918118 18.915905 \nL 93.016312 18.912291 \nL 99.222955 18.802066 \nL 99.22541 18.800259 \nL 104.991001 18.690034 \nL 105.017186 18.687323 \nL 112.452883 18.577098 \nL 112.452883 18.576195 \nL 121.534958 18.465969 \nL 121.590601 18.462356 \nL 131.930369 18.35213 \nL 132.008106 18.348516 \nL 142.140031 18.238291 \nL 142.222677 18.236484 \nL 154.362659 18.126259 \nL 154.362659 18.125355 \nL 154.420757 18.125355 \nL 168.032821 18.01513 \nL 168.140016 18.013323 \nL 186.374536 17.903098 \nL 186.441635 17.900387 \nL 186.44409 17.900387 \nL 203.012595 17.790162 \nL 203.066601 17.788355 \nL 222.877945 17.67813 \nL 222.954863 17.676323 \nL 245.261956 17.566098 \nL 245.261956 17.565194 \nL 267.276105 17.454969 \nL 267.374298 17.453162 \nL 292.342433 17.342937 \nL 292.392348 17.340226 \nL 322.404353 17.230001 \nL 322.404353 17.229098 \nL 348.164582 17.118872 \nL 348.214497 17.116162 \nL 349.684943 17.083636 \nL 349.684943 17.083636 \n\" style=\"fill:none;stroke:#1f77b4;stroke-linecap:square;stroke-width:1.5;\"/>\n   </g>\n   <g id=\"line2d_14\">\n    <path clip-path=\"url(#p62fb489e0d)\" d=\"M 45.321307 214.756364 \nL 349.684943 17.083636 \n\" style=\"fill:none;stroke:#000000;stroke-dasharray:5.55,2.4;stroke-dashoffset:0;stroke-width:1.5;\"/>\n   </g>\n   <g id=\"patch_3\">\n    <path d=\"M 30.103125 224.64 \nL 30.103125 7.2 \n\" style=\"fill:none;stroke:#000000;stroke-linecap:square;stroke-linejoin:miter;stroke-width:0.8;\"/>\n   </g>\n   <g id=\"patch_4\">\n    <path d=\"M 364.903125 224.64 \nL 364.903125 7.2 \n\" style=\"fill:none;stroke:#000000;stroke-linecap:square;stroke-linejoin:miter;stroke-width:0.8;\"/>\n   </g>\n   <g id=\"patch_5\">\n    <path d=\"M 30.103125 224.64 \nL 364.903125 224.64 \n\" style=\"fill:none;stroke:#000000;stroke-linecap:square;stroke-linejoin:miter;stroke-width:0.8;\"/>\n   </g>\n   <g id=\"patch_6\">\n    <path d=\"M 30.103125 7.2 \nL 364.903125 7.2 \n\" style=\"fill:none;stroke:#000000;stroke-linecap:square;stroke-linejoin:miter;stroke-width:0.8;\"/>\n   </g>\n  </g>\n </g>\n <defs>\n  <clipPath id=\"p62fb489e0d\">\n   <rect height=\"217.44\" width=\"334.8\" x=\"30.103125\" y=\"7.2\"/>\n  </clipPath>\n </defs>\n</svg>\n",
      "image/png": "[encoded data removed]"
     },
     "metadata": {
      "needs_background": "light"
     }
    },
    {
     "output_type": "stream",
     "name": "stdout",
     "text": "\nROC Score: 0.9947038946272739\n"
    }
   ],
   "source": [
    "fpr, tpr, thr = roc_curve(y_test, MC_y_preds)\n",
    "\n",
    "plt.plot(fpr, tpr, label='ROC')\n",
    "plt.plot([0,1],[0,1], 'k--')\n",
    "plt.show()\n",
    "print(\"\\nROC Score:\",aMC := roc_auc_score(y_test, MC_y_preds))"
   ]
  },
  {
   "cell_type": "code",
   "execution_count": 28,
   "metadata": {
    "tags": []
   },
   "outputs": [
    {
     "output_type": "stream",
     "name": "stdout",
     "text": "Improvement w/MC Dropout - Dropout):  0.0012960151309624468\n"
    }
   ],
   "source": [
    "print(\"Improvement w/MC Dropout - Dropout): \", aMC - bMC)"
   ]
  },
  {
   "cell_type": "code",
   "execution_count": null,
   "metadata": {},
   "outputs": [],
   "source": []
  }
 ]
}