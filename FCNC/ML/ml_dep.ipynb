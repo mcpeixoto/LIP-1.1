{
 "cells": [
  {
   "cell_type": "code",
   "execution_count": 1,
   "metadata": {},
   "outputs": [],
   "source": [
    "# Ignorar\n",
    "import dill\n",
    "dill.load_session('save-state_ml.db')"
   ]
  },
  {
   "cell_type": "code",
   "execution_count": 2,
   "metadata": {},
   "outputs": [],
   "source": [
    "import pandas as pd\n",
    "import numpy as np\n",
    "import matplotlib.pyplot as plt\n",
    "from os import path\n",
    "\n",
    "# Variavel local que contem o path para o meu arquivo\n",
    "from config import Archive_Path"
   ]
  },
  {
   "cell_type": "code",
   "execution_count": 3,
   "metadata": {},
   "outputs": [],
   "source": [
    "data_background = pd.read_csv(path.join(Archive_Path,\"dileptonic\",\"ttbar_2L_background.csv\"))\n",
    "data_sinal = pd.read_hdf(path.join(Archive_Path,\"tZFCNC_sinal.h5\"))"
   ]
  },
  {
   "cell_type": "code",
   "execution_count": 4,
   "metadata": {},
   "outputs": [],
   "source": [
    "# Erase non experimental data and organize columns\n",
    "data_background.drop(['gen_decay1', 'gen_decay2', 'gen_xsec', 'MissingET_Eta', 'gen_sample', 'gen_decay_filter'], axis=1, inplace=True)\n",
    "data_sinal.drop(['gen_decay1', 'gen_decay2', 'gen_xsec','MissingET_Eta'], axis=1, inplace=True)\n",
    "\n",
    "# Organize columns\n",
    "data_background.sort_index(axis=1, inplace=True)\n",
    "data_sinal.sort_index(axis=1, inplace=True)"
   ]
  },
  {
   "cell_type": "code",
   "execution_count": 5,
   "metadata": {},
   "outputs": [],
   "source": [
    "# Definir nova coluna para dar 'label' aos dados\n",
    "data_background['Sinal'] = 0\n",
    "data_sinal['Sinal'] = 1"
   ]
  },
  {
   "cell_type": "markdown",
   "metadata": {},
   "source": [
    "Ver algumas estatisticas"
   ]
  },
  {
   "cell_type": "code",
   "execution_count": 6,
   "metadata": {},
   "outputs": [
    {
     "output_type": "execute_result",
     "data": {
      "text/plain": "       Electron1_Eta   Electron1_PT  Electron1_Phi  Electron2_Eta  \\\ncount  500000.000000  500000.000000  500000.000000  500000.000000   \nmean        0.000199      28.385820       0.001171      -0.000128   \nstd         0.767830      41.280688       1.223277       0.305510   \nmin        -2.499691       0.000000      -3.141559      -2.499738   \n25%         0.000000       0.000000       0.000000       0.000000   \n50%         0.000000       0.000000       0.000000       0.000000   \n75%         0.000000      48.915914       0.000000       0.000000   \nmax         2.499851     626.449890       3.141544       2.498276   \n\n        Electron2_PT  Electron2_Phi  Electron_Multi    FatJet1_Eta  \\\ncount  500000.000000  500000.000000   500000.000000  500000.000000   \nmean        2.884232       0.000147        0.527422       0.000038   \nstd        12.318126       0.486500        0.626368       0.389972   \nmin         0.000000      -3.141444        0.000000      -3.730006   \n25%         0.000000       0.000000        0.000000       0.000000   \n50%         0.000000       0.000000        0.000000       0.000000   \n75%         0.000000       0.000000        1.000000       0.000000   \nmax       329.786591       3.141018        3.000000       3.802478   \n\n        FatJet1_Mass     FatJet1_PT  ...  MissingET_Phi      Muon1_Eta  \\\ncount  500000.000000  500000.000000  ...  500000.000000  500000.000000   \nmean        6.989275      30.712739  ...       0.000743       0.001015   \nstd        23.089493      92.364908  ...       1.813829       0.881983   \nmin        -0.000043       0.000000  ...      -3.141578      -2.399983   \n25%         0.000000       0.000000  ...      -1.569301      -0.205479   \n50%         0.000000       0.000000  ...       0.001479       0.000000   \n75%         0.000000       0.000000  ...       1.569927       0.212567   \nmax       380.497650    2114.479004  ...       3.141585       2.399985   \n\n            Muon1_PT      Muon1_Phi      Muon2_Eta       Muon2_PT  \\\ncount  500000.000000  500000.000000  500000.000000  500000.000000   \nmean       34.920428       0.001014      -0.000270       4.718564   \nstd        42.851211       1.371289       0.410243      15.196548   \nmin         0.000000      -3.141578      -2.399956       0.000000   \n25%         0.000000      -0.387677       0.000000       0.000000   \n50%        24.027121       0.000000       0.000000       0.000000   \n75%        57.195151       0.389239       0.000000       0.000000   \nmax       929.323059       3.141569       2.399840     405.952667   \n\n           Muon2_Phi    Muon_Multi    ScalarHT_HT     Sinal  \ncount  500000.000000  500000.00000  500000.000000  500000.0  \nmean       -0.000153       0.69120     324.258654       0.0  \nstd         0.632841       0.67579     162.366414       0.0  \nmin        -3.141454       0.00000       0.000000       0.0  \n25%         0.000000       0.00000     218.499168       0.0  \n50%         0.000000       1.00000     288.371933       0.0  \n75%         0.000000       1.00000     387.995705       0.0  \nmax         3.141541       4.00000    3817.636475       0.0  \n\n[8 rows x 70 columns]",
      "text/html": "<div>\n<style scoped>\n    .dataframe tbody tr th:only-of-type {\n        vertical-align: middle;\n    }\n\n    .dataframe tbody tr th {\n        vertical-align: top;\n    }\n\n    .dataframe thead th {\n        text-align: right;\n    }\n</style>\n<table border=\"1\" class=\"dataframe\">\n  <thead>\n    <tr style=\"text-align: right;\">\n      <th></th>\n      <th>Electron1_Eta</th>\n      <th>Electron1_PT</th>\n      <th>Electron1_Phi</th>\n      <th>Electron2_Eta</th>\n      <th>Electron2_PT</th>\n      <th>Electron2_Phi</th>\n      <th>Electron_Multi</th>\n      <th>FatJet1_Eta</th>\n      <th>FatJet1_Mass</th>\n      <th>FatJet1_PT</th>\n      <th>...</th>\n      <th>MissingET_Phi</th>\n      <th>Muon1_Eta</th>\n      <th>Muon1_PT</th>\n      <th>Muon1_Phi</th>\n      <th>Muon2_Eta</th>\n      <th>Muon2_PT</th>\n      <th>Muon2_Phi</th>\n      <th>Muon_Multi</th>\n      <th>ScalarHT_HT</th>\n      <th>Sinal</th>\n    </tr>\n  </thead>\n  <tbody>\n    <tr>\n      <th>count</th>\n      <td>500000.000000</td>\n      <td>500000.000000</td>\n      <td>500000.000000</td>\n      <td>500000.000000</td>\n      <td>500000.000000</td>\n      <td>500000.000000</td>\n      <td>500000.000000</td>\n      <td>500000.000000</td>\n      <td>500000.000000</td>\n      <td>500000.000000</td>\n      <td>...</td>\n      <td>500000.000000</td>\n      <td>500000.000000</td>\n      <td>500000.000000</td>\n      <td>500000.000000</td>\n      <td>500000.000000</td>\n      <td>500000.000000</td>\n      <td>500000.000000</td>\n      <td>500000.00000</td>\n      <td>500000.000000</td>\n      <td>500000.0</td>\n    </tr>\n    <tr>\n      <th>mean</th>\n      <td>0.000199</td>\n      <td>28.385820</td>\n      <td>0.001171</td>\n      <td>-0.000128</td>\n      <td>2.884232</td>\n      <td>0.000147</td>\n      <td>0.527422</td>\n      <td>0.000038</td>\n      <td>6.989275</td>\n      <td>30.712739</td>\n      <td>...</td>\n      <td>0.000743</td>\n      <td>0.001015</td>\n      <td>34.920428</td>\n      <td>0.001014</td>\n      <td>-0.000270</td>\n      <td>4.718564</td>\n      <td>-0.000153</td>\n      <td>0.69120</td>\n      <td>324.258654</td>\n      <td>0.0</td>\n    </tr>\n    <tr>\n      <th>std</th>\n      <td>0.767830</td>\n      <td>41.280688</td>\n      <td>1.223277</td>\n      <td>0.305510</td>\n      <td>12.318126</td>\n      <td>0.486500</td>\n      <td>0.626368</td>\n      <td>0.389972</td>\n      <td>23.089493</td>\n      <td>92.364908</td>\n      <td>...</td>\n      <td>1.813829</td>\n      <td>0.881983</td>\n      <td>42.851211</td>\n      <td>1.371289</td>\n      <td>0.410243</td>\n      <td>15.196548</td>\n      <td>0.632841</td>\n      <td>0.67579</td>\n      <td>162.366414</td>\n      <td>0.0</td>\n    </tr>\n    <tr>\n      <th>min</th>\n      <td>-2.499691</td>\n      <td>0.000000</td>\n      <td>-3.141559</td>\n      <td>-2.499738</td>\n      <td>0.000000</td>\n      <td>-3.141444</td>\n      <td>0.000000</td>\n      <td>-3.730006</td>\n      <td>-0.000043</td>\n      <td>0.000000</td>\n      <td>...</td>\n      <td>-3.141578</td>\n      <td>-2.399983</td>\n      <td>0.000000</td>\n      <td>-3.141578</td>\n      <td>-2.399956</td>\n      <td>0.000000</td>\n      <td>-3.141454</td>\n      <td>0.00000</td>\n      <td>0.000000</td>\n      <td>0.0</td>\n    </tr>\n    <tr>\n      <th>25%</th>\n      <td>0.000000</td>\n      <td>0.000000</td>\n      <td>0.000000</td>\n      <td>0.000000</td>\n      <td>0.000000</td>\n      <td>0.000000</td>\n      <td>0.000000</td>\n      <td>0.000000</td>\n      <td>0.000000</td>\n      <td>0.000000</td>\n      <td>...</td>\n      <td>-1.569301</td>\n      <td>-0.205479</td>\n      <td>0.000000</td>\n      <td>-0.387677</td>\n      <td>0.000000</td>\n      <td>0.000000</td>\n      <td>0.000000</td>\n      <td>0.00000</td>\n      <td>218.499168</td>\n      <td>0.0</td>\n    </tr>\n    <tr>\n      <th>50%</th>\n      <td>0.000000</td>\n      <td>0.000000</td>\n      <td>0.000000</td>\n      <td>0.000000</td>\n      <td>0.000000</td>\n      <td>0.000000</td>\n      <td>0.000000</td>\n      <td>0.000000</td>\n      <td>0.000000</td>\n      <td>0.000000</td>\n      <td>...</td>\n      <td>0.001479</td>\n      <td>0.000000</td>\n      <td>24.027121</td>\n      <td>0.000000</td>\n      <td>0.000000</td>\n      <td>0.000000</td>\n      <td>0.000000</td>\n      <td>1.00000</td>\n      <td>288.371933</td>\n      <td>0.0</td>\n    </tr>\n    <tr>\n      <th>75%</th>\n      <td>0.000000</td>\n      <td>48.915914</td>\n      <td>0.000000</td>\n      <td>0.000000</td>\n      <td>0.000000</td>\n      <td>0.000000</td>\n      <td>1.000000</td>\n      <td>0.000000</td>\n      <td>0.000000</td>\n      <td>0.000000</td>\n      <td>...</td>\n      <td>1.569927</td>\n      <td>0.212567</td>\n      <td>57.195151</td>\n      <td>0.389239</td>\n      <td>0.000000</td>\n      <td>0.000000</td>\n      <td>0.000000</td>\n      <td>1.00000</td>\n      <td>387.995705</td>\n      <td>0.0</td>\n    </tr>\n    <tr>\n      <th>max</th>\n      <td>2.499851</td>\n      <td>626.449890</td>\n      <td>3.141544</td>\n      <td>2.498276</td>\n      <td>329.786591</td>\n      <td>3.141018</td>\n      <td>3.000000</td>\n      <td>3.802478</td>\n      <td>380.497650</td>\n      <td>2114.479004</td>\n      <td>...</td>\n      <td>3.141585</td>\n      <td>2.399985</td>\n      <td>929.323059</td>\n      <td>3.141569</td>\n      <td>2.399840</td>\n      <td>405.952667</td>\n      <td>3.141541</td>\n      <td>4.00000</td>\n      <td>3817.636475</td>\n      <td>0.0</td>\n    </tr>\n  </tbody>\n</table>\n<p>8 rows × 70 columns</p>\n</div>"
     },
     "metadata": {},
     "execution_count": 6
    }
   ],
   "source": [
    "data_background.describe()"
   ]
  },
  {
   "cell_type": "code",
   "execution_count": 7,
   "metadata": {},
   "outputs": [
    {
     "output_type": "execute_result",
     "data": {
      "text/plain": "       Electron1_Eta   Electron1_PT  Electron1_Phi  Electron2_Eta  \\\ncount  496629.000000  496629.000000  496629.000000  496629.000000   \nmean       -0.000584      74.595331       0.000794      -0.000768   \nstd         0.930693     125.514609       1.305128       0.544752   \nmin        -2.499965       0.000000      -3.141541      -2.499910   \n25%        -0.073234       0.000000      -0.099042       0.000000   \n50%         0.000000      17.244871       0.000000       0.000000   \n75%         0.069372     105.366226       0.113202       0.000000   \nmax         2.499960    2520.999268       3.141559       2.499871   \n\n        Electron2_PT  Electron2_Phi  Electron_Multi    FatJet1_Eta  \\\ncount  496629.000000  496629.000000   496629.000000  496629.000000   \nmean       15.561534       0.000413        0.769482      -0.001745   \nstd        42.306797       0.833456        0.872293       0.876292   \nmin         0.000000      -3.141587        0.000000      -3.751674   \n25%         0.000000       0.000000        0.000000       0.000000   \n50%         0.000000       0.000000        1.000000       0.000000   \n75%         0.000000       0.000000        1.000000       0.000000   \nmax      1159.582764       3.141527        5.000000       3.873398   \n\n        FatJet1_Mass     FatJet1_PT  ...  MissingET_Phi      Muon1_Eta  \\\ncount  496629.000000  496629.000000  ...  496629.000000  496629.000000   \nmean       34.026644     188.491407  ...      -0.004402      -0.000425   \nstd        47.521519     249.697325  ...       1.814332       1.026629   \nmin        -0.000106       0.000000  ...      -3.141576      -2.399990   \n25%         0.000000       0.000000  ...      -1.571347      -0.404351   \n50%         0.000000       0.000000  ...      -0.010975       0.000000   \n75%        86.022392     325.346222  ...       1.567159       0.403690   \nmax       843.073975    3392.284424  ...       3.141546       2.399966   \n\n            Muon1_PT      Muon1_Phi      Muon2_Eta       Muon2_PT  \\\ncount  496629.000000  496629.000000  496629.000000  496629.000000   \nmean       90.913335       0.004838      -0.000875      22.731646   \nstd       136.216165       1.418758       0.685909      49.456690   \nmin         0.000000      -3.141585      -2.399989       0.000000   \n25%         0.000000      -0.558771       0.000000       0.000000   \n50%        40.173485       0.000000       0.000000       0.000000   \n75%       129.537567       0.580736       0.000000      27.847511   \nmax      2646.508301       3.141582       2.399863    1429.202881   \n\n           Muon2_Phi     Muon_Multi    ScalarHT_HT     Sinal  \ncount  496629.000000  496629.000000  496629.000000  496629.0  \nmean       -0.000192       1.004752     549.278337       1.0  \nstd         1.013183       0.975314     376.825343       0.0  \nmin        -3.141572       0.000000       0.000000       1.0  \n25%         0.000000       0.000000     301.054840       1.0  \n50%         0.000000       1.000000     447.873413       1.0  \n75%         0.000000       2.000000     680.621948       1.0  \nmax         3.141471       5.000000    6930.255859       1.0  \n\n[8 rows x 70 columns]",
      "text/html": "<div>\n<style scoped>\n    .dataframe tbody tr th:only-of-type {\n        vertical-align: middle;\n    }\n\n    .dataframe tbody tr th {\n        vertical-align: top;\n    }\n\n    .dataframe thead th {\n        text-align: right;\n    }\n</style>\n<table border=\"1\" class=\"dataframe\">\n  <thead>\n    <tr style=\"text-align: right;\">\n      <th></th>\n      <th>Electron1_Eta</th>\n      <th>Electron1_PT</th>\n      <th>Electron1_Phi</th>\n      <th>Electron2_Eta</th>\n      <th>Electron2_PT</th>\n      <th>Electron2_Phi</th>\n      <th>Electron_Multi</th>\n      <th>FatJet1_Eta</th>\n      <th>FatJet1_Mass</th>\n      <th>FatJet1_PT</th>\n      <th>...</th>\n      <th>MissingET_Phi</th>\n      <th>Muon1_Eta</th>\n      <th>Muon1_PT</th>\n      <th>Muon1_Phi</th>\n      <th>Muon2_Eta</th>\n      <th>Muon2_PT</th>\n      <th>Muon2_Phi</th>\n      <th>Muon_Multi</th>\n      <th>ScalarHT_HT</th>\n      <th>Sinal</th>\n    </tr>\n  </thead>\n  <tbody>\n    <tr>\n      <th>count</th>\n      <td>496629.000000</td>\n      <td>496629.000000</td>\n      <td>496629.000000</td>\n      <td>496629.000000</td>\n      <td>496629.000000</td>\n      <td>496629.000000</td>\n      <td>496629.000000</td>\n      <td>496629.000000</td>\n      <td>496629.000000</td>\n      <td>496629.000000</td>\n      <td>...</td>\n      <td>496629.000000</td>\n      <td>496629.000000</td>\n      <td>496629.000000</td>\n      <td>496629.000000</td>\n      <td>496629.000000</td>\n      <td>496629.000000</td>\n      <td>496629.000000</td>\n      <td>496629.000000</td>\n      <td>496629.000000</td>\n      <td>496629.0</td>\n    </tr>\n    <tr>\n      <th>mean</th>\n      <td>-0.000584</td>\n      <td>74.595331</td>\n      <td>0.000794</td>\n      <td>-0.000768</td>\n      <td>15.561534</td>\n      <td>0.000413</td>\n      <td>0.769482</td>\n      <td>-0.001745</td>\n      <td>34.026644</td>\n      <td>188.491407</td>\n      <td>...</td>\n      <td>-0.004402</td>\n      <td>-0.000425</td>\n      <td>90.913335</td>\n      <td>0.004838</td>\n      <td>-0.000875</td>\n      <td>22.731646</td>\n      <td>-0.000192</td>\n      <td>1.004752</td>\n      <td>549.278337</td>\n      <td>1.0</td>\n    </tr>\n    <tr>\n      <th>std</th>\n      <td>0.930693</td>\n      <td>125.514609</td>\n      <td>1.305128</td>\n      <td>0.544752</td>\n      <td>42.306797</td>\n      <td>0.833456</td>\n      <td>0.872293</td>\n      <td>0.876292</td>\n      <td>47.521519</td>\n      <td>249.697325</td>\n      <td>...</td>\n      <td>1.814332</td>\n      <td>1.026629</td>\n      <td>136.216165</td>\n      <td>1.418758</td>\n      <td>0.685909</td>\n      <td>49.456690</td>\n      <td>1.013183</td>\n      <td>0.975314</td>\n      <td>376.825343</td>\n      <td>0.0</td>\n    </tr>\n    <tr>\n      <th>min</th>\n      <td>-2.499965</td>\n      <td>0.000000</td>\n      <td>-3.141541</td>\n      <td>-2.499910</td>\n      <td>0.000000</td>\n      <td>-3.141587</td>\n      <td>0.000000</td>\n      <td>-3.751674</td>\n      <td>-0.000106</td>\n      <td>0.000000</td>\n      <td>...</td>\n      <td>-3.141576</td>\n      <td>-2.399990</td>\n      <td>0.000000</td>\n      <td>-3.141585</td>\n      <td>-2.399989</td>\n      <td>0.000000</td>\n      <td>-3.141572</td>\n      <td>0.000000</td>\n      <td>0.000000</td>\n      <td>1.0</td>\n    </tr>\n    <tr>\n      <th>25%</th>\n      <td>-0.073234</td>\n      <td>0.000000</td>\n      <td>-0.099042</td>\n      <td>0.000000</td>\n      <td>0.000000</td>\n      <td>0.000000</td>\n      <td>0.000000</td>\n      <td>0.000000</td>\n      <td>0.000000</td>\n      <td>0.000000</td>\n      <td>...</td>\n      <td>-1.571347</td>\n      <td>-0.404351</td>\n      <td>0.000000</td>\n      <td>-0.558771</td>\n      <td>0.000000</td>\n      <td>0.000000</td>\n      <td>0.000000</td>\n      <td>0.000000</td>\n      <td>301.054840</td>\n      <td>1.0</td>\n    </tr>\n    <tr>\n      <th>50%</th>\n      <td>0.000000</td>\n      <td>17.244871</td>\n      <td>0.000000</td>\n      <td>0.000000</td>\n      <td>0.000000</td>\n      <td>0.000000</td>\n      <td>1.000000</td>\n      <td>0.000000</td>\n      <td>0.000000</td>\n      <td>0.000000</td>\n      <td>...</td>\n      <td>-0.010975</td>\n      <td>0.000000</td>\n      <td>40.173485</td>\n      <td>0.000000</td>\n      <td>0.000000</td>\n      <td>0.000000</td>\n      <td>0.000000</td>\n      <td>1.000000</td>\n      <td>447.873413</td>\n      <td>1.0</td>\n    </tr>\n    <tr>\n      <th>75%</th>\n      <td>0.069372</td>\n      <td>105.366226</td>\n      <td>0.113202</td>\n      <td>0.000000</td>\n      <td>0.000000</td>\n      <td>0.000000</td>\n      <td>1.000000</td>\n      <td>0.000000</td>\n      <td>86.022392</td>\n      <td>325.346222</td>\n      <td>...</td>\n      <td>1.567159</td>\n      <td>0.403690</td>\n      <td>129.537567</td>\n      <td>0.580736</td>\n      <td>0.000000</td>\n      <td>27.847511</td>\n      <td>0.000000</td>\n      <td>2.000000</td>\n      <td>680.621948</td>\n      <td>1.0</td>\n    </tr>\n    <tr>\n      <th>max</th>\n      <td>2.499960</td>\n      <td>2520.999268</td>\n      <td>3.141559</td>\n      <td>2.499871</td>\n      <td>1159.582764</td>\n      <td>3.141527</td>\n      <td>5.000000</td>\n      <td>3.873398</td>\n      <td>843.073975</td>\n      <td>3392.284424</td>\n      <td>...</td>\n      <td>3.141546</td>\n      <td>2.399966</td>\n      <td>2646.508301</td>\n      <td>3.141582</td>\n      <td>2.399863</td>\n      <td>1429.202881</td>\n      <td>3.141471</td>\n      <td>5.000000</td>\n      <td>6930.255859</td>\n      <td>1.0</td>\n    </tr>\n  </tbody>\n</table>\n<p>8 rows × 70 columns</p>\n</div>"
     },
     "metadata": {},
     "execution_count": 7
    }
   ],
   "source": [
    "data_sinal.describe()"
   ]
  },
  {
   "cell_type": "markdown",
   "metadata": {},
   "source": [
    "Criar um novo dataset com todos os dados"
   ]
  },
  {
   "cell_type": "code",
   "execution_count": 8,
   "metadata": {},
   "outputs": [
    {
     "output_type": "execute_result",
     "data": {
      "text/plain": "       Electron1_Eta   Electron1_PT  Electron1_Phi  Electron2_Eta  \\\ncount  996629.000000  996629.000000  996629.000000  996629.000000   \nmean       -0.000191      51.412426       0.000983      -0.000447   \nstd         0.852882      96.120031       1.264726       0.441250   \nmin        -2.499965       0.000000      -3.141559      -2.499910   \n25%         0.000000       0.000000       0.000000       0.000000   \n50%         0.000000       0.000000       0.000000       0.000000   \n75%         0.000000      66.790207       0.000000       0.000000   \nmax         2.499960    2520.999268       3.141559       2.499871   \n\n        Electron2_PT  Electron2_Phi  Electron_Multi    FatJet1_Eta  \\\ncount  996629.000000  996629.000000   996629.000000  996629.000000   \nmean        9.201443       0.000279        0.648043      -0.000851   \nstd        31.752281       0.681829        0.768531       0.677453   \nmin         0.000000      -3.141587        0.000000      -3.751674   \n25%         0.000000       0.000000        0.000000       0.000000   \n50%         0.000000       0.000000        0.000000       0.000000   \n75%         0.000000       0.000000        1.000000       0.000000   \nmax      1159.582764       3.141527        5.000000       3.873398   \n\n        FatJet1_Mass     FatJet1_PT  ...  MissingET_Phi      Muon1_Eta  \\\ncount  996629.000000  996629.000000  ...  996629.000000  996629.000000   \nmean       20.462234     109.335238  ...      -0.001821       0.000298   \nstd        39.693119     203.893172  ...       1.814081       0.956798   \nmin        -0.000106       0.000000  ...      -3.141578      -2.399990   \n25%         0.000000       0.000000  ...      -1.570397      -0.294126   \n50%         0.000000       0.000000  ...      -0.004383       0.000000   \n75%        19.003502     221.697723  ...       1.568587       0.298573   \nmax       843.073975    3392.284424  ...       3.141585       2.399985   \n\n            Muon1_PT      Muon1_Phi      Muon2_Eta       Muon2_PT  \\\ncount  996629.000000  996629.000000  996629.000000  996629.000000   \nmean       62.822187       0.002920      -0.000571      13.694641   \nstd       104.647233       1.395146       0.564689      37.627373   \nmin         0.000000      -3.141585      -2.399989       0.000000   \n25%         0.000000      -0.475944       0.000000       0.000000   \n50%        29.503569       0.000000       0.000000       0.000000   \n75%        80.436722       0.488797       0.000000       0.000000   \nmax      2646.508301       3.141582       2.399863    1429.202881   \n\n           Muon2_Phi     Muon_Multi    ScalarHT_HT          Sinal  \ncount  996629.000000  996629.000000  996629.000000  996629.000000  \nmean       -0.000172       0.847446     436.387942       0.498309  \nstd         0.844070       0.853057     310.874222       0.499997  \nmin        -3.141572       0.000000       0.000000       0.000000  \n25%         0.000000       0.000000     245.532516       0.000000  \n50%         0.000000       1.000000     346.872070       0.000000  \n75%         0.000000       1.000000     520.885010       1.000000  \nmax         3.141541       5.000000    6930.255859       1.000000  \n\n[8 rows x 70 columns]",
      "text/html": "<div>\n<style scoped>\n    .dataframe tbody tr th:only-of-type {\n        vertical-align: middle;\n    }\n\n    .dataframe tbody tr th {\n        vertical-align: top;\n    }\n\n    .dataframe thead th {\n        text-align: right;\n    }\n</style>\n<table border=\"1\" class=\"dataframe\">\n  <thead>\n    <tr style=\"text-align: right;\">\n      <th></th>\n      <th>Electron1_Eta</th>\n      <th>Electron1_PT</th>\n      <th>Electron1_Phi</th>\n      <th>Electron2_Eta</th>\n      <th>Electron2_PT</th>\n      <th>Electron2_Phi</th>\n      <th>Electron_Multi</th>\n      <th>FatJet1_Eta</th>\n      <th>FatJet1_Mass</th>\n      <th>FatJet1_PT</th>\n      <th>...</th>\n      <th>MissingET_Phi</th>\n      <th>Muon1_Eta</th>\n      <th>Muon1_PT</th>\n      <th>Muon1_Phi</th>\n      <th>Muon2_Eta</th>\n      <th>Muon2_PT</th>\n      <th>Muon2_Phi</th>\n      <th>Muon_Multi</th>\n      <th>ScalarHT_HT</th>\n      <th>Sinal</th>\n    </tr>\n  </thead>\n  <tbody>\n    <tr>\n      <th>count</th>\n      <td>996629.000000</td>\n      <td>996629.000000</td>\n      <td>996629.000000</td>\n      <td>996629.000000</td>\n      <td>996629.000000</td>\n      <td>996629.000000</td>\n      <td>996629.000000</td>\n      <td>996629.000000</td>\n      <td>996629.000000</td>\n      <td>996629.000000</td>\n      <td>...</td>\n      <td>996629.000000</td>\n      <td>996629.000000</td>\n      <td>996629.000000</td>\n      <td>996629.000000</td>\n      <td>996629.000000</td>\n      <td>996629.000000</td>\n      <td>996629.000000</td>\n      <td>996629.000000</td>\n      <td>996629.000000</td>\n      <td>996629.000000</td>\n    </tr>\n    <tr>\n      <th>mean</th>\n      <td>-0.000191</td>\n      <td>51.412426</td>\n      <td>0.000983</td>\n      <td>-0.000447</td>\n      <td>9.201443</td>\n      <td>0.000279</td>\n      <td>0.648043</td>\n      <td>-0.000851</td>\n      <td>20.462234</td>\n      <td>109.335238</td>\n      <td>...</td>\n      <td>-0.001821</td>\n      <td>0.000298</td>\n      <td>62.822187</td>\n      <td>0.002920</td>\n      <td>-0.000571</td>\n      <td>13.694641</td>\n      <td>-0.000172</td>\n      <td>0.847446</td>\n      <td>436.387942</td>\n      <td>0.498309</td>\n    </tr>\n    <tr>\n      <th>std</th>\n      <td>0.852882</td>\n      <td>96.120031</td>\n      <td>1.264726</td>\n      <td>0.441250</td>\n      <td>31.752281</td>\n      <td>0.681829</td>\n      <td>0.768531</td>\n      <td>0.677453</td>\n      <td>39.693119</td>\n      <td>203.893172</td>\n      <td>...</td>\n      <td>1.814081</td>\n      <td>0.956798</td>\n      <td>104.647233</td>\n      <td>1.395146</td>\n      <td>0.564689</td>\n      <td>37.627373</td>\n      <td>0.844070</td>\n      <td>0.853057</td>\n      <td>310.874222</td>\n      <td>0.499997</td>\n    </tr>\n    <tr>\n      <th>min</th>\n      <td>-2.499965</td>\n      <td>0.000000</td>\n      <td>-3.141559</td>\n      <td>-2.499910</td>\n      <td>0.000000</td>\n      <td>-3.141587</td>\n      <td>0.000000</td>\n      <td>-3.751674</td>\n      <td>-0.000106</td>\n      <td>0.000000</td>\n      <td>...</td>\n      <td>-3.141578</td>\n      <td>-2.399990</td>\n      <td>0.000000</td>\n      <td>-3.141585</td>\n      <td>-2.399989</td>\n      <td>0.000000</td>\n      <td>-3.141572</td>\n      <td>0.000000</td>\n      <td>0.000000</td>\n      <td>0.000000</td>\n    </tr>\n    <tr>\n      <th>25%</th>\n      <td>0.000000</td>\n      <td>0.000000</td>\n      <td>0.000000</td>\n      <td>0.000000</td>\n      <td>0.000000</td>\n      <td>0.000000</td>\n      <td>0.000000</td>\n      <td>0.000000</td>\n      <td>0.000000</td>\n      <td>0.000000</td>\n      <td>...</td>\n      <td>-1.570397</td>\n      <td>-0.294126</td>\n      <td>0.000000</td>\n      <td>-0.475944</td>\n      <td>0.000000</td>\n      <td>0.000000</td>\n      <td>0.000000</td>\n      <td>0.000000</td>\n      <td>245.532516</td>\n      <td>0.000000</td>\n    </tr>\n    <tr>\n      <th>50%</th>\n      <td>0.000000</td>\n      <td>0.000000</td>\n      <td>0.000000</td>\n      <td>0.000000</td>\n      <td>0.000000</td>\n      <td>0.000000</td>\n      <td>0.000000</td>\n      <td>0.000000</td>\n      <td>0.000000</td>\n      <td>0.000000</td>\n      <td>...</td>\n      <td>-0.004383</td>\n      <td>0.000000</td>\n      <td>29.503569</td>\n      <td>0.000000</td>\n      <td>0.000000</td>\n      <td>0.000000</td>\n      <td>0.000000</td>\n      <td>1.000000</td>\n      <td>346.872070</td>\n      <td>0.000000</td>\n    </tr>\n    <tr>\n      <th>75%</th>\n      <td>0.000000</td>\n      <td>66.790207</td>\n      <td>0.000000</td>\n      <td>0.000000</td>\n      <td>0.000000</td>\n      <td>0.000000</td>\n      <td>1.000000</td>\n      <td>0.000000</td>\n      <td>19.003502</td>\n      <td>221.697723</td>\n      <td>...</td>\n      <td>1.568587</td>\n      <td>0.298573</td>\n      <td>80.436722</td>\n      <td>0.488797</td>\n      <td>0.000000</td>\n      <td>0.000000</td>\n      <td>0.000000</td>\n      <td>1.000000</td>\n      <td>520.885010</td>\n      <td>1.000000</td>\n    </tr>\n    <tr>\n      <th>max</th>\n      <td>2.499960</td>\n      <td>2520.999268</td>\n      <td>3.141559</td>\n      <td>2.499871</td>\n      <td>1159.582764</td>\n      <td>3.141527</td>\n      <td>5.000000</td>\n      <td>3.873398</td>\n      <td>843.073975</td>\n      <td>3392.284424</td>\n      <td>...</td>\n      <td>3.141585</td>\n      <td>2.399985</td>\n      <td>2646.508301</td>\n      <td>3.141582</td>\n      <td>2.399863</td>\n      <td>1429.202881</td>\n      <td>3.141541</td>\n      <td>5.000000</td>\n      <td>6930.255859</td>\n      <td>1.000000</td>\n    </tr>\n  </tbody>\n</table>\n<p>8 rows × 70 columns</p>\n</div>"
     },
     "metadata": {},
     "execution_count": 8
    }
   ],
   "source": [
    "data = pd.concat([data_sinal, data_background])\n",
    "\n",
    "data.describe()\n"
   ]
  },
  {
   "cell_type": "markdown",
   "metadata": {},
   "source": [
    "Definir o train and test set"
   ]
  },
  {
   "cell_type": "code",
   "execution_count": 9,
   "metadata": {},
   "outputs": [],
   "source": [
    "from sklearn.model_selection import train_test_split\n",
    "\n",
    "train_set, test_set = train_test_split(data, test_size=0.2, random_state=42)"
   ]
  },
  {
   "cell_type": "code",
   "execution_count": 11,
   "metadata": {},
   "outputs": [],
   "source": [
    "dados_train = train_set.iloc[:,0:-1]\n",
    "label_train = train_set.iloc[:,-1]\n",
    "\n",
    "dados_test = test_set.iloc[:,0:-1]\n",
    "label_test = test_set.iloc[:,-1]"
   ]
  },
  {
   "cell_type": "code",
   "execution_count": 12,
   "metadata": {},
   "outputs": [
    {
     "output_type": "execute_result",
     "data": {
      "text/plain": "SGDClassifier(random_state=42)"
     },
     "metadata": {},
     "execution_count": 12
    }
   ],
   "source": [
    "from sklearn.linear_model import SGDClassifier\n",
    "\n",
    "sgd_clf = SGDClassifier(random_state=42)\n",
    "sgd_clf.fit(dados_train,(label_train == 1))"
   ]
  },
  {
   "cell_type": "code",
   "execution_count": 13,
   "metadata": {},
   "outputs": [],
   "source": [
    "dados_train_predictions = sgd_clf.predict(dados_train)"
   ]
  },
  {
   "cell_type": "code",
   "execution_count": 14,
   "metadata": {},
   "outputs": [
    {
     "output_type": "execute_result",
     "data": {
      "text/plain": "array([[339281,  60763],\n       [126254, 271005]], dtype=int64)"
     },
     "metadata": {},
     "execution_count": 14
    }
   ],
   "source": [
    "from sklearn.metrics import confusion_matrix\n",
    "confusion_matrix((label_train == 1), dados_train_predictions)"
   ]
  },
  {
   "cell_type": "code",
   "execution_count": null,
   "metadata": {},
   "outputs": [],
   "source": []
  }
 ],
 "metadata": {
  "language_info": {
   "codemirror_mode": {
    "name": "ipython",
    "version": 3
   },
   "file_extension": ".py",
   "mimetype": "text/x-python",
   "name": "python",
   "nbconvert_exporter": "python",
   "pygments_lexer": "ipython3",
   "version": "3.8.3-final"
  },
  "orig_nbformat": 2,
  "kernelspec": {
   "name": "tensorflow",
   "display_name": "Python 3.7 (tensorflow)"
  }
 },
 "nbformat": 4,
 "nbformat_minor": 2
}