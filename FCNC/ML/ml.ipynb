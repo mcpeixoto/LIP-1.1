{
 "cells": [
  {
   "cell_type": "code",
   "execution_count": 1,
   "metadata": {
    "tags": []
   },
   "outputs": [],
   "source": [
    "import pandas as pd\n",
    "import numpy as np\n",
    "import matplotlib.pyplot as plt\n",
    "from os.path import join\n",
    "import os\n",
    "from sklearn.model_selection import train_test_split\n",
    "from tensorflow import keras\n",
    "import tensorflow as tf\n",
    "\n",
    "# Path for my Archive folder\n",
    "from config import Archive_Path"
   ]
  },
  {
   "cell_type": "code",
   "execution_count": 2,
   "metadata": {
    "tags": []
   },
   "outputs": [
    {
     "output_type": "stream",
     "name": "stdout",
     "text": "Num GPUs Available:  1\n"
    }
   ],
   "source": [
    "print(\"Num GPUs Available: \", len(tf.config.experimental.list_physical_devices('GPU')))"
   ]
  },
  {
   "cell_type": "markdown",
   "metadata": {},
   "source": [
    "### Importar os Dados"
   ]
  },
  {
   "cell_type": "code",
   "execution_count": 3,
   "metadata": {},
   "outputs": [],
   "source": [
    "data_background = pd.read_hdf(join(Archive_Path, \"Data.h5\"), key='bkgd').reset_index(drop=True)\n",
    "data_signal = pd.read_hdf(join(Archive_Path,\"Data.h5\"), key='signal').reset_index(drop=True)"
   ]
  },
  {
   "cell_type": "code",
   "execution_count": 4,
   "metadata": {},
   "outputs": [
    {
     "output_type": "execute_result",
     "data": {
      "text/plain": "       Electron1_Eta  Electron1_PT  Electron1_Phi  Electron2_Eta  \\\ncount   4.245075e+06  4.245075e+06   4.245075e+06   4.245075e+06   \nmean    1.144244e-04  3.859111e+01   1.084335e-03   6.578391e-05   \nstd     8.418525e-01  4.644635e+01   1.370063e+00   5.749829e-01   \nmin    -2.499997e+00  0.000000e+00  -3.141592e+00  -2.499985e+00   \n25%    -1.928962e-01  0.000000e+00  -3.839418e-01   0.000000e+00   \n50%     0.000000e+00  2.859756e+01   0.000000e+00   0.000000e+00   \n75%     1.953454e-01  6.321899e+01   3.898618e-01   0.000000e+00   \nmax     2.499979e+00  1.451913e+03   3.141593e+00   2.499981e+00   \n\n       Electron2_PT  Electron2_Phi  Electron_Multi   FatJet1_Eta  \\\ncount  4.245075e+06   4.245075e+06    4.245075e+06  4.245075e+06   \nmean   9.697738e+00   1.264110e-05    8.245510e-01  4.101399e-04   \nstd    2.003727e+01   9.116318e-01    8.106689e-01  3.812480e-01   \nmin    0.000000e+00  -3.141592e+00    0.000000e+00 -4.000467e+00   \n25%    0.000000e+00   0.000000e+00    0.000000e+00  0.000000e+00   \n50%    0.000000e+00   0.000000e+00    1.000000e+00  0.000000e+00   \n75%    1.121624e+01   0.000000e+00    2.000000e+00  0.000000e+00   \nmax    5.076544e+02   3.141575e+00    5.000000e+00  3.873402e+00   \n\n       FatJet1_Mass    FatJet1_PT  ...  MissingET_Phi     Muon1_Eta  \\\ncount  4.245075e+06  4.245075e+06  ...   4.245075e+06  4.245075e+06   \nmean   7.257056e+00  3.065015e+01  ...  -9.000460e-04  4.498187e-04   \nstd    2.411029e+01  9.142469e+01  ...   1.813783e+00  9.935177e-01   \nmin   -5.285799e-05  0.000000e+00  ...  -3.141591e+00 -2.399985e+00   \n25%    0.000000e+00  0.000000e+00  ...  -1.571305e+00 -5.635411e-01   \n50%    0.000000e+00  0.000000e+00  ...  -3.040939e-03  0.000000e+00   \n75%    0.000000e+00  0.000000e+00  ...   1.569735e+00  5.642138e-01   \nmax    5.243948e+02  1.723009e+03  ...   3.141591e+00  2.399990e+00   \n\n           Muon1_PT     Muon1_Phi     Muon2_Eta      Muon2_PT     Muon2_Phi  \\\ncount  4.245075e+06  4.245075e+06  4.245075e+06  4.245075e+06  4.245075e+06   \nmean   5.110581e+01 -6.180218e-04  4.014672e-05  1.617111e+01 -3.028545e-05   \nstd    4.688299e+01  1.571220e+00  7.781081e-01  2.316157e+01  1.194959e+00   \nmin    0.000000e+00 -3.141592e+00 -2.399981e+00  0.000000e+00 -3.141588e+00   \n25%    1.028139e+01 -1.048443e+00  0.000000e+00  0.000000e+00  0.000000e+00   \n50%    4.753570e+01  0.000000e+00  0.000000e+00  0.000000e+00  0.000000e+00   \n75%    7.347187e+01  1.046109e+00  0.000000e+00  3.038062e+01  0.000000e+00   \nmax    1.249431e+03  3.141587e+00  2.399961e+00  6.135786e+02  3.141591e+00   \n\n         Muon_Multi   ScalarHT_HT   gen_weights  \ncount  4.245075e+06  4.245075e+06  4.245075e+06  \nmean   1.188113e+00  3.605171e+02  8.124088e-06  \nstd    8.122001e-01  1.834634e+02  1.420050e-05  \nmin    0.000000e+00  4.447565e+01  3.941200e-08  \n25%    1.000000e+00  2.310312e+02  1.811693e-07  \n50%    1.000000e+00  3.254956e+02  5.028781e-06  \n75%    2.000000e+00  4.480336e+02  7.089469e-06  \nmax    4.000000e+00  3.903838e+03  8.083906e-05  \n\n[8 rows x 70 columns]",
      "text/html": "<div>\n<style scoped>\n    .dataframe tbody tr th:only-of-type {\n        vertical-align: middle;\n    }\n\n    .dataframe tbody tr th {\n        vertical-align: top;\n    }\n\n    .dataframe thead th {\n        text-align: right;\n    }\n</style>\n<table border=\"1\" class=\"dataframe\">\n  <thead>\n    <tr style=\"text-align: right;\">\n      <th></th>\n      <th>Electron1_Eta</th>\n      <th>Electron1_PT</th>\n      <th>Electron1_Phi</th>\n      <th>Electron2_Eta</th>\n      <th>Electron2_PT</th>\n      <th>Electron2_Phi</th>\n      <th>Electron_Multi</th>\n      <th>FatJet1_Eta</th>\n      <th>FatJet1_Mass</th>\n      <th>FatJet1_PT</th>\n      <th>...</th>\n      <th>MissingET_Phi</th>\n      <th>Muon1_Eta</th>\n      <th>Muon1_PT</th>\n      <th>Muon1_Phi</th>\n      <th>Muon2_Eta</th>\n      <th>Muon2_PT</th>\n      <th>Muon2_Phi</th>\n      <th>Muon_Multi</th>\n      <th>ScalarHT_HT</th>\n      <th>gen_weights</th>\n    </tr>\n  </thead>\n  <tbody>\n    <tr>\n      <th>count</th>\n      <td>4.245075e+06</td>\n      <td>4.245075e+06</td>\n      <td>4.245075e+06</td>\n      <td>4.245075e+06</td>\n      <td>4.245075e+06</td>\n      <td>4.245075e+06</td>\n      <td>4.245075e+06</td>\n      <td>4.245075e+06</td>\n      <td>4.245075e+06</td>\n      <td>4.245075e+06</td>\n      <td>...</td>\n      <td>4.245075e+06</td>\n      <td>4.245075e+06</td>\n      <td>4.245075e+06</td>\n      <td>4.245075e+06</td>\n      <td>4.245075e+06</td>\n      <td>4.245075e+06</td>\n      <td>4.245075e+06</td>\n      <td>4.245075e+06</td>\n      <td>4.245075e+06</td>\n      <td>4.245075e+06</td>\n    </tr>\n    <tr>\n      <th>mean</th>\n      <td>1.144244e-04</td>\n      <td>3.859111e+01</td>\n      <td>1.084335e-03</td>\n      <td>6.578391e-05</td>\n      <td>9.697738e+00</td>\n      <td>1.264110e-05</td>\n      <td>8.245510e-01</td>\n      <td>4.101399e-04</td>\n      <td>7.257056e+00</td>\n      <td>3.065015e+01</td>\n      <td>...</td>\n      <td>-9.000460e-04</td>\n      <td>4.498187e-04</td>\n      <td>5.110581e+01</td>\n      <td>-6.180218e-04</td>\n      <td>4.014672e-05</td>\n      <td>1.617111e+01</td>\n      <td>-3.028545e-05</td>\n      <td>1.188113e+00</td>\n      <td>3.605171e+02</td>\n      <td>8.124088e-06</td>\n    </tr>\n    <tr>\n      <th>std</th>\n      <td>8.418525e-01</td>\n      <td>4.644635e+01</td>\n      <td>1.370063e+00</td>\n      <td>5.749829e-01</td>\n      <td>2.003727e+01</td>\n      <td>9.116318e-01</td>\n      <td>8.106689e-01</td>\n      <td>3.812480e-01</td>\n      <td>2.411029e+01</td>\n      <td>9.142469e+01</td>\n      <td>...</td>\n      <td>1.813783e+00</td>\n      <td>9.935177e-01</td>\n      <td>4.688299e+01</td>\n      <td>1.571220e+00</td>\n      <td>7.781081e-01</td>\n      <td>2.316157e+01</td>\n      <td>1.194959e+00</td>\n      <td>8.122001e-01</td>\n      <td>1.834634e+02</td>\n      <td>1.420050e-05</td>\n    </tr>\n    <tr>\n      <th>min</th>\n      <td>-2.499997e+00</td>\n      <td>0.000000e+00</td>\n      <td>-3.141592e+00</td>\n      <td>-2.499985e+00</td>\n      <td>0.000000e+00</td>\n      <td>-3.141592e+00</td>\n      <td>0.000000e+00</td>\n      <td>-4.000467e+00</td>\n      <td>-5.285799e-05</td>\n      <td>0.000000e+00</td>\n      <td>...</td>\n      <td>-3.141591e+00</td>\n      <td>-2.399985e+00</td>\n      <td>0.000000e+00</td>\n      <td>-3.141592e+00</td>\n      <td>-2.399981e+00</td>\n      <td>0.000000e+00</td>\n      <td>-3.141588e+00</td>\n      <td>0.000000e+00</td>\n      <td>4.447565e+01</td>\n      <td>3.941200e-08</td>\n    </tr>\n    <tr>\n      <th>25%</th>\n      <td>-1.928962e-01</td>\n      <td>0.000000e+00</td>\n      <td>-3.839418e-01</td>\n      <td>0.000000e+00</td>\n      <td>0.000000e+00</td>\n      <td>0.000000e+00</td>\n      <td>0.000000e+00</td>\n      <td>0.000000e+00</td>\n      <td>0.000000e+00</td>\n      <td>0.000000e+00</td>\n      <td>...</td>\n      <td>-1.571305e+00</td>\n      <td>-5.635411e-01</td>\n      <td>1.028139e+01</td>\n      <td>-1.048443e+00</td>\n      <td>0.000000e+00</td>\n      <td>0.000000e+00</td>\n      <td>0.000000e+00</td>\n      <td>1.000000e+00</td>\n      <td>2.310312e+02</td>\n      <td>1.811693e-07</td>\n    </tr>\n    <tr>\n      <th>50%</th>\n      <td>0.000000e+00</td>\n      <td>2.859756e+01</td>\n      <td>0.000000e+00</td>\n      <td>0.000000e+00</td>\n      <td>0.000000e+00</td>\n      <td>0.000000e+00</td>\n      <td>1.000000e+00</td>\n      <td>0.000000e+00</td>\n      <td>0.000000e+00</td>\n      <td>0.000000e+00</td>\n      <td>...</td>\n      <td>-3.040939e-03</td>\n      <td>0.000000e+00</td>\n      <td>4.753570e+01</td>\n      <td>0.000000e+00</td>\n      <td>0.000000e+00</td>\n      <td>0.000000e+00</td>\n      <td>0.000000e+00</td>\n      <td>1.000000e+00</td>\n      <td>3.254956e+02</td>\n      <td>5.028781e-06</td>\n    </tr>\n    <tr>\n      <th>75%</th>\n      <td>1.953454e-01</td>\n      <td>6.321899e+01</td>\n      <td>3.898618e-01</td>\n      <td>0.000000e+00</td>\n      <td>1.121624e+01</td>\n      <td>0.000000e+00</td>\n      <td>2.000000e+00</td>\n      <td>0.000000e+00</td>\n      <td>0.000000e+00</td>\n      <td>0.000000e+00</td>\n      <td>...</td>\n      <td>1.569735e+00</td>\n      <td>5.642138e-01</td>\n      <td>7.347187e+01</td>\n      <td>1.046109e+00</td>\n      <td>0.000000e+00</td>\n      <td>3.038062e+01</td>\n      <td>0.000000e+00</td>\n      <td>2.000000e+00</td>\n      <td>4.480336e+02</td>\n      <td>7.089469e-06</td>\n    </tr>\n    <tr>\n      <th>max</th>\n      <td>2.499979e+00</td>\n      <td>1.451913e+03</td>\n      <td>3.141593e+00</td>\n      <td>2.499981e+00</td>\n      <td>5.076544e+02</td>\n      <td>3.141575e+00</td>\n      <td>5.000000e+00</td>\n      <td>3.873402e+00</td>\n      <td>5.243948e+02</td>\n      <td>1.723009e+03</td>\n      <td>...</td>\n      <td>3.141591e+00</td>\n      <td>2.399990e+00</td>\n      <td>1.249431e+03</td>\n      <td>3.141587e+00</td>\n      <td>2.399961e+00</td>\n      <td>6.135786e+02</td>\n      <td>3.141591e+00</td>\n      <td>4.000000e+00</td>\n      <td>3.903838e+03</td>\n      <td>8.083906e-05</td>\n    </tr>\n  </tbody>\n</table>\n<p>8 rows × 70 columns</p>\n</div>"
     },
     "metadata": {},
     "execution_count": 4
    }
   ],
   "source": [
    "data_background.describe()"
   ]
  },
  {
   "cell_type": "code",
   "execution_count": 5,
   "metadata": {},
   "outputs": [
    {
     "output_type": "execute_result",
     "data": {
      "text/plain": "       Electron1_Eta   Electron1_PT  Electron1_Phi  Electron2_Eta  \\\ncount  195725.000000  195725.000000  195725.000000  195725.000000   \nmean       -0.002376      93.874797       0.002506      -0.001356   \nstd         0.956811     135.176460       1.411901       0.677618   \nmin        -2.499965       0.000000      -3.141324      -2.499727   \n25%        -0.343061       0.000000      -0.539507       0.000000   \n50%         0.000000      43.226986       0.000000       0.000000   \n75%         0.332078     138.506805       0.549541       0.000000   \nmax         2.499960    2124.003174       3.141387       2.499523   \n\n        Electron2_PT  Electron2_Phi  Electron_Multi    FatJet1_Eta  \\\ncount  195725.000000  195725.000000   195725.000000  195725.000000   \nmean       24.843815      -0.000378        1.003965      -0.000878   \nstd        50.790100       1.049370        0.959648       0.882671   \nmin         0.000000      -3.141587        0.000000      -3.494491   \n25%         0.000000       0.000000        0.000000      -0.127633   \n50%         0.000000       0.000000        1.000000       0.000000   \n75%        32.493484       0.000000        2.000000       0.119289   \nmax       998.448608       3.141527        5.000000       3.708754   \n\n        FatJet1_Mass     FatJet1_PT  ...  MissingET_Phi      Muon1_Eta  \\\ncount  195725.000000  195725.000000  ...  195725.000000  195725.000000   \nmean       39.842755     214.031343  ...      -0.011142      -0.002890   \nstd        48.378385     246.652396  ...       1.811996       1.084205   \nmin        -0.000061       0.000000  ...      -3.141550      -2.399990   \n25%         0.000000       0.000000  ...      -1.575856      -0.684100   \n50%         9.294422     216.051682  ...      -0.017987       0.000000   \n75%        91.306366     354.365540  ...       1.557150       0.672683   \nmax       732.435364    2939.618408  ...       3.141546       2.399966   \n\n            Muon1_PT      Muon1_Phi      Muon2_Eta       Muon2_PT  \\\ncount  195725.000000  195725.000000  195725.000000  195725.000000   \nmean      122.098796       0.008965      -0.002141      36.443064   \nstd       147.214662       1.571437       0.853159      58.101179   \nmin         0.000000      -3.141585      -2.399888       0.000000   \n25%         0.000000      -1.031103       0.000000       0.000000   \n50%        79.353065       0.000000       0.000000       0.000000   \n75%       175.863571       1.061248       0.000000      53.818260   \nmax      2646.508301       3.141582       2.399788    1217.265381   \n\n           Muon2_Phi     Muon_Multi    ScalarHT_HT   gen_weights  \ncount  195725.000000  195725.000000  195725.000000  1.957250e+05  \nmean        0.000233       1.373611     608.585528  1.286454e-09  \nstd         1.274687       1.002467     371.896309  2.067957e-25  \nmin        -3.141572       0.000000      51.668472  1.286454e-09  \n25%         0.000000       0.000000     354.401245  1.286454e-09  \n50%         0.000000       1.000000     512.929443  1.286454e-09  \n75%         0.000000       2.000000     753.832581  1.286454e-09  \nmax         3.141448       5.000000    4926.052246  1.286454e-09  \n\n[8 rows x 70 columns]",
      "text/html": "<div>\n<style scoped>\n    .dataframe tbody tr th:only-of-type {\n        vertical-align: middle;\n    }\n\n    .dataframe tbody tr th {\n        vertical-align: top;\n    }\n\n    .dataframe thead th {\n        text-align: right;\n    }\n</style>\n<table border=\"1\" class=\"dataframe\">\n  <thead>\n    <tr style=\"text-align: right;\">\n      <th></th>\n      <th>Electron1_Eta</th>\n      <th>Electron1_PT</th>\n      <th>Electron1_Phi</th>\n      <th>Electron2_Eta</th>\n      <th>Electron2_PT</th>\n      <th>Electron2_Phi</th>\n      <th>Electron_Multi</th>\n      <th>FatJet1_Eta</th>\n      <th>FatJet1_Mass</th>\n      <th>FatJet1_PT</th>\n      <th>...</th>\n      <th>MissingET_Phi</th>\n      <th>Muon1_Eta</th>\n      <th>Muon1_PT</th>\n      <th>Muon1_Phi</th>\n      <th>Muon2_Eta</th>\n      <th>Muon2_PT</th>\n      <th>Muon2_Phi</th>\n      <th>Muon_Multi</th>\n      <th>ScalarHT_HT</th>\n      <th>gen_weights</th>\n    </tr>\n  </thead>\n  <tbody>\n    <tr>\n      <th>count</th>\n      <td>195725.000000</td>\n      <td>195725.000000</td>\n      <td>195725.000000</td>\n      <td>195725.000000</td>\n      <td>195725.000000</td>\n      <td>195725.000000</td>\n      <td>195725.000000</td>\n      <td>195725.000000</td>\n      <td>195725.000000</td>\n      <td>195725.000000</td>\n      <td>...</td>\n      <td>195725.000000</td>\n      <td>195725.000000</td>\n      <td>195725.000000</td>\n      <td>195725.000000</td>\n      <td>195725.000000</td>\n      <td>195725.000000</td>\n      <td>195725.000000</td>\n      <td>195725.000000</td>\n      <td>195725.000000</td>\n      <td>1.957250e+05</td>\n    </tr>\n    <tr>\n      <th>mean</th>\n      <td>-0.002376</td>\n      <td>93.874797</td>\n      <td>0.002506</td>\n      <td>-0.001356</td>\n      <td>24.843815</td>\n      <td>-0.000378</td>\n      <td>1.003965</td>\n      <td>-0.000878</td>\n      <td>39.842755</td>\n      <td>214.031343</td>\n      <td>...</td>\n      <td>-0.011142</td>\n      <td>-0.002890</td>\n      <td>122.098796</td>\n      <td>0.008965</td>\n      <td>-0.002141</td>\n      <td>36.443064</td>\n      <td>0.000233</td>\n      <td>1.373611</td>\n      <td>608.585528</td>\n      <td>1.286454e-09</td>\n    </tr>\n    <tr>\n      <th>std</th>\n      <td>0.956811</td>\n      <td>135.176460</td>\n      <td>1.411901</td>\n      <td>0.677618</td>\n      <td>50.790100</td>\n      <td>1.049370</td>\n      <td>0.959648</td>\n      <td>0.882671</td>\n      <td>48.378385</td>\n      <td>246.652396</td>\n      <td>...</td>\n      <td>1.811996</td>\n      <td>1.084205</td>\n      <td>147.214662</td>\n      <td>1.571437</td>\n      <td>0.853159</td>\n      <td>58.101179</td>\n      <td>1.274687</td>\n      <td>1.002467</td>\n      <td>371.896309</td>\n      <td>2.067957e-25</td>\n    </tr>\n    <tr>\n      <th>min</th>\n      <td>-2.499965</td>\n      <td>0.000000</td>\n      <td>-3.141324</td>\n      <td>-2.499727</td>\n      <td>0.000000</td>\n      <td>-3.141587</td>\n      <td>0.000000</td>\n      <td>-3.494491</td>\n      <td>-0.000061</td>\n      <td>0.000000</td>\n      <td>...</td>\n      <td>-3.141550</td>\n      <td>-2.399990</td>\n      <td>0.000000</td>\n      <td>-3.141585</td>\n      <td>-2.399888</td>\n      <td>0.000000</td>\n      <td>-3.141572</td>\n      <td>0.000000</td>\n      <td>51.668472</td>\n      <td>1.286454e-09</td>\n    </tr>\n    <tr>\n      <th>25%</th>\n      <td>-0.343061</td>\n      <td>0.000000</td>\n      <td>-0.539507</td>\n      <td>0.000000</td>\n      <td>0.000000</td>\n      <td>0.000000</td>\n      <td>0.000000</td>\n      <td>-0.127633</td>\n      <td>0.000000</td>\n      <td>0.000000</td>\n      <td>...</td>\n      <td>-1.575856</td>\n      <td>-0.684100</td>\n      <td>0.000000</td>\n      <td>-1.031103</td>\n      <td>0.000000</td>\n      <td>0.000000</td>\n      <td>0.000000</td>\n      <td>0.000000</td>\n      <td>354.401245</td>\n      <td>1.286454e-09</td>\n    </tr>\n    <tr>\n      <th>50%</th>\n      <td>0.000000</td>\n      <td>43.226986</td>\n      <td>0.000000</td>\n      <td>0.000000</td>\n      <td>0.000000</td>\n      <td>0.000000</td>\n      <td>1.000000</td>\n      <td>0.000000</td>\n      <td>9.294422</td>\n      <td>216.051682</td>\n      <td>...</td>\n      <td>-0.017987</td>\n      <td>0.000000</td>\n      <td>79.353065</td>\n      <td>0.000000</td>\n      <td>0.000000</td>\n      <td>0.000000</td>\n      <td>0.000000</td>\n      <td>1.000000</td>\n      <td>512.929443</td>\n      <td>1.286454e-09</td>\n    </tr>\n    <tr>\n      <th>75%</th>\n      <td>0.332078</td>\n      <td>138.506805</td>\n      <td>0.549541</td>\n      <td>0.000000</td>\n      <td>32.493484</td>\n      <td>0.000000</td>\n      <td>2.000000</td>\n      <td>0.119289</td>\n      <td>91.306366</td>\n      <td>354.365540</td>\n      <td>...</td>\n      <td>1.557150</td>\n      <td>0.672683</td>\n      <td>175.863571</td>\n      <td>1.061248</td>\n      <td>0.000000</td>\n      <td>53.818260</td>\n      <td>0.000000</td>\n      <td>2.000000</td>\n      <td>753.832581</td>\n      <td>1.286454e-09</td>\n    </tr>\n    <tr>\n      <th>max</th>\n      <td>2.499960</td>\n      <td>2124.003174</td>\n      <td>3.141387</td>\n      <td>2.499523</td>\n      <td>998.448608</td>\n      <td>3.141527</td>\n      <td>5.000000</td>\n      <td>3.708754</td>\n      <td>732.435364</td>\n      <td>2939.618408</td>\n      <td>...</td>\n      <td>3.141546</td>\n      <td>2.399966</td>\n      <td>2646.508301</td>\n      <td>3.141582</td>\n      <td>2.399788</td>\n      <td>1217.265381</td>\n      <td>3.141448</td>\n      <td>5.000000</td>\n      <td>4926.052246</td>\n      <td>1.286454e-09</td>\n    </tr>\n  </tbody>\n</table>\n<p>8 rows × 70 columns</p>\n</div>"
     },
     "metadata": {},
     "execution_count": 5
    }
   ],
   "source": [
    "data_signal.describe()"
   ]
  },
  {
   "cell_type": "markdown",
   "metadata": {},
   "source": [
    "### Os dados ainda não estao prontos, basta olhar para a mean != 0.."
   ]
  },
  {
   "cell_type": "code",
   "execution_count": 6,
   "metadata": {},
   "outputs": [],
   "source": [
    "# Adicionar uma coluna de Signal -> 0 se for background e 1 se for signal\n",
    "data_background['Signal'] = pd.Series([0 for x in range(len(data_background.index))])\n",
    "data_signal['Signal'] = pd.Series([1 for x in range(len(data_signal.index))])"
   ]
  },
  {
   "cell_type": "code",
   "execution_count": 7,
   "metadata": {},
   "outputs": [],
   "source": [
    "# Vamos dar juntar tudo na variavel \"Data\" - Tem os dados, as labels e os Weights\n",
    "Data = data_background.append(data_signal).rename(columns={'gen_weights':'Weights'})"
   ]
  },
  {
   "cell_type": "code",
   "execution_count": 8,
   "metadata": {},
   "outputs": [
    {
     "output_type": "execute_result",
     "data": {
      "text/plain": "       Electron1_Eta  Electron1_PT  Electron1_Phi  Electron2_Eta  \\\ncount   4.440800e+06  4.440800e+06   4.440800e+06   4.440800e+06   \nmean    4.642362e-06  4.102770e+01   1.146982e-03   3.100396e-06   \nstd     8.472479e-01  5.473847e+01   1.371933e+00   5.798893e-01   \nmin    -2.499997e+00  0.000000e+00  -3.141592e+00  -2.499985e+00   \n25%    -1.986022e-01  0.000000e+00  -3.912720e-01   0.000000e+00   \n50%     0.000000e+00  2.898474e+01   0.000000e+00   0.000000e+00   \n75%     2.005566e-01  6.450357e+01   3.971428e-01   0.000000e+00   \nmax     2.499979e+00  2.124003e+03   3.141593e+00   2.499981e+00   \n\n       Electron2_PT  Electron2_Phi  Electron_Multi   FatJet1_Eta  \\\ncount  4.440800e+06   4.440800e+06    4.440800e+06  4.440800e+06   \nmean   1.036529e+01  -4.581339e-06    8.324586e-01  3.533756e-04   \nstd    2.252014e+01   9.181378e-01    8.186355e-01  4.162720e-01   \nmin    0.000000e+00  -3.141592e+00    0.000000e+00 -4.000467e+00   \n25%    0.000000e+00   0.000000e+00    0.000000e+00  0.000000e+00   \n50%    0.000000e+00   0.000000e+00    1.000000e+00  0.000000e+00   \n75%    1.263088e+01   0.000000e+00    2.000000e+00  0.000000e+00   \nmax    9.984486e+02   3.141575e+00    5.000000e+00  3.873402e+00   \n\n       FatJet1_Mass    FatJet1_PT  ...     Muon1_Eta      Muon1_PT  \\\ncount  4.440800e+06  4.440800e+06  ...  4.440800e+06  4.440800e+06   \nmean   8.693247e+00  3.873254e+01  ...  3.026105e-04  5.423478e+01   \nstd    2.652501e+01  1.099466e+02  ...  9.976884e-01  5.717222e+01   \nmin   -6.103516e-05  0.000000e+00  ... -2.399990e+00  0.000000e+00   \n25%    0.000000e+00  0.000000e+00  ... -5.680689e-01  1.020456e+01   \n50%    0.000000e+00  0.000000e+00  ...  0.000000e+00  4.799751e+01   \n75%    0.000000e+00  0.000000e+00  ...  5.684932e-01  7.523514e+01   \nmax    7.324354e+02  2.939618e+03  ...  2.399990e+00  2.646508e+03   \n\n          Muon1_Phi     Muon2_Eta      Muon2_PT     Muon2_Phi    Muon_Multi  \\\ncount  4.440800e+06  4.440800e+06  4.440800e+06  4.440800e+06  4.440800e+06   \nmean  -1.956640e-04 -5.599270e-05  1.706459e+01 -1.866145e-05  1.196289e+00   \nstd    1.571230e+00  7.815677e-01  2.605593e+01  1.198585e+00  8.223965e-01   \nmin   -3.141592e+00 -2.399981e+00  0.000000e+00 -3.141588e+00  0.000000e+00   \n25%   -1.047653e+00  0.000000e+00  0.000000e+00  0.000000e+00  1.000000e+00   \n50%    0.000000e+00  0.000000e+00  0.000000e+00  0.000000e+00  1.000000e+00   \n75%    1.046757e+00  0.000000e+00  3.088431e+01  0.000000e+00  2.000000e+00   \nmax    3.141587e+00  2.399961e+00  1.217265e+03  3.141591e+00  5.000000e+00   \n\n        ScalarHT_HT       Weights        Signal  \ncount  4.440800e+06  4.440800e+06  4.440800e+06  \nmean   3.714505e+02  7.766081e-06  4.407427e-02  \nstd    2.021479e+02  1.398379e-05  2.052602e-01  \nmin    4.447565e+01  1.286454e-09  0.000000e+00  \n25%    2.342856e+02  1.811693e-07  0.000000e+00  \n50%    3.308271e+02  5.028781e-06  0.000000e+00  \n75%    4.581491e+02  7.089469e-06  0.000000e+00  \nmax    4.926052e+03  8.083906e-05  1.000000e+00  \n\n[8 rows x 71 columns]",
      "text/html": "<div>\n<style scoped>\n    .dataframe tbody tr th:only-of-type {\n        vertical-align: middle;\n    }\n\n    .dataframe tbody tr th {\n        vertical-align: top;\n    }\n\n    .dataframe thead th {\n        text-align: right;\n    }\n</style>\n<table border=\"1\" class=\"dataframe\">\n  <thead>\n    <tr style=\"text-align: right;\">\n      <th></th>\n      <th>Electron1_Eta</th>\n      <th>Electron1_PT</th>\n      <th>Electron1_Phi</th>\n      <th>Electron2_Eta</th>\n      <th>Electron2_PT</th>\n      <th>Electron2_Phi</th>\n      <th>Electron_Multi</th>\n      <th>FatJet1_Eta</th>\n      <th>FatJet1_Mass</th>\n      <th>FatJet1_PT</th>\n      <th>...</th>\n      <th>Muon1_Eta</th>\n      <th>Muon1_PT</th>\n      <th>Muon1_Phi</th>\n      <th>Muon2_Eta</th>\n      <th>Muon2_PT</th>\n      <th>Muon2_Phi</th>\n      <th>Muon_Multi</th>\n      <th>ScalarHT_HT</th>\n      <th>Weights</th>\n      <th>Signal</th>\n    </tr>\n  </thead>\n  <tbody>\n    <tr>\n      <th>count</th>\n      <td>4.440800e+06</td>\n      <td>4.440800e+06</td>\n      <td>4.440800e+06</td>\n      <td>4.440800e+06</td>\n      <td>4.440800e+06</td>\n      <td>4.440800e+06</td>\n      <td>4.440800e+06</td>\n      <td>4.440800e+06</td>\n      <td>4.440800e+06</td>\n      <td>4.440800e+06</td>\n      <td>...</td>\n      <td>4.440800e+06</td>\n      <td>4.440800e+06</td>\n      <td>4.440800e+06</td>\n      <td>4.440800e+06</td>\n      <td>4.440800e+06</td>\n      <td>4.440800e+06</td>\n      <td>4.440800e+06</td>\n      <td>4.440800e+06</td>\n      <td>4.440800e+06</td>\n      <td>4.440800e+06</td>\n    </tr>\n    <tr>\n      <th>mean</th>\n      <td>4.642362e-06</td>\n      <td>4.102770e+01</td>\n      <td>1.146982e-03</td>\n      <td>3.100396e-06</td>\n      <td>1.036529e+01</td>\n      <td>-4.581339e-06</td>\n      <td>8.324586e-01</td>\n      <td>3.533756e-04</td>\n      <td>8.693247e+00</td>\n      <td>3.873254e+01</td>\n      <td>...</td>\n      <td>3.026105e-04</td>\n      <td>5.423478e+01</td>\n      <td>-1.956640e-04</td>\n      <td>-5.599270e-05</td>\n      <td>1.706459e+01</td>\n      <td>-1.866145e-05</td>\n      <td>1.196289e+00</td>\n      <td>3.714505e+02</td>\n      <td>7.766081e-06</td>\n      <td>4.407427e-02</td>\n    </tr>\n    <tr>\n      <th>std</th>\n      <td>8.472479e-01</td>\n      <td>5.473847e+01</td>\n      <td>1.371933e+00</td>\n      <td>5.798893e-01</td>\n      <td>2.252014e+01</td>\n      <td>9.181378e-01</td>\n      <td>8.186355e-01</td>\n      <td>4.162720e-01</td>\n      <td>2.652501e+01</td>\n      <td>1.099466e+02</td>\n      <td>...</td>\n      <td>9.976884e-01</td>\n      <td>5.717222e+01</td>\n      <td>1.571230e+00</td>\n      <td>7.815677e-01</td>\n      <td>2.605593e+01</td>\n      <td>1.198585e+00</td>\n      <td>8.223965e-01</td>\n      <td>2.021479e+02</td>\n      <td>1.398379e-05</td>\n      <td>2.052602e-01</td>\n    </tr>\n    <tr>\n      <th>min</th>\n      <td>-2.499997e+00</td>\n      <td>0.000000e+00</td>\n      <td>-3.141592e+00</td>\n      <td>-2.499985e+00</td>\n      <td>0.000000e+00</td>\n      <td>-3.141592e+00</td>\n      <td>0.000000e+00</td>\n      <td>-4.000467e+00</td>\n      <td>-6.103516e-05</td>\n      <td>0.000000e+00</td>\n      <td>...</td>\n      <td>-2.399990e+00</td>\n      <td>0.000000e+00</td>\n      <td>-3.141592e+00</td>\n      <td>-2.399981e+00</td>\n      <td>0.000000e+00</td>\n      <td>-3.141588e+00</td>\n      <td>0.000000e+00</td>\n      <td>4.447565e+01</td>\n      <td>1.286454e-09</td>\n      <td>0.000000e+00</td>\n    </tr>\n    <tr>\n      <th>25%</th>\n      <td>-1.986022e-01</td>\n      <td>0.000000e+00</td>\n      <td>-3.912720e-01</td>\n      <td>0.000000e+00</td>\n      <td>0.000000e+00</td>\n      <td>0.000000e+00</td>\n      <td>0.000000e+00</td>\n      <td>0.000000e+00</td>\n      <td>0.000000e+00</td>\n      <td>0.000000e+00</td>\n      <td>...</td>\n      <td>-5.680689e-01</td>\n      <td>1.020456e+01</td>\n      <td>-1.047653e+00</td>\n      <td>0.000000e+00</td>\n      <td>0.000000e+00</td>\n      <td>0.000000e+00</td>\n      <td>1.000000e+00</td>\n      <td>2.342856e+02</td>\n      <td>1.811693e-07</td>\n      <td>0.000000e+00</td>\n    </tr>\n    <tr>\n      <th>50%</th>\n      <td>0.000000e+00</td>\n      <td>2.898474e+01</td>\n      <td>0.000000e+00</td>\n      <td>0.000000e+00</td>\n      <td>0.000000e+00</td>\n      <td>0.000000e+00</td>\n      <td>1.000000e+00</td>\n      <td>0.000000e+00</td>\n      <td>0.000000e+00</td>\n      <td>0.000000e+00</td>\n      <td>...</td>\n      <td>0.000000e+00</td>\n      <td>4.799751e+01</td>\n      <td>0.000000e+00</td>\n      <td>0.000000e+00</td>\n      <td>0.000000e+00</td>\n      <td>0.000000e+00</td>\n      <td>1.000000e+00</td>\n      <td>3.308271e+02</td>\n      <td>5.028781e-06</td>\n      <td>0.000000e+00</td>\n    </tr>\n    <tr>\n      <th>75%</th>\n      <td>2.005566e-01</td>\n      <td>6.450357e+01</td>\n      <td>3.971428e-01</td>\n      <td>0.000000e+00</td>\n      <td>1.263088e+01</td>\n      <td>0.000000e+00</td>\n      <td>2.000000e+00</td>\n      <td>0.000000e+00</td>\n      <td>0.000000e+00</td>\n      <td>0.000000e+00</td>\n      <td>...</td>\n      <td>5.684932e-01</td>\n      <td>7.523514e+01</td>\n      <td>1.046757e+00</td>\n      <td>0.000000e+00</td>\n      <td>3.088431e+01</td>\n      <td>0.000000e+00</td>\n      <td>2.000000e+00</td>\n      <td>4.581491e+02</td>\n      <td>7.089469e-06</td>\n      <td>0.000000e+00</td>\n    </tr>\n    <tr>\n      <th>max</th>\n      <td>2.499979e+00</td>\n      <td>2.124003e+03</td>\n      <td>3.141593e+00</td>\n      <td>2.499981e+00</td>\n      <td>9.984486e+02</td>\n      <td>3.141575e+00</td>\n      <td>5.000000e+00</td>\n      <td>3.873402e+00</td>\n      <td>7.324354e+02</td>\n      <td>2.939618e+03</td>\n      <td>...</td>\n      <td>2.399990e+00</td>\n      <td>2.646508e+03</td>\n      <td>3.141587e+00</td>\n      <td>2.399961e+00</td>\n      <td>1.217265e+03</td>\n      <td>3.141591e+00</td>\n      <td>5.000000e+00</td>\n      <td>4.926052e+03</td>\n      <td>8.083906e-05</td>\n      <td>1.000000e+00</td>\n    </tr>\n  </tbody>\n</table>\n<p>8 rows × 71 columns</p>\n</div>"
     },
     "metadata": {},
     "execution_count": 8
    }
   ],
   "source": [
    "Data.describe()"
   ]
  },
  {
   "cell_type": "code",
   "execution_count": 9,
   "metadata": {},
   "outputs": [],
   "source": [
    "# Apagar variaveis para poupar espaço\n",
    "del data_background\n",
    "del data_signal"
   ]
  },
  {
   "cell_type": "markdown",
   "metadata": {},
   "source": [
    "## Data preprocessing done! Let's start with the ML model"
   ]
  },
  {
   "cell_type": "code",
   "execution_count": 10,
   "metadata": {},
   "outputs": [],
   "source": [
    "# Separar em training e test set\n",
    "X_train, X_test, y_train, y_test = train_test_split(\n",
    "        Data.drop(columns=['Signal']), \n",
    "        Data['Signal'], \n",
    "        test_size=0.5)\n",
    "# Release RAM\n",
    "del Data"
   ]
  },
  {
   "cell_type": "markdown",
   "metadata": {},
   "source": [
    "Standardization of the data"
   ]
  },
  {
   "cell_type": "code",
   "execution_count": 11,
   "metadata": {},
   "outputs": [],
   "source": [
    "class Standardization(keras.layers.Layer):\n",
    "    def adapt(self, data_sample):\n",
    "        self.means_ = np.mean(data_sample, axis=0, keepdims=True)\n",
    "        self.stds_ = np.std(data_sample, axis=0, keepdims=True)\n",
    "    def call(self, inputs):\n",
    "        return (inputs - self.means_) / (self.stds_ + keras.backend.epsilon())\n",
    "        \n",
    "std_layer = Standardization()\n",
    "std_layer.adapt(X_train.drop(columns=['Weights']).to_numpy())"
   ]
  },
  {
   "cell_type": "markdown",
   "metadata": {},
   "source": [
    "Definir as class_weights para os dados de treino"
   ]
  },
  {
   "cell_type": "code",
   "execution_count": 12,
   "metadata": {},
   "outputs": [],
   "source": [
    "class_weights = {\n",
    "    0: 1,\n",
    "    1: len([x for x in y_train if x == 0]) / len([x for x in y_train if x == 1]) \n",
    "    # Nº de elementos da classe de referencia a dividir pelo nº de elementos da classe atual\n",
    "    # Ref = sinal\n",
    "}"
   ]
  },
  {
   "cell_type": "code",
   "execution_count": 13,
   "metadata": {},
   "outputs": [
    {
     "output_type": "execute_result",
     "data": {
      "text/plain": "{0: 1, 1: 21.700691121743752}"
     },
     "metadata": {},
     "execution_count": 13
    }
   ],
   "source": [
    "class_weights"
   ]
  },
  {
   "cell_type": "markdown",
   "metadata": {},
   "source": [
    "Build the model"
   ]
  },
  {
   "cell_type": "code",
   "execution_count": 14,
   "metadata": {},
   "outputs": [],
   "source": [
    "inputs = keras.layers.Input(shape=(69,))\n",
    "std = std_layer\n",
    "\n",
    "l1 = keras.layers.Dense(100, activation='relu')(inputs)\n",
    "d1 = keras.layers.Dropout(0.2)(l1, training=True)\n",
    "\n",
    "l2 = keras.layers.Dense(100, activation='relu')(d1)\n",
    "d2 = keras.layers.Dropout(0.2)(l2, training=True)\n",
    "\n",
    "l3 = keras.layers.Dense(100, activation='relu')(d2)\n",
    "d3 = keras.layers.Dropout(0.2)(l3, training=True)\n",
    "\n",
    "outputs = keras.layers.Dense(1, activation='sigmoid')(d3)\n",
    "\n",
    "\n",
    "model = keras.Model(inputs, outputs)\n",
    "\n",
    "model.compile(\n",
    "              optimizer='adam', \n",
    "              loss=\"binary_crossentropy\", \n",
    "              metrics=[\"accuracy\", keras.metrics.AUC()]\n",
    "              )"
   ]
  },
  {
   "cell_type": "code",
   "execution_count": 15,
   "metadata": {
    "tags": []
   },
   "outputs": [
    {
     "output_type": "stream",
     "name": "stdout",
     "text": "Model: \"model\"\n_________________________________________________________________\nLayer (type)                 Output Shape              Param #   \n=================================================================\ninput_1 (InputLayer)         [(None, 69)]              0         \n_________________________________________________________________\ndense (Dense)                (None, 100)               7000      \n_________________________________________________________________\ndropout (Dropout)            (None, 100)               0         \n_________________________________________________________________\ndense_1 (Dense)              (None, 100)               10100     \n_________________________________________________________________\ndropout_1 (Dropout)          (None, 100)               0         \n_________________________________________________________________\ndense_2 (Dense)              (None, 100)               10100     \n_________________________________________________________________\ndropout_2 (Dropout)          (None, 100)               0         \n_________________________________________________________________\ndense_3 (Dense)              (None, 1)                 101       \n=================================================================\nTotal params: 27,301\nTrainable params: 27,301\nNon-trainable params: 0\n_________________________________________________________________\n"
    }
   ],
   "source": [
    "model.summary()"
   ]
  },
  {
   "cell_type": "code",
   "execution_count": 16,
   "metadata": {},
   "outputs": [],
   "source": [
    "import time\n",
    "# Copiado do Gilberto\n",
    "# Model name\n",
    "name = str(time.time())\n",
    "\n",
    "# Tensorboard\n",
    "TB = keras.callbacks.TensorBoard(\"logs/\" + name, write_images=True)\n",
    "\n",
    "# Early Stopping\n",
    "ES = keras.callbacks.EarlyStopping(monitor=\"loss\", patience=5, verbose=2, mode=\"min\")\n",
    "\n",
    "# Model Checkpoint\n",
    "MC = keras.callbacks.ModelCheckpoint(\"models/\" + name + \".h5\", save_best_only=True, monitor=\"val_loss\",\n",
    "                                     mode=\"min\")"
   ]
  },
  {
   "cell_type": "code",
   "execution_count": 18,
   "metadata": {
    "tags": []
   },
   "outputs": [
    {
     "output_type": "stream",
     "name": "stdout",
     "text": "Epoch 1/10\n69388/69388 [==============================] - 166s 2ms/step - loss: 1.4981e-08 - accuracy: 0.9560 - auc: 0.5906\nEpoch 2/10\n69388/69388 [==============================] - 164s 2ms/step - loss: 1.2864e-08 - accuracy: 0.9560 - auc: 0.6320\nEpoch 3/10\n69388/69388 [==============================] - 164s 2ms/step - loss: 1.1640e-08 - accuracy: 0.9560 - auc: 0.6605\nEpoch 4/10\n69388/69388 [==============================] - 164s 2ms/step - loss: 1.0874e-08 - accuracy: 0.9560 - auc: 0.6794\nEpoch 5/10\n69388/69388 [==============================] - 166s 2ms/step - loss: 1.0282e-08 - accuracy: 0.9561 - auc: 0.6923\nEpoch 6/10\n69388/69388 [==============================] - 160s 2ms/step - loss: 9.9598e-09 - accuracy: 0.9561 - auc: 0.6485\nEpoch 7/10\n69388/69388 [==============================] - 177s 3ms/step - loss: 9.7288e-09 - accuracy: 0.9561 - auc: 0.6337\nEpoch 8/10\n69388/69388 [==============================] - 178s 3ms/step - loss: 9.6882e-09 - accuracy: 0.9563 - auc: 0.6205\nEpoch 9/10\n69388/69388 [==============================] - 176s 3ms/step - loss: 9.5410e-09 - accuracy: 0.9562 - auc: 0.6483\nEpoch 10/10\n69388/69388 [==============================] - 220s 3ms/step - loss: 9.5884e-09 - accuracy: 0.9563 - auc: 0.6426\n"
    }
   ],
   "source": [
    "\n",
    "history = model.fit(\n",
    "    x=X_train.drop(columns=['Weights']).to_numpy(),\n",
    "    y=y_train,\n",
    "    epochs=10,\n",
    "    # batch_size=1024,\n",
    "    shuffle=True,\n",
    "    class_weight=class_weights,\n",
    "    callbacks=[TB, ES],\n",
    "    sample_weight=X_train['Weights'].to_numpy()\n",
    "    )\n",
    "        "
   ]
  },
  {
   "cell_type": "markdown",
   "metadata": {},
   "source": [
    "### Saving the Model"
   ]
  },
  {
   "cell_type": "code",
   "execution_count": 19,
   "metadata": {
    "tags": []
   },
   "outputs": [
    {
     "output_type": "stream",
     "name": "stdout",
     "text": "WARNING:tensorflow:From /home/acujl/.local/lib/python3.8/site-packages/tensorflow/python/ops/resource_variable_ops.py:1813: calling BaseResourceVariable.__init__ (from tensorflow.python.ops.resource_variable_ops) with constraint is deprecated and will be removed in a future version.\nInstructions for updating:\nIf using Keras pass *_constraint arguments to layers.\nINFO:tensorflow:Assets written to: model/assets\n"
    }
   ],
   "source": [
    "model.save_weights(\"weights\")\n",
    "model.save(\"model\")"
   ]
  },
  {
   "cell_type": "code",
   "execution_count": 20,
   "metadata": {
    "tags": []
   },
   "outputs": [
    {
     "output_type": "execute_result",
     "data": {
      "text/plain": "<tensorflow.python.training.tracking.util.CheckpointLoadStatus at 0x7f3e87440f70>"
     },
     "metadata": {},
     "execution_count": 20
    }
   ],
   "source": [
    "model.load_weights(\"weights\")"
   ]
  },
  {
   "cell_type": "markdown",
   "metadata": {},
   "source": [
    "## Metrics "
   ]
  },
  {
   "cell_type": "code",
   "execution_count": 21,
   "metadata": {},
   "outputs": [],
   "source": [
    "from sklearn.metrics import confusion_matrix, precision_score, recall_score, accuracy_score"
   ]
  },
  {
   "cell_type": "code",
   "execution_count": 22,
   "metadata": {},
   "outputs": [],
   "source": [
    "y_preds = model.predict(X_test.drop(columns=['Weights']).values, batch_size=1024).reshape(-1)"
   ]
  },
  {
   "cell_type": "code",
   "execution_count": 23,
   "metadata": {},
   "outputs": [
    {
     "output_type": "execute_result",
     "data": {
      "text/plain": "0.9559840569266799"
     },
     "metadata": {},
     "execution_count": 23
    }
   ],
   "source": [
    "accuracy_score(y_test.values, y_preds.round())"
   ]
  },
  {
   "cell_type": "markdown",
   "metadata": {},
   "source": [
    "### Confusion matrix\n",
    "-> Background is the positive class\n",
    "\n",
    "-> Signal is the negative class"
   ]
  },
  {
   "cell_type": "markdown",
   "metadata": {},
   "source": [
    "<img src=https://cdn.discordapp.com/attachments/710910920460599327/734843424666288228/confusionMatrxiUpdated.png width=\"600\">"
   ]
  },
  {
   "cell_type": "code",
   "execution_count": 24,
   "metadata": {},
   "outputs": [
    {
     "output_type": "execute_result",
     "data": {
      "text/plain": "array([[2122487,       0],\n       [  97733,     180]])"
     },
     "metadata": {},
     "execution_count": 24
    }
   ],
   "source": [
    "confusion_matrix(y_test.values, y_preds.round())"
   ]
  },
  {
   "cell_type": "code",
   "execution_count": 25,
   "metadata": {},
   "outputs": [
    {
     "output_type": "execute_result",
     "data": {
      "text/plain": "array([[9.55902990e-01, 0.00000000e+00],\n       [4.40159431e-02, 8.10664745e-05]])"
     },
     "metadata": {},
     "execution_count": 25
    }
   ],
   "source": [
    "confusion_matrix(y_test.values, y_preds.round(), normalize=\"all\")"
   ]
  },
  {
   "cell_type": "code",
   "execution_count": 26,
   "metadata": {},
   "outputs": [
    {
     "output_type": "execute_result",
     "data": {
      "text/plain": "1.0"
     },
     "metadata": {},
     "execution_count": 26
    }
   ],
   "source": [
    "precision_score(y_test.values, y_preds.round())"
   ]
  },
  {
   "cell_type": "code",
   "execution_count": 27,
   "metadata": {},
   "outputs": [
    {
     "output_type": "execute_result",
     "data": {
      "text/plain": "0.0018383667133067111"
     },
     "metadata": {},
     "execution_count": 27
    }
   ],
   "source": [
    "recall_score(y_test.values, y_preds.round())"
   ]
  },
  {
   "cell_type": "markdown",
   "metadata": {},
   "source": [
    "### Plotting Roc Curve\n",
    "#### Link for more information - https://www.youtube.com/watch?v=4jRBRDbJemM\n",
    "#### An Example:"
   ]
  },
  {
   "cell_type": "markdown",
   "metadata": {},
   "source": [
    "<img src=https://3qeqpr26caki16dnhd19sv6by6v-wpengine.netdna-ssl.com/wp-content/uploads/2018/08/ROC-Curve-Plot-for-a-No-Skill-Classifier-and-a-Logistic-Regression-Model.png width=\"400\">"
   ]
  },
  {
   "cell_type": "markdown",
   "metadata": {},
   "source": [
    "<img src=img/tpr.png width=\"500\">"
   ]
  },
  {
   "cell_type": "markdown",
   "metadata": {},
   "source": [
    "<img src=img/fpr.png width=\"500\">"
   ]
  },
  {
   "cell_type": "code",
   "execution_count": 28,
   "metadata": {
    "tags": []
   },
   "outputs": [
    {
     "output_type": "display_data",
     "data": {
      "text/plain": "<Figure size 432x288 with 1 Axes>",
      "image/svg+xml": "<?xml version=\"1.0\" encoding=\"utf-8\" standalone=\"no\"?>\n<!DOCTYPE svg PUBLIC \"-//W3C//DTD SVG 1.1//EN\"\n  \"http://www.w3.org/Graphics/SVG/1.1/DTD/svg11.dtd\">\n<!-- Created with matplotlib (https://matplotlib.org/) -->\n<svg height=\"248.518125pt\" version=\"1.1\" viewBox=\"0 0 372.103125 248.518125\" width=\"372.103125pt\" xmlns=\"http://www.w3.org/2000/svg\" xmlns:xlink=\"http://www.w3.org/1999/xlink\">\n <metadata>\n  <rdf:RDF xmlns:cc=\"http://creativecommons.org/ns#\" xmlns:dc=\"http://purl.org/dc/elements/1.1/\" xmlns:rdf=\"http://www.w3.org/1999/02/22-rdf-syntax-ns#\">\n   <cc:Work>\n    <dc:type rdf:resource=\"http://purl.org/dc/dcmitype/StillImage\"/>\n    <dc:date>2020-07-25T23:47:34.532378</dc:date>\n    <dc:format>image/svg+xml</dc:format>\n    <dc:creator>\n     <cc:Agent>\n      <dc:title>Matplotlib v3.3.0, https://matplotlib.org/</dc:title>\n     </cc:Agent>\n    </dc:creator>\n   </cc:Work>\n  </rdf:RDF>\n </metadata>\n <defs>\n  <style type=\"text/css\">*{stroke-linecap:butt;stroke-linejoin:round;}</style>\n </defs>\n <g id=\"figure_1\">\n  <g id=\"patch_1\">\n   <path d=\"M 0 248.518125 \nL 372.103125 248.518125 \nL 372.103125 0 \nL 0 0 \nz\n\" style=\"fill:none;\"/>\n  </g>\n  <g id=\"axes_1\">\n   <g id=\"patch_2\">\n    <path d=\"M 30.103125 224.64 \nL 364.903125 224.64 \nL 364.903125 7.2 \nL 30.103125 7.2 \nz\n\" style=\"fill:#ffffff;\"/>\n   </g>\n   <g id=\"matplotlib.axis_1\">\n    <g id=\"xtick_1\">\n     <g id=\"line2d_1\">\n      <defs>\n       <path d=\"M 0 0 \nL 0 3.5 \n\" id=\"maf1925ff5a\" style=\"stroke:#000000;stroke-width:0.8;\"/>\n      </defs>\n      <g>\n       <use style=\"stroke:#000000;stroke-width:0.8;\" x=\"45.321307\" xlink:href=\"#maf1925ff5a\" y=\"224.64\"/>\n      </g>\n     </g>\n     <g id=\"text_1\">\n      <!-- 0.0 -->\n      <g transform=\"translate(37.369744 239.238437)scale(0.1 -0.1)\">\n       <defs>\n        <path d=\"M 31.78125 66.40625 \nQ 24.171875 66.40625 20.328125 58.90625 \nQ 16.5 51.421875 16.5 36.375 \nQ 16.5 21.390625 20.328125 13.890625 \nQ 24.171875 6.390625 31.78125 6.390625 \nQ 39.453125 6.390625 43.28125 13.890625 \nQ 47.125 21.390625 47.125 36.375 \nQ 47.125 51.421875 43.28125 58.90625 \nQ 39.453125 66.40625 31.78125 66.40625 \nz\nM 31.78125 74.21875 \nQ 44.046875 74.21875 50.515625 64.515625 \nQ 56.984375 54.828125 56.984375 36.375 \nQ 56.984375 17.96875 50.515625 8.265625 \nQ 44.046875 -1.421875 31.78125 -1.421875 \nQ 19.53125 -1.421875 13.0625 8.265625 \nQ 6.59375 17.96875 6.59375 36.375 \nQ 6.59375 54.828125 13.0625 64.515625 \nQ 19.53125 74.21875 31.78125 74.21875 \nz\n\" id=\"DejaVuSans-48\"/>\n        <path d=\"M 10.6875 12.40625 \nL 21 12.40625 \nL 21 0 \nL 10.6875 0 \nz\n\" id=\"DejaVuSans-46\"/>\n       </defs>\n       <use xlink:href=\"#DejaVuSans-48\"/>\n       <use x=\"63.623047\" xlink:href=\"#DejaVuSans-46\"/>\n       <use x=\"95.410156\" xlink:href=\"#DejaVuSans-48\"/>\n      </g>\n     </g>\n    </g>\n    <g id=\"xtick_2\">\n     <g id=\"line2d_2\">\n      <g>\n       <use style=\"stroke:#000000;stroke-width:0.8;\" x=\"106.194034\" xlink:href=\"#maf1925ff5a\" y=\"224.64\"/>\n      </g>\n     </g>\n     <g id=\"text_2\">\n      <!-- 0.2 -->\n      <g transform=\"translate(98.242472 239.238437)scale(0.1 -0.1)\">\n       <defs>\n        <path d=\"M 19.1875 8.296875 \nL 53.609375 8.296875 \nL 53.609375 0 \nL 7.328125 0 \nL 7.328125 8.296875 \nQ 12.9375 14.109375 22.625 23.890625 \nQ 32.328125 33.6875 34.8125 36.53125 \nQ 39.546875 41.84375 41.421875 45.53125 \nQ 43.3125 49.21875 43.3125 52.78125 \nQ 43.3125 58.59375 39.234375 62.25 \nQ 35.15625 65.921875 28.609375 65.921875 \nQ 23.96875 65.921875 18.8125 64.3125 \nQ 13.671875 62.703125 7.8125 59.421875 \nL 7.8125 69.390625 \nQ 13.765625 71.78125 18.9375 73 \nQ 24.125 74.21875 28.421875 74.21875 \nQ 39.75 74.21875 46.484375 68.546875 \nQ 53.21875 62.890625 53.21875 53.421875 \nQ 53.21875 48.921875 51.53125 44.890625 \nQ 49.859375 40.875 45.40625 35.40625 \nQ 44.1875 33.984375 37.640625 27.21875 \nQ 31.109375 20.453125 19.1875 8.296875 \nz\n\" id=\"DejaVuSans-50\"/>\n       </defs>\n       <use xlink:href=\"#DejaVuSans-48\"/>\n       <use x=\"63.623047\" xlink:href=\"#DejaVuSans-46\"/>\n       <use x=\"95.410156\" xlink:href=\"#DejaVuSans-50\"/>\n      </g>\n     </g>\n    </g>\n    <g id=\"xtick_3\">\n     <g id=\"line2d_3\">\n      <g>\n       <use style=\"stroke:#000000;stroke-width:0.8;\" x=\"167.066761\" xlink:href=\"#maf1925ff5a\" y=\"224.64\"/>\n      </g>\n     </g>\n     <g id=\"text_3\">\n      <!-- 0.4 -->\n      <g transform=\"translate(159.115199 239.238437)scale(0.1 -0.1)\">\n       <defs>\n        <path d=\"M 37.796875 64.3125 \nL 12.890625 25.390625 \nL 37.796875 25.390625 \nz\nM 35.203125 72.90625 \nL 47.609375 72.90625 \nL 47.609375 25.390625 \nL 58.015625 25.390625 \nL 58.015625 17.1875 \nL 47.609375 17.1875 \nL 47.609375 0 \nL 37.796875 0 \nL 37.796875 17.1875 \nL 4.890625 17.1875 \nL 4.890625 26.703125 \nz\n\" id=\"DejaVuSans-52\"/>\n       </defs>\n       <use xlink:href=\"#DejaVuSans-48\"/>\n       <use x=\"63.623047\" xlink:href=\"#DejaVuSans-46\"/>\n       <use x=\"95.410156\" xlink:href=\"#DejaVuSans-52\"/>\n      </g>\n     </g>\n    </g>\n    <g id=\"xtick_4\">\n     <g id=\"line2d_4\">\n      <g>\n       <use style=\"stroke:#000000;stroke-width:0.8;\" x=\"227.939489\" xlink:href=\"#maf1925ff5a\" y=\"224.64\"/>\n      </g>\n     </g>\n     <g id=\"text_4\">\n      <!-- 0.6 -->\n      <g transform=\"translate(219.987926 239.238437)scale(0.1 -0.1)\">\n       <defs>\n        <path d=\"M 33.015625 40.375 \nQ 26.375 40.375 22.484375 35.828125 \nQ 18.609375 31.296875 18.609375 23.390625 \nQ 18.609375 15.53125 22.484375 10.953125 \nQ 26.375 6.390625 33.015625 6.390625 \nQ 39.65625 6.390625 43.53125 10.953125 \nQ 47.40625 15.53125 47.40625 23.390625 \nQ 47.40625 31.296875 43.53125 35.828125 \nQ 39.65625 40.375 33.015625 40.375 \nz\nM 52.59375 71.296875 \nL 52.59375 62.3125 \nQ 48.875 64.0625 45.09375 64.984375 \nQ 41.3125 65.921875 37.59375 65.921875 \nQ 27.828125 65.921875 22.671875 59.328125 \nQ 17.53125 52.734375 16.796875 39.40625 \nQ 19.671875 43.65625 24.015625 45.921875 \nQ 28.375 48.1875 33.59375 48.1875 \nQ 44.578125 48.1875 50.953125 41.515625 \nQ 57.328125 34.859375 57.328125 23.390625 \nQ 57.328125 12.15625 50.6875 5.359375 \nQ 44.046875 -1.421875 33.015625 -1.421875 \nQ 20.359375 -1.421875 13.671875 8.265625 \nQ 6.984375 17.96875 6.984375 36.375 \nQ 6.984375 53.65625 15.1875 63.9375 \nQ 23.390625 74.21875 37.203125 74.21875 \nQ 40.921875 74.21875 44.703125 73.484375 \nQ 48.484375 72.75 52.59375 71.296875 \nz\n\" id=\"DejaVuSans-54\"/>\n       </defs>\n       <use xlink:href=\"#DejaVuSans-48\"/>\n       <use x=\"63.623047\" xlink:href=\"#DejaVuSans-46\"/>\n       <use x=\"95.410156\" xlink:href=\"#DejaVuSans-54\"/>\n      </g>\n     </g>\n    </g>\n    <g id=\"xtick_5\">\n     <g id=\"line2d_5\">\n      <g>\n       <use style=\"stroke:#000000;stroke-width:0.8;\" x=\"288.812216\" xlink:href=\"#maf1925ff5a\" y=\"224.64\"/>\n      </g>\n     </g>\n     <g id=\"text_5\">\n      <!-- 0.8 -->\n      <g transform=\"translate(280.860653 239.238437)scale(0.1 -0.1)\">\n       <defs>\n        <path d=\"M 31.78125 34.625 \nQ 24.75 34.625 20.71875 30.859375 \nQ 16.703125 27.09375 16.703125 20.515625 \nQ 16.703125 13.921875 20.71875 10.15625 \nQ 24.75 6.390625 31.78125 6.390625 \nQ 38.8125 6.390625 42.859375 10.171875 \nQ 46.921875 13.96875 46.921875 20.515625 \nQ 46.921875 27.09375 42.890625 30.859375 \nQ 38.875 34.625 31.78125 34.625 \nz\nM 21.921875 38.8125 \nQ 15.578125 40.375 12.03125 44.71875 \nQ 8.5 49.078125 8.5 55.328125 \nQ 8.5 64.0625 14.71875 69.140625 \nQ 20.953125 74.21875 31.78125 74.21875 \nQ 42.671875 74.21875 48.875 69.140625 \nQ 55.078125 64.0625 55.078125 55.328125 \nQ 55.078125 49.078125 51.53125 44.71875 \nQ 48 40.375 41.703125 38.8125 \nQ 48.828125 37.15625 52.796875 32.3125 \nQ 56.78125 27.484375 56.78125 20.515625 \nQ 56.78125 9.90625 50.3125 4.234375 \nQ 43.84375 -1.421875 31.78125 -1.421875 \nQ 19.734375 -1.421875 13.25 4.234375 \nQ 6.78125 9.90625 6.78125 20.515625 \nQ 6.78125 27.484375 10.78125 32.3125 \nQ 14.796875 37.15625 21.921875 38.8125 \nz\nM 18.3125 54.390625 \nQ 18.3125 48.734375 21.84375 45.5625 \nQ 25.390625 42.390625 31.78125 42.390625 \nQ 38.140625 42.390625 41.71875 45.5625 \nQ 45.3125 48.734375 45.3125 54.390625 \nQ 45.3125 60.0625 41.71875 63.234375 \nQ 38.140625 66.40625 31.78125 66.40625 \nQ 25.390625 66.40625 21.84375 63.234375 \nQ 18.3125 60.0625 18.3125 54.390625 \nz\n\" id=\"DejaVuSans-56\"/>\n       </defs>\n       <use xlink:href=\"#DejaVuSans-48\"/>\n       <use x=\"63.623047\" xlink:href=\"#DejaVuSans-46\"/>\n       <use x=\"95.410156\" xlink:href=\"#DejaVuSans-56\"/>\n      </g>\n     </g>\n    </g>\n    <g id=\"xtick_6\">\n     <g id=\"line2d_6\">\n      <g>\n       <use style=\"stroke:#000000;stroke-width:0.8;\" x=\"349.684943\" xlink:href=\"#maf1925ff5a\" y=\"224.64\"/>\n      </g>\n     </g>\n     <g id=\"text_6\">\n      <!-- 1.0 -->\n      <g transform=\"translate(341.733381 239.238437)scale(0.1 -0.1)\">\n       <defs>\n        <path d=\"M 12.40625 8.296875 \nL 28.515625 8.296875 \nL 28.515625 63.921875 \nL 10.984375 60.40625 \nL 10.984375 69.390625 \nL 28.421875 72.90625 \nL 38.28125 72.90625 \nL 38.28125 8.296875 \nL 54.390625 8.296875 \nL 54.390625 0 \nL 12.40625 0 \nz\n\" id=\"DejaVuSans-49\"/>\n       </defs>\n       <use xlink:href=\"#DejaVuSans-49\"/>\n       <use x=\"63.623047\" xlink:href=\"#DejaVuSans-46\"/>\n       <use x=\"95.410156\" xlink:href=\"#DejaVuSans-48\"/>\n      </g>\n     </g>\n    </g>\n   </g>\n   <g id=\"matplotlib.axis_2\">\n    <g id=\"ytick_1\">\n     <g id=\"line2d_7\">\n      <defs>\n       <path d=\"M 0 0 \nL -3.5 0 \n\" id=\"m342306f08d\" style=\"stroke:#000000;stroke-width:0.8;\"/>\n      </defs>\n      <g>\n       <use style=\"stroke:#000000;stroke-width:0.8;\" x=\"30.103125\" xlink:href=\"#m342306f08d\" y=\"214.756364\"/>\n      </g>\n     </g>\n     <g id=\"text_7\">\n      <!-- 0.0 -->\n      <g transform=\"translate(7.2 218.555582)scale(0.1 -0.1)\">\n       <use xlink:href=\"#DejaVuSans-48\"/>\n       <use x=\"63.623047\" xlink:href=\"#DejaVuSans-46\"/>\n       <use x=\"95.410156\" xlink:href=\"#DejaVuSans-48\"/>\n      </g>\n     </g>\n    </g>\n    <g id=\"ytick_2\">\n     <g id=\"line2d_8\">\n      <g>\n       <use style=\"stroke:#000000;stroke-width:0.8;\" x=\"30.103125\" xlink:href=\"#m342306f08d\" y=\"175.221818\"/>\n      </g>\n     </g>\n     <g id=\"text_8\">\n      <!-- 0.2 -->\n      <g transform=\"translate(7.2 179.021037)scale(0.1 -0.1)\">\n       <use xlink:href=\"#DejaVuSans-48\"/>\n       <use x=\"63.623047\" xlink:href=\"#DejaVuSans-46\"/>\n       <use x=\"95.410156\" xlink:href=\"#DejaVuSans-50\"/>\n      </g>\n     </g>\n    </g>\n    <g id=\"ytick_3\">\n     <g id=\"line2d_9\">\n      <g>\n       <use style=\"stroke:#000000;stroke-width:0.8;\" x=\"30.103125\" xlink:href=\"#m342306f08d\" y=\"135.687273\"/>\n      </g>\n     </g>\n     <g id=\"text_9\">\n      <!-- 0.4 -->\n      <g transform=\"translate(7.2 139.486491)scale(0.1 -0.1)\">\n       <use xlink:href=\"#DejaVuSans-48\"/>\n       <use x=\"63.623047\" xlink:href=\"#DejaVuSans-46\"/>\n       <use x=\"95.410156\" xlink:href=\"#DejaVuSans-52\"/>\n      </g>\n     </g>\n    </g>\n    <g id=\"ytick_4\">\n     <g id=\"line2d_10\">\n      <g>\n       <use style=\"stroke:#000000;stroke-width:0.8;\" x=\"30.103125\" xlink:href=\"#m342306f08d\" y=\"96.152727\"/>\n      </g>\n     </g>\n     <g id=\"text_10\">\n      <!-- 0.6 -->\n      <g transform=\"translate(7.2 99.951946)scale(0.1 -0.1)\">\n       <use xlink:href=\"#DejaVuSans-48\"/>\n       <use x=\"63.623047\" xlink:href=\"#DejaVuSans-46\"/>\n       <use x=\"95.410156\" xlink:href=\"#DejaVuSans-54\"/>\n      </g>\n     </g>\n    </g>\n    <g id=\"ytick_5\">\n     <g id=\"line2d_11\">\n      <g>\n       <use style=\"stroke:#000000;stroke-width:0.8;\" x=\"30.103125\" xlink:href=\"#m342306f08d\" y=\"56.618182\"/>\n      </g>\n     </g>\n     <g id=\"text_11\">\n      <!-- 0.8 -->\n      <g transform=\"translate(7.2 60.417401)scale(0.1 -0.1)\">\n       <use xlink:href=\"#DejaVuSans-48\"/>\n       <use x=\"63.623047\" xlink:href=\"#DejaVuSans-46\"/>\n       <use x=\"95.410156\" xlink:href=\"#DejaVuSans-56\"/>\n      </g>\n     </g>\n    </g>\n    <g id=\"ytick_6\">\n     <g id=\"line2d_12\">\n      <g>\n       <use style=\"stroke:#000000;stroke-width:0.8;\" x=\"30.103125\" xlink:href=\"#m342306f08d\" y=\"17.083636\"/>\n      </g>\n     </g>\n     <g id=\"text_12\">\n      <!-- 1.0 -->\n      <g transform=\"translate(7.2 20.882855)scale(0.1 -0.1)\">\n       <use xlink:href=\"#DejaVuSans-49\"/>\n       <use x=\"63.623047\" xlink:href=\"#DejaVuSans-46\"/>\n       <use x=\"95.410156\" xlink:href=\"#DejaVuSans-48\"/>\n      </g>\n     </g>\n    </g>\n   </g>\n   <g id=\"line2d_13\">\n    <path clip-path=\"url(#pba92ca74ea)\" d=\"M 45.321307 214.756364 \nL 45.432298 181.719724 \nL 45.433158 181.65512 \nL 45.543863 172.378454 \nL 45.546444 172.267417 \nL 45.657435 167.097114 \nL 45.66059 166.99819 \nL 45.771581 163.6489 \nL 45.776314 163.545938 \nL 45.887305 160.903249 \nL 45.892324 160.792212 \nL 46.003315 158.345352 \nL 46.010342 158.234315 \nL 46.121333 155.926757 \nL 46.127642 155.81572 \nL 46.238634 153.738312 \nL 46.245517 153.629293 \nL 46.356508 151.624564 \nL 46.365829 151.513527 \nL 46.47682 149.75308 \nL 46.482556 149.644062 \nL 46.593547 147.829106 \nL 46.601291 147.720087 \nL 46.712282 145.997999 \nL 46.718018 145.886962 \nL 46.828866 144.138628 \nL 46.835749 144.033647 \nL 46.835749 144.02961 \nL 46.94674 142.13188 \nL 46.953337 142.0269 \nL 47.063754 140.155416 \nL 47.072932 140.044378 \nL 47.183923 138.122423 \nL 47.192671 138.017442 \nL 47.303519 136.115675 \nL 47.308968 136.014732 \nL 47.419816 134.26438 \nL 47.42928 134.15738 \nL 47.540128 132.267726 \nL 47.547585 132.156689 \nL 47.658289 130.420468 \nL 47.663308 130.313469 \nL 47.774299 128.603494 \nL 47.778314 128.492456 \nL 47.889306 126.647217 \nL 47.897766 126.53618 \nL 48.008757 124.814092 \nL 48.015641 124.703054 \nL 48.126632 123.104117 \nL 48.134089 122.999136 \nL 48.24465 121.353764 \nL 48.253397 121.244746 \nL 48.363958 119.621581 \nL 48.375717 119.510544 \nL 48.486421 118.125606 \nL 48.495169 118.014568 \nL 48.60616 116.647799 \nL 48.616341 116.536762 \nL 48.727046 115.220465 \nL 48.737514 115.109427 \nL 48.848505 113.855715 \nL 48.858973 113.746696 \nL 48.969964 112.523267 \nL 48.979572 112.414248 \nL 49.090133 111.344252 \nL 49.103756 111.233214 \nL 49.214747 110.187444 \nL 49.228944 110.076407 \nL 49.339935 109.040731 \nL 49.357 108.929694 \nL 49.467848 107.908151 \nL 49.483335 107.797113 \nL 49.593896 106.890645 \nL 49.606658 106.779607 \nL 49.717076 105.915535 \nL 49.732133 105.804497 \nL 49.842837 104.998972 \nL 49.867072 104.887935 \nL 49.978063 104.171239 \nL 49.996275 104.064239 \nL 50.105689 103.44243 \nL 50.107266 103.44243 \nL 50.29684 102.338113 \nL 50.317633 102.227076 \nL 50.427907 101.619399 \nL 50.456301 101.508361 \nL 50.566575 100.892609 \nL 50.593821 100.78359 \nL 50.704812 100.198121 \nL 50.731341 100.087083 \nL 50.841902 99.606594 \nL 50.872589 99.497576 \nL 50.983437 98.990842 \nL 51.011974 98.879805 \nL 51.121388 98.40941 \nL 51.150784 98.298373 \nL 51.261346 97.882487 \nL 51.29232 97.77145 \nL 51.40116 97.387866 \nL 51.402737 97.387866 \nL 51.430987 97.278848 \nL 51.541118 96.854887 \nL 51.576251 96.74385 \nL 51.686812 96.364304 \nL 51.687099 96.364304 \nL 51.727394 96.253267 \nL 51.838385 95.873721 \nL 51.871224 95.762683 \nL 51.981641 95.354873 \nL 52.011612 95.243836 \nL 52.122316 94.898611 \nL 52.164046 94.787574 \nL 52.274176 94.458499 \nL 52.30472 94.347462 \nL 52.414995 94.024444 \nL 52.459018 93.913407 \nL 52.569579 93.608559 \nL 52.605716 93.497521 \nL 52.712549 93.156334 \nL 52.758723 93.045297 \nL 52.869428 92.716222 \nL 52.913165 92.605185 \nL 53.022579 92.247847 \nL 53.072482 92.136809 \nL 53.183473 91.813791 \nL 53.222908 91.702754 \nL 53.332895 91.381755 \nL 53.376919 91.270718 \nL 53.487623 90.971926 \nL 53.529496 90.860889 \nL 53.640487 90.582286 \nL 53.687235 90.471249 \nL 53.795932 90.18659 \nL 53.852001 90.075552 \nL 53.962562 89.815119 \nL 54.022073 89.704082 \nL 54.132491 89.479988 \nL 54.133064 89.479988 \nL 54.188273 89.368951 \nL 54.298691 89.082273 \nL 54.344866 88.971235 \nL 54.452989 88.710802 \nL 54.494288 88.599765 \nL 54.605136 88.385766 \nL 54.662496 88.274728 \nL 54.773487 88.038522 \nL 54.829269 87.927484 \nL 54.937679 87.701372 \nL 54.990594 87.590334 \nL 55.09886 87.35009 \nL 55.158371 87.239053 \nL 55.269362 87.053317 \nL 55.338911 86.94228 \nL 55.448612 86.697998 \nL 55.509987 86.586961 \nL 55.620978 86.391131 \nL 55.695833 86.280094 \nL 55.806394 86.086283 \nL 55.867625 85.975246 \nL 55.978473 85.747114 \nL 56.047305 85.636077 \nL 56.157292 85.440248 \nL 56.219528 85.32921 \nL 56.329945 85.119249 \nL 56.396052 85.008211 \nL 56.504176 84.812382 \nL 56.559958 84.701344 \nL 56.670806 84.53176 \nL 56.670949 84.53176 \nL 56.732324 84.420723 \nL 56.842885 84.257195 \nL 56.904547 84.146158 \nL 57.013961 83.960423 \nL 57.093261 83.849385 \nL 57.218019 83.657593 \nL 57.296171 83.546556 \nL 57.407163 83.381009 \nL 57.461654 83.271991 \nL 57.461654 83.269972 \nL 57.570638 83.07818 \nL 57.571498 83.07818 \nL 57.640043 82.967143 \nL 57.76265 82.79554 \nL 57.830478 82.684502 \nL 57.940465 82.516937 \nL 58.017328 82.4059 \nL 58.126741 82.238334 \nL 58.203173 82.127297 \nL 58.311297 81.96175 \nL 58.387155 81.850713 \nL 58.497142 81.705355 \nL 58.577876 81.594318 \nL 58.688581 81.463092 \nL 58.767164 81.352054 \nL 58.878012 81.186508 \nL 58.973659 81.07547 \nL 59.084507 80.926075 \nL 59.158644 80.815037 \nL 59.268488 80.675736 \nL 59.351517 80.564698 \nL 59.462221 80.389058 \nL 59.534781 80.27802 \nL 59.644625 80.106417 \nL 59.723925 79.99538 \nL 59.834773 79.843965 \nL 59.951214 79.732928 \nL 60.060484 79.589589 \nL 60.062205 79.589589 \nL 60.183808 79.430099 \nL 60.293938 79.32108 \nL 60.409088 79.173703 \nL 60.492117 79.062666 \nL 60.602678 78.880969 \nL 60.691872 78.769931 \nL 60.801716 78.644762 \nL 60.887756 78.533724 \nL 60.996166 78.402498 \nL 60.998317 78.402498 \nL 61.100417 78.291461 \nL 61.211265 78.170329 \nL 61.308634 78.059292 \nL 61.418908 77.940179 \nL 61.512978 77.829142 \nL 61.621388 77.693878 \nL 61.724922 77.58486 \nL 61.830178 77.45969 \nL 61.83577 77.45969 \nL 61.921236 77.348653 \nL 62.031797 77.209352 \nL 62.128592 77.098314 \nL 62.23901 76.971126 \nL 62.33394 76.860089 \nL 62.444931 76.759146 \nL 62.544594 76.648108 \nL 62.655585 76.528996 \nL 62.758259 76.417958 \nL 62.875417 76.319034 \nL 62.984687 76.207997 \nL 63.093097 76.080808 \nL 63.094244 76.080808 \nL 63.206239 75.969771 \nL 63.316514 75.858734 \nL 63.435392 75.747696 \nL 63.544232 75.63464 \nL 63.546383 75.63464 \nL 63.628981 75.523603 \nL 63.738825 75.416603 \nL 63.739973 75.416603 \nL 63.868889 75.305566 \nL 63.978733 75.206642 \nL 64.093166 75.095604 \nL 64.211757 74.980529 \nL 64.340673 74.869492 \nL 64.444638 74.774605 \nL 64.44937 74.774605 \nL 64.562225 74.665587 \nL 64.67293 74.562625 \nL 64.829809 74.451588 \nL 64.940227 74.364777 \nL 64.940657 74.364777 \nL 65.079037 74.253739 \nL 65.187304 74.152796 \nL 65.189312 74.152796 \nL 65.292416 74.041759 \nL 65.397241 73.961004 \nL 65.40183 73.961004 \nL 65.505508 73.849967 \nL 65.615352 73.777288 \nL 65.729928 73.666251 \nL 65.836043 73.5431 \nL 65.837621 73.5431 \nL 65.97973 73.432063 \nL 66.083264 73.357365 \nL 66.090004 73.357365 \nL 66.203003 73.246328 \nL 66.322455 73.129234 \nL 66.431725 73.018196 \nL 66.549026 72.933404 \nL 66.66647 72.822367 \nL 66.776314 72.721424 \nL 66.94108 72.610387 \nL 67.051785 72.527613 \nL 67.168512 72.418595 \nL 67.276492 72.315633 \nL 67.278499 72.315633 \nL 67.429642 72.204596 \nL 67.537192 72.111728 \nL 67.54049 72.111728 \nL 67.661806 72.000691 \nL 67.763477 71.905804 \nL 67.77122 71.905804 \nL 67.898559 71.794767 \nL 68.003241 71.722088 \nL 68.009407 71.722088 \nL 68.107062 71.61105 \nL 68.217336 71.544428 \nL 68.218053 71.544428 \nL 68.378374 71.433391 \nL 68.486497 71.362731 \nL 68.487931 71.362731 \nL 68.623587 71.251693 \nL 68.733574 71.164882 \nL 68.854604 71.053845 \nL 68.960289 70.956939 \nL 68.965308 70.956939 \nL 69.112723 70.845902 \nL 69.222854 70.763129 \nL 69.387906 70.652091 \nL 69.49732 70.559224 \nL 69.498037 70.559224 \nL 69.689762 70.448187 \nL 69.794731 70.3533 \nL 69.800754 70.3533 \nL 69.964946 70.242263 \nL 70.075937 70.169584 \nL 70.242424 70.058546 \nL 70.352698 69.94549 \nL 70.353415 69.94549 \nL 70.512445 69.834453 \nL 70.617414 69.753698 \nL 70.623437 69.753698 \nL 70.832083 69.642661 \nL 70.940923 69.565944 \nL 70.942214 69.565944 \nL 71.100527 69.454907 \nL 71.207933 69.353964 \nL 71.210228 69.353964 \nL 71.382164 69.242927 \nL 71.489283 69.172266 \nL 71.491004 69.172266 \nL 71.639279 69.061229 \nL 71.755289 68.990569 \nL 71.891662 68.879532 \nL 72.008103 68.804834 \nL 72.131283 68.693796 \nL 72.237972 68.625155 \nL 72.241127 68.625155 \nL 72.412633 68.514118 \nL 72.522907 68.471722 \nL 72.523624 68.471722 \nL 72.681077 68.360684 \nL 72.79006 68.296081 \nL 72.92586 68.185043 \nL 73.033409 68.110346 \nL 73.036707 68.110346 \nL 73.218251 67.999308 \nL 73.333688 67.940761 \nL 73.530432 67.829724 \nL 73.638842 67.763102 \nL 73.641423 67.763102 \nL 73.787691 67.652064 \nL 73.906712 67.543046 \nL 74.061154 67.432008 \nL 74.171284 67.35731 \nL 74.369176 67.246273 \nL 74.479737 67.179651 \nL 74.480024 67.179651 \nL 74.662715 67.068613 \nL 74.771555 66.991897 \nL 74.773419 66.991897 \nL 74.932162 66.880859 \nL 75.049176 66.798086 \nL 75.250223 66.687049 \nL 75.354474 66.626483 \nL 75.360353 66.626483 \nL 75.496009 66.515445 \nL 75.604276 66.432672 \nL 75.606857 66.432672 \nL 75.79428 66.321635 \nL 75.902834 66.242899 \nL 75.904124 66.242899 \nL 76.078498 66.131862 \nL 76.185187 66.057164 \nL 76.189059 66.057164 \nL 76.340202 65.946127 \nL 76.45019 65.865372 \nL 76.450907 65.865372 \nL 76.665146 65.754335 \nL 76.77585 65.689731 \nL 76.94793 65.578694 \nL 77.049743 65.51409 \nL 77.057917 65.51409 \nL 77.26642 65.403053 \nL 77.374113 65.330374 \nL 77.377268 65.330374 \nL 77.555657 65.219337 \nL 77.658761 65.150696 \nL 77.666648 65.150696 \nL 77.890781 65.039658 \nL 77.998044 64.966979 \nL 78.000339 64.966979 \nL 78.218019 64.855942 \nL 78.328724 64.77115 \nL 78.328867 64.77115 \nL 78.56691 64.660112 \nL 78.672883 64.581377 \nL 78.676898 64.581377 \nL 78.852562 64.470339 \nL 78.963553 64.401698 \nL 79.176502 64.290661 \nL 79.291508 64.22202 \nL 79.493128 64.110982 \nL 79.603689 64.038303 \nL 79.841445 63.927266 \nL 79.950572 63.864681 \nL 79.95172 63.864681 \nL 80.152479 63.753644 \nL 80.262466 63.68904 \nL 80.476562 63.578003 \nL 80.586836 63.517437 \nL 80.734107 63.4064 \nL 80.838932 63.366022 \nL 80.844955 63.366022 \nL 81.037254 63.254985 \nL 81.147241 63.204514 \nL 81.306988 63.093476 \nL 81.416689 63.034929 \nL 81.417693 63.034929 \nL 81.580882 62.923892 \nL 81.691156 62.861307 \nL 81.938663 62.752289 \nL 82.048077 62.671534 \nL 82.048507 62.671534 \nL 82.265614 62.560497 \nL 82.369436 62.497912 \nL 82.374168 62.497912 \nL 82.62526 62.386875 \nL 82.735248 62.332366 \nL 82.735965 62.332366 \nL 82.894421 62.221328 \nL 83.003692 62.172876 \nL 83.005412 62.172876 \nL 83.265252 62.061838 \nL 83.363481 62.013386 \nL 83.376244 62.013386 \nL 83.59163 61.902348 \nL 83.695594 61.84582 \nL 83.698319 61.84582 \nL 83.978235 61.734783 \nL 84.088509 61.680274 \nL 84.089083 61.680274 \nL 84.305329 61.569236 \nL 84.415173 61.522802 \nL 84.416177 61.522802 \nL 84.658809 61.411765 \nL 84.76263 61.353218 \nL 84.769513 61.353218 \nL 85.015444 61.242181 \nL 85.121273 61.18969 \nL 85.125861 61.18969 \nL 85.362471 61.078653 \nL 85.465145 61.007993 \nL 85.473462 61.007993 \nL 85.677949 60.896956 \nL 85.798979 60.832352 \nL 86.035731 60.721315 \nL 86.134964 60.674881 \nL 86.145289 60.674881 \nL 86.374871 60.563844 \nL 86.483855 60.51741 \nL 86.485862 60.51741 \nL 86.699098 60.406372 \nL 86.802489 60.359939 \nL 86.808368 60.359939 \nL 86.994931 60.248901 \nL 87.100473 60.19843 \nL 87.105062 60.19843 \nL 87.364902 60.087392 \nL 87.483063 60.042977 \nL 87.857192 59.93194 \nL 87.962161 59.883487 \nL 87.96804 59.883487 \nL 88.214831 59.77245 \nL 88.324101 59.699771 \nL 88.524143 59.588734 \nL 88.61807 59.546338 \nL 88.634991 59.546338 \nL 88.87791 59.4353 \nL 88.992773 59.380791 \nL 89.331483 59.269754 \nL 89.442474 59.213226 \nL 89.69328 59.102188 \nL 89.80843 59.047679 \nL 90.075439 58.936642 \nL 90.186287 58.888189 \nL 90.397945 58.777152 \nL 90.512951 58.724661 \nL 90.745402 58.613624 \nL 90.836891 58.569209 \nL 90.854673 58.569209 \nL 91.129139 58.458172 \nL 91.236259 58.419813 \nL 91.239127 58.419813 \nL 91.522771 58.308776 \nL 91.619996 58.274455 \nL 91.633762 58.274455 \nL 91.919701 58.163418 \nL 92.020654 58.114965 \nL 92.027967 58.114965 \nL 92.34316 58.003928 \nL 92.453147 57.975664 \nL 92.454007 57.975664 \nL 92.718149 57.864627 \nL 92.822114 57.808098 \nL 92.82871 57.808098 \nL 93.121245 57.697061 \nL 93.216033 57.650627 \nL 93.229369 57.650627 \nL 93.552448 57.53959 \nL 93.660571 57.4871 \nL 93.663439 57.4871 \nL 93.999854 57.376062 \nL 94.107691 57.313478 \nL 94.109125 57.313478 \nL 94.433064 57.20244 \nL 94.541905 57.164082 \nL 94.543482 57.164082 \nL 94.829421 57.053044 \nL 94.939695 57.00863 \nL 94.940412 57.00863 \nL 95.188206 56.897592 \nL 95.301348 56.857215 \nL 95.596321 56.746178 \nL 95.70129 56.699744 \nL 95.706882 56.699744 \nL 96.017056 56.588706 \nL 96.125752 56.540254 \nL 96.127903 56.540254 \nL 96.355622 56.429216 \nL 96.473066 56.378745 \nL 96.726166 56.267708 \nL 96.829414 56.213198 \nL 96.835723 56.213198 \nL 97.152206 56.102161 \nL 97.265922 56.061784 \nL 97.557166 55.950746 \nL 97.667728 55.892199 \nL 97.90362 55.781162 \nL 98.014037 55.736747 \nL 98.014611 55.736747 \nL 98.357909 55.62571 \nL 98.448108 55.601483 \nL 98.46847 55.601483 \nL 98.761436 55.490446 \nL 98.871567 55.460163 \nL 99.184608 55.349126 \nL 99.29818 55.314805 \nL 99.621976 55.203768 \nL 99.727232 55.159353 \nL 99.732824 55.159353 \nL 100.032099 55.048316 \nL 100.145385 55.020052 \nL 100.486962 54.909014 \nL 100.588633 54.860562 \nL 100.59781 54.860562 \nL 100.916874 54.749524 \nL 101.027722 54.707128 \nL 101.313374 54.596091 \nL 101.418055 54.541581 \nL 101.424365 54.541581 \nL 101.740131 54.430544 \nL 101.848111 54.38411 \nL 101.850979 54.38411 \nL 102.146095 54.273073 \nL 102.255509 54.220583 \nL 102.566686 54.109545 \nL 102.675239 54.081281 \nL 102.676816 54.081281 \nL 102.99545 53.970244 \nL 103.093966 53.929867 \nL 103.106441 53.929867 \nL 103.428087 53.818829 \nL 103.538074 53.770377 \nL 103.539078 53.770377 \nL 103.819711 53.659339 \nL 103.926257 53.623 \nL 103.930559 53.623 \nL 104.33853 53.511962 \nL 104.448661 53.467547 \nL 104.449378 53.467547 \nL 104.812179 53.35651 \nL 104.922883 53.320171 \nL 105.247396 53.211152 \nL 105.247396 53.209133 \nL 105.361973 53.154624 \nL 105.720328 53.043587 \nL 105.831033 52.999172 \nL 105.831319 52.999172 \nL 106.1283 52.888134 \nL 106.242016 52.845738 \nL 106.589186 52.734701 \nL 106.698169 52.690286 \nL 106.699603 52.690286 \nL 107.033007 52.579249 \nL 107.142851 52.526758 \nL 107.529743 52.415721 \nL 107.640304 52.373325 \nL 107.940583 52.262288 \nL 108.048563 52.227967 \nL 108.051431 52.227967 \nL 108.384548 52.11693 \nL 108.488226 52.078571 \nL 108.495252 52.078571 \nL 108.841849 51.967534 \nL 108.947391 51.937251 \nL 108.951693 51.937251 \nL 109.249104 51.826214 \nL 109.352065 51.79795 \nL 109.359521 51.79795 \nL 109.707982 51.686912 \nL 109.814385 51.662686 \nL 109.818973 51.662686 \nL 110.242145 51.551649 \nL 110.348978 51.51329 \nL 110.352706 51.51329 \nL 110.694428 51.402253 \nL 110.805132 51.363894 \nL 110.805419 51.363894 \nL 111.206364 51.252857 \nL 111.312766 51.208442 \nL 111.317355 51.208442 \nL 111.675854 51.097405 \nL 111.79043 51.048952 \nL 112.239414 50.937915 \nL 112.327461 50.905613 \nL 112.350262 50.905613 \nL 112.699727 50.794576 \nL 112.812439 50.76833 \nL 113.112717 50.657293 \nL 113.225716 50.62701 \nL 113.662511 50.515973 \nL 113.755434 50.487709 \nL 113.773215 50.487709 \nL 114.110921 50.376671 \nL 114.225498 50.354464 \nL 114.570804 50.243427 \nL 114.673047 50.207087 \nL 114.681651 50.207087 \nL 115.035131 50.098069 \nL 115.035131 50.09605 \nL 115.147843 50.063748 \nL 115.527709 49.952711 \nL 115.641711 49.912333 \nL 116.035343 49.801296 \nL 116.15121 49.775051 \nL 116.633606 49.664014 \nL 116.743306 49.645844 \nL 116.744454 49.645844 \nL 117.222261 49.534806 \nL 117.338701 49.502505 \nL 117.761873 49.391467 \nL 117.866842 49.361184 \nL 117.872865 49.361184 \nL 118.165973 49.250147 \nL 118.270942 49.219864 \nL 118.273953 49.219864 \nL 118.664717 49.108827 \nL 118.770115 49.0846 \nL 118.775565 49.0846 \nL 119.068817 48.973563 \nL 119.179664 48.939243 \nL 119.535439 48.828205 \nL 119.646143 48.795903 \nL 120.155785 48.684866 \nL 120.261614 48.654583 \nL 120.266346 48.654583 \nL 120.699126 48.543546 \nL 120.803808 48.507206 \nL 120.809974 48.507206 \nL 121.192994 48.396169 \nL 121.300544 48.363867 \nL 121.303125 48.363867 \nL 121.710666 48.25283 \nL 121.815921 48.224566 \nL 121.821657 48.224566 \nL 122.221312 48.113528 \nL 122.33216 48.067095 \nL 122.751173 47.956057 \nL 122.866897 47.927793 \nL 123.310431 47.816756 \nL 123.419558 47.782435 \nL 123.420992 47.782435 \nL 123.835704 47.671398 \nL 123.95114 47.647172 \nL 124.345059 47.538153 \nL 124.345059 47.536134 \nL 124.464224 47.485663 \nL 124.849252 47.374625 \nL 124.959096 47.328192 \nL 124.959813 47.328192 \nL 125.384419 47.217154 \nL 125.485229 47.178796 \nL 125.49541 47.178796 \nL 125.83541 47.067758 \nL 125.951851 47.037476 \nL 126.35509 46.926438 \nL 126.468376 46.88808 \nL 126.876061 46.777042 \nL 126.990207 46.736665 \nL 127.509026 46.625628 \nL 127.617436 46.589288 \nL 128.058103 46.478251 \nL 128.156475 46.454025 \nL 128.169094 46.454025 \nL 128.513827 46.342987 \nL 128.627829 46.300591 \nL 129.081402 46.189554 \nL 129.194544 46.159271 \nL 129.612697 46.048234 \nL 129.721968 46.017951 \nL 129.722685 46.017951 \nL 130.131804 45.906913 \nL 130.245806 45.862498 \nL 130.662955 45.751461 \nL 130.765773 45.715122 \nL 130.773803 45.715122 \nL 131.274985 45.604084 \nL 131.384685 45.581877 \nL 131.385689 45.581877 \nL 131.821337 45.470839 \nL 131.934192 45.428443 \nL 132.327824 45.317406 \nL 132.438528 45.289142 \nL 132.438672 45.289142 \nL 132.9258 45.178105 \nL 133.03378 45.159935 \nL 133.53152 45.048898 \nL 133.640647 45.020633 \nL 133.64122 45.020633 \nL 134.048905 44.909596 \nL 134.158176 44.88537 \nL 134.159179 44.88537 \nL 134.638277 44.774332 \nL 134.752567 44.729918 \nL 135.177029 44.61888 \nL 135.285009 44.580522 \nL 135.28802 44.580522 \nL 135.829497 44.469484 \nL 135.937764 44.447277 \nL 135.940488 44.447277 \nL 136.497165 44.33624 \nL 136.599696 44.316051 \nL 136.608013 44.316051 \nL 137.023872 44.205014 \nL 137.124108 44.170693 \nL 137.134433 44.170693 \nL 137.642497 44.059656 \nL 137.734273 44.035429 \nL 137.753488 44.035429 \nL 138.292241 43.924392 \nL 138.395058 43.89209 \nL 138.402945 43.89209 \nL 138.894662 43.781053 \nL 138.974105 43.752789 \nL 139.00551 43.752789 \nL 139.572368 43.641751 \nL 139.666008 43.615506 \nL 139.683073 43.615506 \nL 140.194148 43.504469 \nL 140.286785 43.480243 \nL 140.304996 43.480243 \nL 140.876443 43.369205 \nL 140.964778 43.351036 \nL 140.987435 43.351036 \nL 141.536942 43.239998 \nL 141.636891 43.207696 \nL 141.645782 43.207696 \nL 142.071822 43.096659 \nL 142.181092 43.068395 \nL 142.182813 43.068395 \nL 142.665496 42.957358 \nL 142.774623 42.925056 \nL 142.776487 42.925056 \nL 143.210988 42.814019 \nL 143.319541 42.785754 \nL 143.321979 42.785754 \nL 143.721777 42.674717 \nL 143.834776 42.648472 \nL 144.232996 42.537435 \nL 144.336531 42.515227 \nL 144.343987 42.515227 \nL 144.827531 42.40419 \nL 144.912423 42.394095 \nL 144.938379 42.394095 \nL 145.460353 42.283058 \nL 145.57034 42.250756 \nL 146.003837 42.139719 \nL 146.111673 42.111455 \nL 146.114541 42.111455 \nL 146.660607 42.000418 \nL 146.770881 41.97821 \nL 146.771455 41.97821 \nL 147.277798 41.867173 \nL 147.391227 41.83689 \nL 147.85957 41.725853 \nL 147.973143 41.689513 \nL 148.512038 41.578476 \nL 148.625467 41.546174 \nL 149.167374 41.435137 \nL 149.278222 41.41091 \nL 149.967543 41.299873 \nL 150.079969 41.281703 \nL 150.626321 41.170666 \nL 150.743335 41.136345 \nL 151.263732 41.025308 \nL 151.379168 40.999063 \nL 151.8597 40.888025 \nL 151.972556 40.863799 \nL 152.47259 40.752762 \nL 152.582004 40.73863 \nL 152.583151 40.73863 \nL 153.36095 40.627592 \nL 153.468499 40.599328 \nL 153.471941 40.599328 \nL 154.120967 40.488291 \nL 154.233679 40.468102 \nL 154.832516 40.357065 \nL 154.941213 40.328801 \nL 154.943507 40.328801 \nL 155.406831 40.217763 \nL 155.517249 40.193537 \nL 155.517535 40.193537 \nL 156.029902 40.0825 \nL 156.143188 40.052217 \nL 156.562631 39.941179 \nL 156.675773 39.914934 \nL 157.370974 39.803897 \nL 157.483543 39.785727 \nL 157.966226 39.676709 \nL 158.077791 39.634313 \nL 158.585425 39.523275 \nL 158.698711 39.490973 \nL 159.2964 39.379936 \nL 159.413127 39.347634 \nL 159.848918 39.236597 \nL 159.935962 39.204295 \nL 159.959623 39.204295 \nL 160.517303 39.093258 \nL 160.619977 39.060956 \nL 160.626574 39.060956 \nL 161.287932 38.949919 \nL 161.402222 38.933768 \nL 161.996183 38.822731 \nL 162.105166 38.796485 \nL 162.107174 38.796485 \nL 162.783876 38.685448 \nL 162.884399 38.659203 \nL 162.894868 38.659203 \nL 163.516505 38.548165 \nL 163.585193 38.525958 \nL 163.627352 38.525958 \nL 164.145168 38.414921 \nL 164.244114 38.388675 \nL 164.255872 38.388675 \nL 164.846965 38.277638 \nL 164.961828 38.247355 \nL 165.548619 38.136318 \nL 165.663912 38.112091 \nL 166.259307 38.001054 \nL 166.372163 37.974809 \nL 166.961822 37.863772 \nL 167.063635 37.845602 \nL 167.071809 37.845602 \nL 167.670072 37.734565 \nL 167.780346 37.712357 \nL 168.349355 37.60132 \nL 168.423636 37.589207 \nL 168.460203 37.589207 \nL 169.163148 37.478169 \nL 169.273996 37.449905 \nL 169.883013 37.338868 \nL 169.99888 37.312623 \nL 170.613347 37.201585 \nL 170.716595 37.177359 \nL 170.724052 37.177359 \nL 171.32088 37.066322 \nL 171.420687 37.042095 \nL 171.431585 37.042095 \nL 172.004179 36.931058 \nL 172.112159 36.904813 \nL 172.115027 36.904813 \nL 172.662957 36.793775 \nL 172.727773 36.779643 \nL 172.773805 36.779643 \nL 173.273122 36.668606 \nL 173.384686 36.654474 \nL 174.009048 36.543437 \nL 174.09939 36.531323 \nL 174.119179 36.531323 \nL 174.660799 36.420286 \nL 174.775232 36.402116 \nL 175.260926 36.291079 \nL 175.373208 36.27089 \nL 176.009185 36.159853 \nL 176.092213 36.143702 \nL 176.120176 36.143702 \nL 176.868578 36.032665 \nL 176.977705 36.010457 \nL 176.979282 36.010457 \nL 177.885568 35.89942 \nL 177.996272 35.871156 \nL 177.996559 35.871156 \nL 178.650461 35.760119 \nL 178.743527 35.745987 \nL 178.760448 35.745987 \nL 179.480744 35.634949 \nL 179.583705 35.612742 \nL 179.591162 35.612742 \nL 180.246067 35.501704 \nL 180.341571 35.481516 \nL 180.356341 35.481516 \nL 181.137152 35.370478 \nL 181.248 35.344233 \nL 181.912513 35.233196 \nL 182.02207 35.217045 \nL 182.023361 35.217045 \nL 182.641986 35.106008 \nL 182.744374 35.091876 \nL 182.752834 35.091876 \nL 183.421937 34.980838 \nL 183.527765 34.956612 \nL 183.532354 34.956612 \nL 184.141515 34.845575 \nL 184.235012 34.819329 \nL 184.25179 34.819329 \nL 184.798285 34.708292 \nL 184.897518 34.692141 \nL 184.909133 34.692141 \nL 185.528619 34.581104 \nL 185.619965 34.562934 \nL 185.639467 34.562934 \nL 186.279889 34.451897 \nL 186.356751 34.433727 \nL 186.390594 34.433727 \nL 186.990147 34.32269 \nL 187.094112 34.300482 \nL 187.100995 34.300482 \nL 187.653657 34.189445 \nL 187.754467 34.171275 \nL 187.764504 34.171275 \nL 188.452392 34.060238 \nL 188.567685 34.033992 \nL 189.277943 33.922955 \nL 189.390655 33.900748 \nL 190.034519 33.78971 \nL 190.13877 33.769522 \nL 190.14422 33.769522 \nL 190.826084 33.658484 \nL 190.938796 33.636277 \nL 191.699244 33.52524 \nL 191.803065 33.4889 \nL 191.809232 33.4889 \nL 192.538992 33.377863 \nL 192.64353 33.353636 \nL 192.64984 33.353636 \nL 193.282662 33.242599 \nL 193.39523 33.22241 \nL 194.165142 33.111373 \nL 194.262511 33.091184 \nL 194.27556 33.091184 \nL 194.968753 32.980147 \nL 195.062824 32.947845 \nL 195.079745 32.947845 \nL 195.911462 32.836808 \nL 196.023457 32.822676 \nL 196.608384 32.711639 \nL 196.720522 32.695488 \nL 197.568874 32.58445 \nL 197.680869 32.572337 \nL 198.283434 32.4613 \nL 198.395715 32.447168 \nL 199.174662 32.33613 \nL 199.289238 32.317961 \nL 200.066463 32.206923 \nL 200.170571 32.184716 \nL 200.177455 32.184716 \nL 200.812428 32.073679 \nL 200.92643 32.057528 \nL 201.632243 31.94649 \nL 201.744381 31.930339 \nL 202.520459 31.819302 \nL 202.625284 31.807189 \nL 202.631451 31.807189 \nL 203.378562 31.696152 \nL 203.484678 31.688076 \nL 203.488836 31.688076 \nL 204.109183 31.577039 \nL 204.221321 31.564926 \nL 204.911216 31.453888 \nL 205.01217 31.425624 \nL 205.022064 31.425624 \nL 205.646282 31.314587 \nL 205.754836 31.290361 \nL 205.756843 31.290361 \nL 206.359838 31.179323 \nL 206.477283 31.161153 \nL 207.17277 31.050116 \nL 207.285626 31.027909 \nL 208.220447 30.916871 \nL 208.311793 30.890626 \nL 208.331152 30.890626 \nL 209.143797 30.779589 \nL 209.254788 30.765457 \nL 209.892199 30.654419 \nL 210.004768 30.63625 \nL 210.510681 30.525212 \nL 210.62282 30.51108 \nL 211.278012 30.400043 \nL 211.376528 30.375817 \nL 211.388717 30.375817 \nL 212.337878 30.264779 \nL 212.446001 30.246609 \nL 212.446718 30.246609 \nL 213.079684 30.135572 \nL 213.186373 30.125478 \nL 213.190675 30.125478 \nL 213.896057 30.01444 \nL 213.947825 30.006365 \nL 214.006618 30.006365 \nL 214.812237 29.895328 \nL 214.915198 29.875139 \nL 214.922941 29.875139 \nL 215.703035 29.764102 \nL 215.804992 29.745932 \nL 215.814026 29.745932 \nL 216.667683 29.634895 \nL 216.723753 29.620763 \nL 216.777958 29.620763 \nL 217.788924 29.509725 \nL 217.885576 29.495593 \nL 217.899916 29.495593 \nL 218.636559 29.384556 \nL 218.726327 29.364367 \nL 218.74755 29.364367 \nL 219.567222 29.25333 \nL 219.682372 29.231122 \nL 220.589087 29.120085 \nL 220.694342 29.09384 \nL 220.700078 29.09384 \nL 221.489493 28.982803 \nL 221.589299 28.96867 \nL 221.60034 28.96867 \nL 222.469915 28.857633 \nL 222.565993 28.839463 \nL 222.580189 28.839463 \nL 223.6065 28.728426 \nL 223.695838 28.710256 \nL 223.717204 28.710256 \nL 224.620191 28.599219 \nL 224.724012 28.577011 \nL 224.731039 28.577011 \nL 225.660841 28.465974 \nL 225.769538 28.445786 \nL 225.771689 28.445786 \nL 226.576304 28.334748 \nL 226.666933 28.318597 \nL 226.687152 28.318597 \nL 227.581391 28.20756 \nL 227.694677 28.179296 \nL 228.500869 28.068259 \nL 228.613868 28.044032 \nL 229.487028 27.932995 \nL 229.599453 27.916844 \nL 230.264683 27.805807 \nL 230.376535 27.793693 \nL 231.11748 27.682656 \nL 231.221588 27.666505 \nL 231.228185 27.666505 \nL 231.96067 27.555468 \nL 232.053879 27.547392 \nL 232.07037 27.547392 \nL 232.854766 27.436355 \nL 232.952277 27.408091 \nL 232.96461 27.408091 \nL 233.789444 27.297054 \nL 233.888533 27.280903 \nL 233.899575 27.280903 \nL 234.724839 27.169865 \nL 234.811022 27.14362 \nL 234.835543 27.14362 \nL 235.915485 27.032583 \nL 236.015291 27.012394 \nL 236.026476 27.012394 \nL 236.879417 26.901357 \nL 236.991985 26.881168 \nL 238.059021 26.770131 \nL 238.16356 26.749942 \nL 238.169726 26.749942 \nL 239.07429 26.638905 \nL 239.186859 26.618716 \nL 240.356712 26.507679 \nL 240.448488 26.495566 \nL 240.467416 26.495566 \nL 241.466338 26.384529 \nL 241.57188 26.376453 \nL 241.577185 26.376453 \nL 242.509282 26.265416 \nL 242.621421 26.251284 \nL 243.534302 26.140246 \nL 243.647588 26.126114 \nL 244.944493 26.015077 \nL 245.053907 25.990851 \nL 245.055341 25.990851 \nL 246.20096 25.879813 \nL 246.313528 25.861644 \nL 247.449683 25.750606 \nL 247.55924 25.724361 \nL 247.560387 25.724361 \nL 248.354104 25.613324 \nL 248.456778 25.599192 \nL 248.464378 25.599192 \nL 249.52367 25.488154 \nL 249.604548 25.476041 \nL 249.634375 25.476041 \nL 250.561166 25.365004 \nL 250.660829 25.338759 \nL 250.672157 25.338759 \nL 251.61673 25.227721 \nL 251.727578 25.21157 \nL 252.627696 25.100533 \nL 252.676596 25.08842 \nL 252.738258 25.08842 \nL 253.716816 24.977382 \nL 253.744492 24.971326 \nL 253.827377 24.971326 \nL 255.027488 24.860289 \nL 255.109942 24.844138 \nL 255.138335 24.844138 \nL 256.385481 24.7331 \nL 256.42678 24.725025 \nL 256.496329 24.725025 \nL 257.328333 24.613988 \nL 257.420252 24.601874 \nL 257.439181 24.601874 \nL 258.380742 24.490837 \nL 258.491877 24.474686 \nL 259.420389 24.363649 \nL 259.53224 24.351536 \nL 260.489862 24.240498 \nL 260.579917 24.22031 \nL 260.600567 24.22031 \nL 261.61139 24.109272 \nL 261.718366 24.09514 \nL 261.720947 24.09514 \nL 262.940417 23.984103 \nL 263.049687 23.969971 \nL 263.050691 23.969971 \nL 264.205057 23.858934 \nL 264.309596 23.842783 \nL 264.315905 23.842783 \nL 265.421659 23.731745 \nL 265.533941 23.715594 \nL 266.923769 23.604557 \nL 267.005937 23.592444 \nL 267.034474 23.592444 \nL 268.34027 23.481407 \nL 268.441653 23.467275 \nL 268.448393 23.467275 \nL 269.560886 23.356237 \nL 269.657251 23.33403 \nL 269.66987 23.33403 \nL 270.854637 23.222992 \nL 270.929635 23.212898 \nL 270.965198 23.212898 \nL 271.950209 23.101861 \nL 272.050589 23.083691 \nL 272.061057 23.083691 \nL 273.099843 22.972654 \nL 273.207393 22.952465 \nL 273.210835 22.952465 \nL 274.287909 22.841428 \nL 274.392447 22.829314 \nL 274.39847 22.829314 \nL 275.448728 22.718277 \nL 275.555274 22.708183 \nL 275.559289 22.708183 \nL 276.603094 22.597145 \nL 276.68096 22.587051 \nL 276.713798 22.587051 \nL 277.869885 22.476014 \nL 277.982167 22.461882 \nL 278.895909 22.350844 \nL 278.984673 22.342769 \nL 279.006757 22.342769 \nL 280.361309 22.231732 \nL 280.473304 22.219618 \nL 281.613904 22.108581 \nL 281.717868 22.094449 \nL 281.723031 22.094449 \nL 283.078443 21.983412 \nL 283.16606 21.975336 \nL 283.189291 21.975336 \nL 284.191223 21.864299 \nL 284.303362 21.852186 \nL 285.712262 21.741148 \nL 285.801027 21.727016 \nL 285.82225 21.727016 \nL 287.035697 21.615979 \nL 287.147548 21.607904 \nL 288.501957 21.496866 \nL 288.594736 21.476678 \nL 288.612088 21.476678 \nL 289.84432 21.36564 \nL 289.955885 21.359584 \nL 291.168901 21.248546 \nL 291.256805 21.234414 \nL 291.278172 21.234414 \nL 292.807384 21.123377 \nL 292.915651 21.107226 \nL 294.081632 20.996189 \nL 294.170827 20.990132 \nL 294.19248 20.990132 \nL 295.266256 20.879095 \nL 295.32591 20.869001 \nL 295.377104 20.869001 \nL 296.824435 20.757963 \nL 296.926822 20.743831 \nL 296.934423 20.743831 \nL 298.723188 20.632794 \nL 298.796179 20.6227 \nL 298.833463 20.6227 \nL 300.13467 20.511662 \nL 300.246665 20.499549 \nL 301.878695 20.388512 \nL 301.971331 20.37438 \nL 301.986962 20.37438 \nL 303.2473 20.263342 \nL 303.321294 20.24921 \nL 303.355854 20.24921 \nL 304.967377 20.138173 \nL 305.044383 20.128079 \nL 305.077078 20.128079 \nL 306.435358 20.017041 \nL 306.506341 20.006947 \nL 306.545059 20.006947 \nL 308.059932 19.89591 \nL 308.169059 19.887834 \nL 309.640768 19.776797 \nL 309.712038 19.762665 \nL 309.748748 19.762665 \nL 311.098711 19.651627 \nL 311.180449 19.641533 \nL 311.204253 19.641533 \nL 312.764727 19.530496 \nL 312.869408 19.52242 \nL 314.178073 19.413402 \nL 314.289064 19.403308 \nL 315.806661 19.29227 \nL 315.914784 19.282176 \nL 315.915645 19.282176 \nL 317.716313 19.171139 \nL 317.801348 19.163063 \nL 317.824292 19.163063 \nL 319.317225 19.052026 \nL 319.414163 19.047988 \nL 319.427786 19.047988 \nL 320.78033 18.936951 \nL 320.891465 18.926856 \nL 322.680804 18.815819 \nL 322.78778 18.809762 \nL 324.734859 18.698725 \nL 324.844847 18.680555 \nL 324.845707 18.680555 \nL 326.55546 18.569518 \nL 326.658707 18.553367 \nL 326.663296 18.553367 \nL 328.962421 18.44233 \nL 329.025086 18.434254 \nL 329.072695 18.434254 \nL 330.877952 18.323217 \nL 330.942195 18.319179 \nL 330.985071 18.319179 \nL 332.732681 18.208142 \nL 332.83091 18.19401 \nL 332.836072 18.19401 \nL 334.683775 18.082973 \nL 334.773256 18.074897 \nL 334.792472 18.074897 \nL 336.652794 17.96386 \nL 336.752887 17.953765 \nL 338.436684 17.842728 \nL 338.520286 17.826577 \nL 338.542656 17.826577 \nL 340.474105 17.71554 \nL 340.585956 17.701408 \nL 342.341453 17.59037 \nL 342.411289 17.582295 \nL 342.447569 17.582295 \nL 344.351771 17.471258 \nL 344.432649 17.461163 \nL 344.461759 17.461163 \nL 346.121035 17.350126 \nL 346.203059 17.335994 \nL 346.227867 17.335994 \nL 347.681939 17.224957 \nL 347.769125 17.2189 \nL 347.787194 17.2189 \nL 349.301493 17.107863 \nL 349.356988 17.09575 \nL 349.684943 17.083636 \nL 349.684943 17.083636 \n\" style=\"fill:none;stroke:#1f77b4;stroke-linecap:square;stroke-width:1.5;\"/>\n   </g>\n   <g id=\"line2d_14\">\n    <path clip-path=\"url(#pba92ca74ea)\" d=\"M 45.321307 214.756364 \nL 349.684943 17.083636 \n\" style=\"fill:none;stroke:#000000;stroke-dasharray:5.55,2.4;stroke-dashoffset:0;stroke-width:1.5;\"/>\n   </g>\n   <g id=\"patch_3\">\n    <path d=\"M 30.103125 224.64 \nL 30.103125 7.2 \n\" style=\"fill:none;stroke:#000000;stroke-linecap:square;stroke-linejoin:miter;stroke-width:0.8;\"/>\n   </g>\n   <g id=\"patch_4\">\n    <path d=\"M 364.903125 224.64 \nL 364.903125 7.2 \n\" style=\"fill:none;stroke:#000000;stroke-linecap:square;stroke-linejoin:miter;stroke-width:0.8;\"/>\n   </g>\n   <g id=\"patch_5\">\n    <path d=\"M 30.103125 224.64 \nL 364.903125 224.64 \n\" style=\"fill:none;stroke:#000000;stroke-linecap:square;stroke-linejoin:miter;stroke-width:0.8;\"/>\n   </g>\n   <g id=\"patch_6\">\n    <path d=\"M 30.103125 7.2 \nL 364.903125 7.2 \n\" style=\"fill:none;stroke:#000000;stroke-linecap:square;stroke-linejoin:miter;stroke-width:0.8;\"/>\n   </g>\n  </g>\n </g>\n <defs>\n  <clipPath id=\"pba92ca74ea\">\n   <rect height=\"217.44\" width=\"334.8\" x=\"30.103125\" y=\"7.2\"/>\n  </clipPath>\n </defs>\n</svg>\n",
      "image/png": "[encoded data removed]"
     },
     "metadata": {
      "needs_background": "light"
     }
    }
   ],
   "source": [
    "from sklearn.metrics import roc_curve\n",
    "\n",
    "# fpr = False positive rate\n",
    "# tpr = True positive rate\n",
    "fpr, tpr, thr = roc_curve(y_test, y_preds)\n",
    "plt.plot(fpr, tpr, label='ROC')\n",
    "plt.plot([0,1],[0,1], 'k--')\n",
    "plt.show()"
   ]
  },
  {
   "cell_type": "markdown",
   "metadata": {},
   "source": [
    "# Monte Carlo Dropout Implementation"
   ]
  },
  {
   "cell_type": "code",
   "execution_count": 29,
   "metadata": {},
   "outputs": [],
   "source": [
    "X_test_numpy = X_test.drop(columns=['Weights']).to_numpy()"
   ]
  },
  {
   "cell_type": "code",
   "execution_count": 30,
   "metadata": {},
   "outputs": [],
   "source": [
    "MC_y_preds = np.stack([model.predict(X_test_numpy, batch_size=1024) for samples in range(100)])\n"
   ]
  },
  {
   "cell_type": "code",
   "execution_count": 1,
   "metadata": {},
   "outputs": [
    {
     "output_type": "error",
     "ename": "NameError",
     "evalue": "name 'MC_y_preds' is not defined",
     "traceback": [
      "\u001b[0;31m---------------------------------------------------------------------------\u001b[0m",
      "\u001b[0;31mNameError\u001b[0m                                 Traceback (most recent call last)",
      "\u001b[0;32m<ipython-input-1-8bf887be98ab>\u001b[0m in \u001b[0;36m<module>\u001b[0;34m\u001b[0m\n\u001b[0;32m----> 1\u001b[0;31m \u001b[0mMC_y_preds\u001b[0m \u001b[0;34m=\u001b[0m \u001b[0mMC_y_preds\u001b[0m\u001b[0;34m.\u001b[0m\u001b[0mmean\u001b[0m\u001b[0;34m(\u001b[0m\u001b[0maxis\u001b[0m\u001b[0;34m=\u001b[0m\u001b[0;36m0\u001b[0m\u001b[0;34m)\u001b[0m\u001b[0;34m\u001b[0m\u001b[0;34m\u001b[0m\u001b[0m\n\u001b[0m",
      "\u001b[0;31mNameError\u001b[0m: name 'MC_y_preds' is not defined"
     ]
    }
   ],
   "source": [
    "MC_y_preds = MC_y_preds.mean(axis=0)"
   ]
  },
  {
   "cell_type": "markdown",
   "metadata": {},
   "source": [
    "## Metrics"
   ]
  },
  {
   "cell_type": "code",
   "execution_count": 2,
   "metadata": {},
   "outputs": [
    {
     "output_type": "error",
     "ename": "NameError",
     "evalue": "name 'confusion_matrix' is not defined",
     "traceback": [
      "\u001b[0;31m---------------------------------------------------------------------------\u001b[0m",
      "\u001b[0;31mNameError\u001b[0m                                 Traceback (most recent call last)",
      "\u001b[0;32m<ipython-input-2-75a8fc98464f>\u001b[0m in \u001b[0;36m<module>\u001b[0;34m\u001b[0m\n\u001b[0;32m----> 1\u001b[0;31m \u001b[0mconfusion_matrix\u001b[0m\u001b[0;34m(\u001b[0m\u001b[0my_test\u001b[0m\u001b[0;34m.\u001b[0m\u001b[0mvalues\u001b[0m\u001b[0;34m,\u001b[0m \u001b[0mMC_y_preds\u001b[0m\u001b[0;34m.\u001b[0m\u001b[0mround\u001b[0m\u001b[0;34m(\u001b[0m\u001b[0;34m)\u001b[0m\u001b[0;34m)\u001b[0m\u001b[0;34m\u001b[0m\u001b[0;34m\u001b[0m\u001b[0m\n\u001b[0m",
      "\u001b[0;31mNameError\u001b[0m: name 'confusion_matrix' is not defined"
     ]
    }
   ],
   "source": [
    "confusion_matrix(y_test.values, MC_y_preds.round())"
   ]
  },
  {
   "cell_type": "markdown",
   "metadata": {},
   "source": [
    "Plotting Roc Curve"
   ]
  },
  {
   "cell_type": "code",
   "execution_count": 3,
   "metadata": {},
   "outputs": [
    {
     "output_type": "error",
     "ename": "NameError",
     "evalue": "name 'roc_curve' is not defined",
     "traceback": [
      "\u001b[0;31m---------------------------------------------------------------------------\u001b[0m",
      "\u001b[0;31mNameError\u001b[0m                                 Traceback (most recent call last)",
      "\u001b[0;32m<ipython-input-3-5235df193dec>\u001b[0m in \u001b[0;36m<module>\u001b[0;34m\u001b[0m\n\u001b[0;32m----> 1\u001b[0;31m \u001b[0mfpr\u001b[0m\u001b[0;34m,\u001b[0m \u001b[0mtpr\u001b[0m\u001b[0;34m,\u001b[0m \u001b[0mthr\u001b[0m \u001b[0;34m=\u001b[0m \u001b[0mroc_curve\u001b[0m\u001b[0;34m(\u001b[0m\u001b[0my_test\u001b[0m\u001b[0;34m,\u001b[0m \u001b[0mMC_y_preds\u001b[0m\u001b[0;34m)\u001b[0m\u001b[0;34m\u001b[0m\u001b[0;34m\u001b[0m\u001b[0m\n\u001b[0m\u001b[1;32m      2\u001b[0m \u001b[0;34m\u001b[0m\u001b[0m\n\u001b[1;32m      3\u001b[0m \u001b[0mplt\u001b[0m\u001b[0;34m.\u001b[0m\u001b[0mplot\u001b[0m\u001b[0;34m(\u001b[0m\u001b[0mfpr\u001b[0m\u001b[0;34m,\u001b[0m \u001b[0mtpr\u001b[0m\u001b[0;34m,\u001b[0m \u001b[0mlabel\u001b[0m\u001b[0;34m=\u001b[0m\u001b[0;34m'ROC'\u001b[0m\u001b[0;34m)\u001b[0m\u001b[0;34m\u001b[0m\u001b[0;34m\u001b[0m\u001b[0m\n\u001b[1;32m      4\u001b[0m \u001b[0mplt\u001b[0m\u001b[0;34m.\u001b[0m\u001b[0mplot\u001b[0m\u001b[0;34m(\u001b[0m\u001b[0;34m[\u001b[0m\u001b[0;36m0\u001b[0m\u001b[0;34m,\u001b[0m\u001b[0;36m1\u001b[0m\u001b[0;34m]\u001b[0m\u001b[0;34m,\u001b[0m\u001b[0;34m[\u001b[0m\u001b[0;36m0\u001b[0m\u001b[0;34m,\u001b[0m\u001b[0;36m1\u001b[0m\u001b[0;34m]\u001b[0m\u001b[0;34m,\u001b[0m \u001b[0;34m'k--'\u001b[0m\u001b[0;34m)\u001b[0m\u001b[0;34m\u001b[0m\u001b[0;34m\u001b[0m\u001b[0m\n\u001b[1;32m      5\u001b[0m \u001b[0mplt\u001b[0m\u001b[0;34m.\u001b[0m\u001b[0mshow\u001b[0m\u001b[0;34m(\u001b[0m\u001b[0;34m)\u001b[0m\u001b[0;34m\u001b[0m\u001b[0;34m\u001b[0m\u001b[0m\n",
      "\u001b[0;31mNameError\u001b[0m: name 'roc_curve' is not defined"
     ]
    }
   ],
   "source": [
    "fpr, tpr, thr = roc_curve(y_test, MC_y_preds)\n",
    "\n",
    "plt.plot(fpr, tpr, label='ROC')\n",
    "plt.plot([0,1],[0,1], 'k--')\n",
    "plt.show()"
   ]
  },
  {
   "cell_type": "code",
   "execution_count": null,
   "metadata": {},
   "outputs": [],
   "source": []
  }
 ],
 "metadata": {
  "kernelspec": {
   "display_name": "Python 3.8.2 64-bit",
   "language": "python",
   "name": "python38264bitff958a225bde47eaa72e9bcc83229c22"
  },
  "language_info": {
   "codemirror_mode": {
    "name": "ipython",
    "version": 3
   },
   "file_extension": ".py",
   "mimetype": "text/x-python",
   "name": "python",
   "nbconvert_exporter": "python",
   "pygments_lexer": "ipython3",
   "version": "3.8.2-final"
  }
 },
 "nbformat": 4,
 "nbformat_minor": 2
}